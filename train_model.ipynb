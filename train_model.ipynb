{
 "cells": [
  {
   "cell_type": "code",
   "execution_count": 1,
   "metadata": {},
   "outputs": [
    {
     "data": {
      "text/plain": [
       "<function torch.random.seed() -> int>"
      ]
     },
     "execution_count": 1,
     "metadata": {},
     "output_type": "execute_result"
    }
   ],
   "source": [
    "# Just run this block. Please do not modify the following code.\n",
    "import math\n",
    "import time\n",
    "import io\n",
    "import numpy as np\n",
    "import csv\n",
    "from IPython.display import Image\n",
    "\n",
    "# Pytorch package\n",
    "import torch\n",
    "import torch.nn as nn\n",
    "import torch.optim as optim\n",
    "\n",
    "# Torchtest package\n",
    "# import torchtext\n",
    "# from torchtext.datasets import Multi30k\n",
    "from torch.utils.data import DataLoader\n",
    "# from torchtext.data.utils import get_tokenizer\n",
    "from collections import Counter\n",
    "# from torchtext.vocab import vocab\n",
    "# from torchtext.utils import download_from_url, extract_archive\n",
    "from torch.nn.utils.rnn import pad_sequence\n",
    "from torch.optim import Adam\n",
    "\n",
    "# Tqdm progress bar\n",
    "from tqdm import tqdm_notebook, tqdm\n",
    "\n",
    "# Code provide to you for training and evaluation\n",
    "\n",
    "# for auto-reloading external modules\n",
    "# see http://stackoverflow.com/questions/1907993/autoreload-of-modules-in-ipython\n",
    "%load_ext autoreload\n",
    "%autoreload 2\n",
    "\n",
    "torch.seed"
   ]
  },
  {
   "cell_type": "code",
   "execution_count": 2,
   "metadata": {},
   "outputs": [
    {
     "name": "stdout",
     "output_type": "stream",
     "text": [
      "You are using device: mps\n"
     ]
    }
   ],
   "source": [
    "# Check device availability\n",
    "device = ''\n",
    "if torch.cuda.is_available():\n",
    "    device = 'cuda'\n",
    "elif torch.backends.mps.is_available():\n",
    "    device = 'mps'\n",
    "else:\n",
    "    device = 'cpu'\n",
    "device = torch.device(device)\n",
    "print(\"You are using device: %s\" % device)"
   ]
  },
  {
   "cell_type": "markdown",
   "metadata": {},
   "source": [
    "# Training, evaluation, and plotting loss curves"
   ]
  },
  {
   "cell_type": "code",
   "execution_count": 3,
   "metadata": {},
   "outputs": [],
   "source": [
    "# Code provide to you for training and evaluation\n",
    "from utils import train\n",
    "from utils import plot_curves\n",
    "from Model import Model\n",
    "\n",
    "\n",
    "def train_and_plot(model, randomCNN, a_S, optimizer, scheduler, criterion, train_loader, filename, epochs, device='cpu', style_loss_param=10000):\n",
    "    train_loss_history = []\n",
    "\n",
    "    for epoch_idx in range(epochs):\n",
    "        print(\"-----------------------------------\")\n",
    "        print(\"Epoch %d\" % (epoch_idx+1))\n",
    "        print(\"-----------------------------------\")\n",
    "\n",
    "        train_loss, avg_train_loss, train_total_losses = train(model, randomCNN, a_S, train_loader, optimizer, criterion, device=device, style_loss_param=style_loss_param)\n",
    "        scheduler.step(train_loss)\n",
    "\n",
    "        train_loss_history.append(avg_train_loss)\n",
    "\n",
    "        print(\"Training Loss: %.4f. L1: %.4f. L2: %.4f. L3 (not used): %.4f. Style Loss: %.4f\" % (avg_train_loss, train_total_losses[0], train_total_losses[1], train_total_losses[2], train_total_losses[3]))        \n",
    "\n",
    "    plot_curves(train_loss_history, filename)\n"
   ]
  },
  {
   "cell_type": "code",
   "execution_count": 4,
   "metadata": {},
   "outputs": [],
   "source": [
    "source_file = \"examples/Joe Nichols.mp3\" #'dataset/uvr-mdx-net-split/vocals_chunks/008  Nico & Vinz - Am I Wrong_(Vocals)_UVR-MDX-NET-Inst_HQ_3-chunk-11.mp3'\n",
    "target_file = \"examples/Avicii.mp3\" #'dataset/uvr-mdx-net-split/vocals_chunks/073  Taylor Swift - Red_(Vocals)_UVR-MDX-NET-Inst_HQ_3-chunk-13.mp3'"
   ]
  },
  {
   "cell_type": "code",
   "execution_count": 6,
   "metadata": {},
   "outputs": [
    {
     "name": "stderr",
     "output_type": "stream",
     "text": [
      "/opt/homebrew/anaconda3/envs/cs7643-finalproject-v2/lib/python3.10/site-packages/resemblyzer/voice_encoder.py:43: FutureWarning: You are using `torch.load` with `weights_only=False` (the current default value), which uses the default pickle module implicitly. It is possible to construct malicious pickle data which will execute arbitrary code during unpickling (See https://github.com/pytorch/pytorch/blob/main/SECURITY.md#untrusted-models for more details). In a future release, the default value for `weights_only` will be flipped to `True`. This limits the functions that could be executed during unpickling. Arbitrary objects will no longer be allowed to be loaded via this mode unless they are explicitly allowlisted by the user via `torch.serialization.add_safe_globals`. We recommend you start setting `weights_only=True` for any use case where you don't have full control of the loaded file. Please open an issue on GitHub for any issues related to this experimental feature.\n",
      "  checkpoint = torch.load(weights_fpath, map_location=\"cpu\")\n"
     ]
    },
    {
     "name": "stdout",
     "output_type": "stream",
     "text": [
      "Loaded the voice encoder model on cpu in 0.00 seconds.\n"
     ]
    }
   ],
   "source": [
    "# THIS MAY FAIL FIRST TIME, JUST RUN IT AGAIN\n",
    "\n",
    "# import necessary libraries\n",
    "from resemblyzer import preprocess_wav, VoiceEncoder\n",
    "from  pathlib import Path \n",
    "from tqdm import tqdm \n",
    "import numpy as np \n",
    "from IPython.display import Audio \n",
    "from itertools import groupby\n",
    "import heapq\n",
    "import torchaudio as ta\n",
    "from os import listdir\n",
    "from os.path import isfile, join, basename\n",
    "from  pathlib import Path \n",
    "import numpy as np\n",
    "import torch\n",
    "import librosa\n",
    "import soundfile as sf\n",
    "\n",
    "n_ftt = 510\n",
    "win_length = n_ftt\n",
    "hop_length = int(n_ftt / 2)\n",
    "\n",
    "transform = ta.transforms.Spectrogram(n_ftt)\n",
    "\n",
    "\n",
    "source = ta.load(source_file)\n",
    "source_mono = torch.mean(source[0],0,False)\n",
    "target = ta.load(target_file)\n",
    "target_mono = torch.mean(target[0],0,False)\n",
    "#print(mono.shape)\n",
    "\n",
    "#print(f)\n",
    "source_wav = preprocess_wav(source_file)\n",
    "target_wav = preprocess_wav(target_file)\n",
    "# print(wav)\n",
    "\n",
    "#Get style encoding\n",
    "encoder = VoiceEncoder()\n",
    "source_embed = encoder.embed_utterance(source_wav)\n",
    "target_embed = encoder.embed_utterance(target_wav)\n",
    "\n",
    "# #Get Spectrogram\n",
    "spec_source = transform(source_mono).unsqueeze(0)\n",
    "spec_target = transform(target_mono).unsqueeze(0).unsqueeze(0).to(device)\n",
    "\n",
    "# Get Sample Rate\n",
    "\n",
    "_, samplerate_source = sf.read(source_file)\n",
    "_, samplerate_target = sf.read(target_file)\n",
    "if samplerate_source != samplerate_target:\n",
    "    raise(\"Sample rates must be the same!\")\n",
    "samplerate = samplerate_source\n",
    "\n"
   ]
  },
  {
   "cell_type": "code",
   "execution_count": 7,
   "metadata": {},
   "outputs": [
    {
     "name": "stdout",
     "output_type": "stream",
     "text": [
      "Spec Source:  torch.Size([1, 256, 1730])\n",
      "Spec Target:  torch.Size([1, 1, 256, 1730])\n",
      "Embed Source:  (256,)\n",
      "Embed Target:  (256,)\n",
      "SR:  44100\n"
     ]
    }
   ],
   "source": [
    "print(\"Spec Source: \", spec_source.shape)\n",
    "print(\"Spec Target: \", spec_target.shape)\n",
    "print(\"Embed Source: \", source_embed.shape)\n",
    "print(\"Embed Target: \", target_embed.shape)\n",
    "print(\"SR: \", samplerate)"
   ]
  },
  {
   "cell_type": "code",
   "execution_count": 12,
   "metadata": {},
   "outputs": [
    {
     "name": "stdout",
     "output_type": "stream",
     "text": [
      "1\n",
      "2\n",
      "torch.Size([256, 1730])\n",
      "(256,)\n"
     ]
    }
   ],
   "source": [
    "import numpy as np\n",
    "# Example usage:\n",
    "source_style = source_embed\n",
    "target_style = target_embed\n",
    "\n",
    "dataList = []\n",
    "\n",
    "for i in range(0,spec_source.shape[0]):\n",
    "    dataList.append((spec_source[i,:,:],target_style))\n",
    "\n",
    "print(len(dataList))\n",
    "print(len(dataList[0]))\n",
    "print(dataList[0][0].shape)\n",
    "print(dataList[0][1].shape)"
   ]
  },
  {
   "cell_type": "code",
   "execution_count": 13,
   "metadata": {},
   "outputs": [
    {
     "name": "stdout",
     "output_type": "stream",
     "text": [
      "torch.Size([1, 1, 256, 1730])\n"
     ]
    }
   ],
   "source": [
    "from torch.autograd import Variable\n",
    "from RandomCNN import RandomCNN\n",
    "\n",
    "model = Model().to(device)\n",
    "\n",
    "randomCNN = RandomCNN().to(device)\n",
    "randomCNN.eval()\n",
    "\n",
    "a_S_var = Variable(spec_target, requires_grad=False).float()\n",
    "print(a_S_var.shape)\n",
    "a_S = randomCNN(a_S_var)"
   ]
  },
  {
   "cell_type": "code",
   "execution_count": 14,
   "metadata": {},
   "outputs": [
    {
     "name": "stdout",
     "output_type": "stream",
     "text": [
      "-----------------------------------\n",
      "Epoch 1\n",
      "-----------------------------------\n"
     ]
    },
    {
     "name": "stderr",
     "output_type": "stream",
     "text": [
      "Training: 100%|##########| 1/1 [00:01<00:00,  1.80s/it, loss=1.92e+3]\n"
     ]
    },
    {
     "name": "stdout",
     "output_type": "stream",
     "text": [
      "Training Loss: 1919.6121. L1: 793.1991. L2: 793.2816. L3 (not used): 1045.4984. Style Loss: 333.1313\n",
      "-----------------------------------\n",
      "Epoch 2\n",
      "-----------------------------------\n"
     ]
    },
    {
     "name": "stderr",
     "output_type": "stream",
     "text": [
      "Training: 100%|##########| 1/1 [00:01<00:00,  1.66s/it, loss=1.92e+3]\n"
     ]
    },
    {
     "name": "stdout",
     "output_type": "stream",
     "text": [
      "Training Loss: 1916.2435. L1: 792.8471. L2: 790.6984. L3 (not used): 1242.3037. Style Loss: 332.6981\n",
      "-----------------------------------\n",
      "Epoch 3\n",
      "-----------------------------------\n"
     ]
    },
    {
     "name": "stderr",
     "output_type": "stream",
     "text": [
      "Training: 100%|##########| 1/1 [00:01<00:00,  1.64s/it, loss=1.91e+3]\n"
     ]
    },
    {
     "name": "stdout",
     "output_type": "stream",
     "text": [
      "Training Loss: 1911.7393. L1: 792.4167. L2: 787.8410. L3 (not used): 1080.6481. Style Loss: 331.4814\n",
      "-----------------------------------\n",
      "Epoch 4\n",
      "-----------------------------------\n"
     ]
    },
    {
     "name": "stderr",
     "output_type": "stream",
     "text": [
      "Training: 100%|##########| 1/1 [00:01<00:00,  1.64s/it, loss=1.91e+3]\n"
     ]
    },
    {
     "name": "stdout",
     "output_type": "stream",
     "text": [
      "Training Loss: 1906.3607. L1: 791.9467. L2: 785.2720. L3 (not used): 926.9768. Style Loss: 329.1420\n",
      "-----------------------------------\n",
      "Epoch 5\n",
      "-----------------------------------\n"
     ]
    },
    {
     "name": "stderr",
     "output_type": "stream",
     "text": [
      "Training: 100%|##########| 1/1 [00:01<00:00,  1.68s/it, loss=1.9e+3]\n"
     ]
    },
    {
     "name": "stdout",
     "output_type": "stream",
     "text": [
      "Training Loss: 1899.8057. L1: 791.4478. L2: 782.9926. L3 (not used): 865.8668. Style Loss: 325.3653\n",
      "-----------------------------------\n",
      "Epoch 6\n",
      "-----------------------------------\n"
     ]
    },
    {
     "name": "stderr",
     "output_type": "stream",
     "text": [
      "Training: 100%|##########| 1/1 [00:01<00:00,  1.63s/it, loss=1.89e+3]\n"
     ]
    },
    {
     "name": "stdout",
     "output_type": "stream",
     "text": [
      "Training Loss: 1891.7271. L1: 790.9197. L2: 781.0241. L3 (not used): 812.6769. Style Loss: 319.7832\n",
      "-----------------------------------\n",
      "Epoch 7\n",
      "-----------------------------------\n"
     ]
    },
    {
     "name": "stderr",
     "output_type": "stream",
     "text": [
      "Training: 100%|##########| 1/1 [00:01<00:00,  1.65s/it, loss=1.88e+3]\n"
     ]
    },
    {
     "name": "stdout",
     "output_type": "stream",
     "text": [
      "Training Loss: 1881.3613. L1: 790.3320. L2: 779.1663. L3 (not used): 767.4046. Style Loss: 311.8631\n",
      "-----------------------------------\n",
      "Epoch 8\n",
      "-----------------------------------\n"
     ]
    },
    {
     "name": "stderr",
     "output_type": "stream",
     "text": [
      "Training: 100%|##########| 1/1 [00:01<00:00,  1.63s/it, loss=1.87e+3]\n"
     ]
    },
    {
     "name": "stdout",
     "output_type": "stream",
     "text": [
      "Training Loss: 1867.8933. L1: 789.6649. L2: 777.3339. L3 (not used): 806.4598. Style Loss: 300.8946\n",
      "-----------------------------------\n",
      "Epoch 9\n",
      "-----------------------------------\n"
     ]
    },
    {
     "name": "stderr",
     "output_type": "stream",
     "text": [
      "Training: 100%|##########| 1/1 [00:01<00:00,  1.72s/it, loss=1.85e+3]\n"
     ]
    },
    {
     "name": "stdout",
     "output_type": "stream",
     "text": [
      "Training Loss: 1850.3757. L1: 788.9050. L2: 775.5142. L3 (not used): 817.3916. Style Loss: 285.9566\n",
      "-----------------------------------\n",
      "Epoch 10\n",
      "-----------------------------------\n"
     ]
    },
    {
     "name": "stderr",
     "output_type": "stream",
     "text": [
      "Training: 100%|##########| 1/1 [00:01<00:00,  1.66s/it, loss=1.83e+3]\n"
     ]
    },
    {
     "name": "stdout",
     "output_type": "stream",
     "text": [
      "Training Loss: 1827.6608. L1: 788.0292. L2: 773.6527. L3 (not used): 796.1615. Style Loss: 265.9788\n",
      "-----------------------------------\n",
      "Epoch 11\n",
      "-----------------------------------\n"
     ]
    },
    {
     "name": "stderr",
     "output_type": "stream",
     "text": [
      "Training: 100%|##########| 1/1 [00:01<00:00,  1.68s/it, loss=1.8e+3]\n"
     ]
    },
    {
     "name": "stdout",
     "output_type": "stream",
     "text": [
      "Training Loss: 1798.7163. L1: 787.0056. L2: 771.7443. L3 (not used): 792.0285. Style Loss: 239.9664\n",
      "-----------------------------------\n",
      "Epoch 12\n",
      "-----------------------------------\n"
     ]
    },
    {
     "name": "stderr",
     "output_type": "stream",
     "text": [
      "Training: 100%|##########| 1/1 [00:01<00:00,  1.66s/it, loss=1.76e+3]\n"
     ]
    },
    {
     "name": "stdout",
     "output_type": "stream",
     "text": [
      "Training Loss: 1763.4214. L1: 785.7994. L2: 769.7556. L3 (not used): 834.8425. Style Loss: 207.8665\n",
      "-----------------------------------\n",
      "Epoch 13\n",
      "-----------------------------------\n"
     ]
    },
    {
     "name": "stderr",
     "output_type": "stream",
     "text": [
      "Training: 100%|##########| 1/1 [00:01<00:00,  1.65s/it, loss=1.72e+3]\n"
     ]
    },
    {
     "name": "stdout",
     "output_type": "stream",
     "text": [
      "Training Loss: 1724.5220. L1: 784.3825. L2: 767.6174. L3 (not used): 863.2454. Style Loss: 172.5221\n",
      "-----------------------------------\n",
      "Epoch 14\n",
      "-----------------------------------\n"
     ]
    },
    {
     "name": "stderr",
     "output_type": "stream",
     "text": [
      "Training: 100%|##########| 1/1 [00:01<00:00,  1.63s/it, loss=1.69e+3]\n"
     ]
    },
    {
     "name": "stdout",
     "output_type": "stream",
     "text": [
      "Training Loss: 1691.0792. L1: 782.7682. L2: 765.3198. L3 (not used): 886.0167. Style Loss: 142.9912\n",
      "-----------------------------------\n",
      "Epoch 15\n",
      "-----------------------------------\n"
     ]
    },
    {
     "name": "stderr",
     "output_type": "stream",
     "text": [
      "Training: 100%|##########| 1/1 [00:01<00:00,  1.64s/it, loss=1.68e+3]\n"
     ]
    },
    {
     "name": "stdout",
     "output_type": "stream",
     "text": [
      "Training Loss: 1678.6252. L1: 781.1262. L2: 763.0110. L3 (not used): 898.2230. Style Loss: 134.4880\n",
      "-----------------------------------\n",
      "Epoch 16\n",
      "-----------------------------------\n"
     ]
    },
    {
     "name": "stderr",
     "output_type": "stream",
     "text": [
      "Training: 100%|##########| 1/1 [00:01<00:00,  1.63s/it, loss=1.68e+3]\n"
     ]
    },
    {
     "name": "stdout",
     "output_type": "stream",
     "text": [
      "Training Loss: 1681.0200. L1: 780.0881. L2: 761.2875. L3 (not used): 919.4660. Style Loss: 139.6445\n",
      "-----------------------------------\n",
      "Epoch 17\n",
      "-----------------------------------\n"
     ]
    },
    {
     "name": "stderr",
     "output_type": "stream",
     "text": [
      "Training: 100%|##########| 1/1 [00:01<00:00,  1.65s/it, loss=1.67e+3]\n"
     ]
    },
    {
     "name": "stdout",
     "output_type": "stream",
     "text": [
      "Training Loss: 1670.1377. L1: 779.9188. L2: 760.4431. L3 (not used): 959.4943. Style Loss: 129.7758\n",
      "-----------------------------------\n",
      "Epoch 18\n",
      "-----------------------------------\n"
     ]
    },
    {
     "name": "stderr",
     "output_type": "stream",
     "text": [
      "Training: 100%|##########| 1/1 [00:01<00:00,  1.64s/it, loss=1.65e+3]\n"
     ]
    },
    {
     "name": "stdout",
     "output_type": "stream",
     "text": [
      "Training Loss: 1650.7589. L1: 780.2902. L2: 760.0938. L3 (not used): 1007.7850. Style Loss: 110.3749\n",
      "-----------------------------------\n",
      "Epoch 19\n",
      "-----------------------------------\n"
     ]
    },
    {
     "name": "stderr",
     "output_type": "stream",
     "text": [
      "Training: 100%|##########| 1/1 [00:01<00:00,  1.64s/it, loss=1.64e+3]\n"
     ]
    },
    {
     "name": "stdout",
     "output_type": "stream",
     "text": [
      "Training Loss: 1636.1758. L1: 780.9133. L2: 759.9777. L3 (not used): 1055.0395. Style Loss: 95.2848\n",
      "-----------------------------------\n",
      "Epoch 20\n",
      "-----------------------------------\n"
     ]
    },
    {
     "name": "stderr",
     "output_type": "stream",
     "text": [
      "Training: 100%|##########| 1/1 [00:01<00:00,  1.65s/it, loss=1.63e+3]\n"
     ]
    },
    {
     "name": "stdout",
     "output_type": "stream",
     "text": [
      "Training Loss: 1630.6158. L1: 781.5820. L2: 759.8896. L3 (not used): 1113.5972. Style Loss: 89.1441\n",
      "-----------------------------------\n",
      "Epoch 21\n",
      "-----------------------------------\n"
     ]
    },
    {
     "name": "stderr",
     "output_type": "stream",
     "text": [
      "Training: 100%|##########| 1/1 [00:01<00:00,  1.64s/it, loss=1.63e+3]\n"
     ]
    },
    {
     "name": "stdout",
     "output_type": "stream",
     "text": [
      "Training Loss: 1631.2418. L1: 782.1605. L2: 759.7061. L3 (not used): 1146.0084. Style Loss: 89.3751\n",
      "-----------------------------------\n",
      "Epoch 22\n",
      "-----------------------------------\n"
     ]
    },
    {
     "name": "stderr",
     "output_type": "stream",
     "text": [
      "Training: 100%|##########| 1/1 [00:01<00:00,  1.64s/it, loss=1.63e+3]\n"
     ]
    },
    {
     "name": "stdout",
     "output_type": "stream",
     "text": [
      "Training Loss: 1633.8657. L1: 782.5814. L2: 759.3165. L3 (not used): 1154.9869. Style Loss: 91.9678\n",
      "-----------------------------------\n",
      "Epoch 23\n",
      "-----------------------------------\n"
     ]
    },
    {
     "name": "stderr",
     "output_type": "stream",
     "text": [
      "Training: 100%|##########| 1/1 [00:01<00:00,  1.65s/it, loss=1.64e+3]\n"
     ]
    },
    {
     "name": "stdout",
     "output_type": "stream",
     "text": [
      "Training Loss: 1635.8730. L1: 782.8295. L2: 758.7229. L3 (not used): 1155.5452. Style Loss: 94.3205\n",
      "-----------------------------------\n",
      "Epoch 24\n",
      "-----------------------------------\n"
     ]
    },
    {
     "name": "stderr",
     "output_type": "stream",
     "text": [
      "Training: 100%|##########| 1/1 [00:01<00:00,  1.65s/it, loss=1.64e+3]\n"
     ]
    },
    {
     "name": "stdout",
     "output_type": "stream",
     "text": [
      "Training Loss: 1636.2817. L1: 782.9180. L2: 757.9218. L3 (not used): 1155.7290. Style Loss: 95.4419\n",
      "-----------------------------------\n",
      "Epoch 25\n",
      "-----------------------------------\n"
     ]
    },
    {
     "name": "stderr",
     "output_type": "stream",
     "text": [
      "Training: 100%|##########| 1/1 [00:01<00:00,  1.64s/it, loss=1.64e+3]\n"
     ]
    },
    {
     "name": "stdout",
     "output_type": "stream",
     "text": [
      "Training Loss: 1635.1953. L1: 782.8723. L2: 756.9740. L3 (not used): 1142.2904. Style Loss: 95.3491\n",
      "-----------------------------------\n",
      "Epoch 26\n",
      "-----------------------------------\n"
     ]
    },
    {
     "name": "stderr",
     "output_type": "stream",
     "text": [
      "Training: 100%|##########| 1/1 [00:01<00:00,  1.65s/it, loss=1.63e+3]\n"
     ]
    },
    {
     "name": "stdout",
     "output_type": "stream",
     "text": [
      "Training Loss: 1633.1124. L1: 782.7251. L2: 755.9070. L3 (not used): 1107.4794. Style Loss: 94.4804\n",
      "-----------------------------------\n",
      "Epoch 27\n",
      "-----------------------------------\n"
     ]
    },
    {
     "name": "stderr",
     "output_type": "stream",
     "text": [
      "Training: 100%|##########| 1/1 [00:01<00:00,  1.63s/it, loss=1.63e+3]\n"
     ]
    },
    {
     "name": "stdout",
     "output_type": "stream",
     "text": [
      "Training Loss: 1630.5490. L1: 782.5129. L2: 754.7509. L3 (not used): 1090.4670. Style Loss: 93.2850\n",
      "-----------------------------------\n",
      "Epoch 28\n",
      "-----------------------------------\n"
     ]
    },
    {
     "name": "stderr",
     "output_type": "stream",
     "text": [
      "Training: 100%|##########| 1/1 [00:01<00:00,  1.65s/it, loss=1.63e+3]\n"
     ]
    },
    {
     "name": "stdout",
     "output_type": "stream",
     "text": [
      "Training Loss: 1627.8446. L1: 782.2722. L2: 753.5673. L3 (not used): 1080.9404. Style Loss: 92.0050\n",
      "-----------------------------------\n",
      "Epoch 29\n",
      "-----------------------------------\n"
     ]
    },
    {
     "name": "stderr",
     "output_type": "stream",
     "text": [
      "Training: 100%|##########| 1/1 [00:01<00:00,  1.67s/it, loss=1.63e+3]\n"
     ]
    },
    {
     "name": "stdout",
     "output_type": "stream",
     "text": [
      "Training Loss: 1625.1327. L1: 782.0367. L2: 752.3978. L3 (not used): 1087.9852. Style Loss: 90.6981\n",
      "-----------------------------------\n",
      "Epoch 30\n",
      "-----------------------------------\n"
     ]
    },
    {
     "name": "stderr",
     "output_type": "stream",
     "text": [
      "Training: 100%|##########| 1/1 [00:01<00:00,  1.71s/it, loss=1.62e+3]\n"
     ]
    },
    {
     "name": "stdout",
     "output_type": "stream",
     "text": [
      "Training Loss: 1622.3956. L1: 781.8329. L2: 751.2621. L3 (not used): 1088.6206. Style Loss: 89.3007\n",
      "-----------------------------------\n",
      "Epoch 31\n",
      "-----------------------------------\n"
     ]
    },
    {
     "name": "stderr",
     "output_type": "stream",
     "text": [
      "Training: 100%|##########| 1/1 [00:01<00:00,  1.66s/it, loss=1.62e+3]\n"
     ]
    },
    {
     "name": "stdout",
     "output_type": "stream",
     "text": [
      "Training Loss: 1619.6458. L1: 781.6762. L2: 750.1682. L3 (not used): 1085.9280. Style Loss: 87.8013\n",
      "-----------------------------------\n",
      "Epoch 32\n",
      "-----------------------------------\n"
     ]
    },
    {
     "name": "stderr",
     "output_type": "stream",
     "text": [
      "Training: 100%|##########| 1/1 [00:01<00:00,  1.65s/it, loss=1.62e+3]\n"
     ]
    },
    {
     "name": "stdout",
     "output_type": "stream",
     "text": [
      "Training Loss: 1617.0282. L1: 781.5704. L2: 749.1278. L3 (not used): 1077.0203. Style Loss: 86.3300\n",
      "-----------------------------------\n",
      "Epoch 33\n",
      "-----------------------------------\n"
     ]
    },
    {
     "name": "stderr",
     "output_type": "stream",
     "text": [
      "Training: 100%|##########| 1/1 [00:01<00:00,  1.66s/it, loss=1.61e+3]\n"
     ]
    },
    {
     "name": "stdout",
     "output_type": "stream",
     "text": [
      "Training Loss: 1614.7626. L1: 781.5103. L2: 748.1584. L3 (not used): 1083.9894. Style Loss: 85.0939\n",
      "-----------------------------------\n",
      "Epoch 34\n",
      "-----------------------------------\n"
     ]
    },
    {
     "name": "stderr",
     "output_type": "stream",
     "text": [
      "Training: 100%|##########| 1/1 [00:01<00:00,  1.66s/it, loss=1.61e+3]\n"
     ]
    },
    {
     "name": "stdout",
     "output_type": "stream",
     "text": [
      "Training Loss: 1613.0552. L1: 781.4833. L2: 747.3094. L3 (not used): 1054.5609. Style Loss: 84.2625\n",
      "-----------------------------------\n",
      "Epoch 35\n",
      "-----------------------------------\n"
     ]
    },
    {
     "name": "stderr",
     "output_type": "stream",
     "text": [
      "Training: 100%|##########| 1/1 [00:01<00:00,  1.68s/it, loss=1.61e+3]\n"
     ]
    },
    {
     "name": "stdout",
     "output_type": "stream",
     "text": [
      "Training Loss: 1612.0264. L1: 781.4774. L2: 746.6642. L3 (not used): 1119.2048. Style Loss: 83.8848\n",
      "-----------------------------------\n",
      "Epoch 36\n",
      "-----------------------------------\n"
     ]
    },
    {
     "name": "stderr",
     "output_type": "stream",
     "text": [
      "Training: 100%|##########| 1/1 [00:01<00:00,  1.65s/it, loss=1.61e+3]\n"
     ]
    },
    {
     "name": "stdout",
     "output_type": "stream",
     "text": [
      "Training Loss: 1610.7188. L1: 781.4762. L2: 745.3813. L3 (not used): 1084.2653. Style Loss: 83.8612\n",
      "-----------------------------------\n",
      "Epoch 37\n",
      "-----------------------------------\n"
     ]
    },
    {
     "name": "stderr",
     "output_type": "stream",
     "text": [
      "Training: 100%|##########| 1/1 [00:01<00:00,  1.65s/it, loss=1.61e+3]\n"
     ]
    },
    {
     "name": "stdout",
     "output_type": "stream",
     "text": [
      "Training Loss: 1610.2673. L1: 781.4710. L2: 744.7531. L3 (not used): 1084.9155. Style Loss: 84.0432\n",
      "-----------------------------------\n",
      "Epoch 38\n",
      "-----------------------------------\n"
     ]
    },
    {
     "name": "stderr",
     "output_type": "stream",
     "text": [
      "Training: 100%|##########| 1/1 [00:01<00:00,  1.65s/it, loss=1.61e+3]\n"
     ]
    },
    {
     "name": "stdout",
     "output_type": "stream",
     "text": [
      "Training Loss: 1609.7577. L1: 781.4564. L2: 744.0559. L3 (not used): 1128.6376. Style Loss: 84.2453\n",
      "-----------------------------------\n",
      "Epoch 39\n",
      "-----------------------------------\n"
     ]
    },
    {
     "name": "stderr",
     "output_type": "stream",
     "text": [
      "Training: 100%|##########| 1/1 [00:01<00:00,  1.66s/it, loss=1.61e+3]\n"
     ]
    },
    {
     "name": "stdout",
     "output_type": "stream",
     "text": [
      "Training Loss: 1608.6630. L1: 781.4260. L2: 742.8601. L3 (not used): 1123.5879. Style Loss: 84.3768\n",
      "-----------------------------------\n",
      "Epoch 40\n",
      "-----------------------------------\n"
     ]
    },
    {
     "name": "stderr",
     "output_type": "stream",
     "text": [
      "Training: 100%|##########| 1/1 [00:01<00:00,  1.68s/it, loss=1.61e+3]\n"
     ]
    },
    {
     "name": "stdout",
     "output_type": "stream",
     "text": [
      "Training Loss: 1607.9486. L1: 781.3806. L2: 742.1754. L3 (not used): 1097.5509. Style Loss: 84.3927\n",
      "-----------------------------------\n",
      "Epoch 41\n",
      "-----------------------------------\n"
     ]
    },
    {
     "name": "stderr",
     "output_type": "stream",
     "text": [
      "Training: 100%|##########| 1/1 [00:01<00:00,  1.69s/it, loss=1.61e+3]\n"
     ]
    },
    {
     "name": "stdout",
     "output_type": "stream",
     "text": [
      "Training Loss: 1606.5370. L1: 781.3260. L2: 740.9540. L3 (not used): 1106.8650. Style Loss: 84.2570\n",
      "-----------------------------------\n",
      "Epoch 42\n",
      "-----------------------------------\n"
     ]
    },
    {
     "name": "stderr",
     "output_type": "stream",
     "text": [
      "Training: 100%|##########| 1/1 [00:01<00:00,  1.68s/it, loss=1.61e+3]\n"
     ]
    },
    {
     "name": "stdout",
     "output_type": "stream",
     "text": [
      "Training Loss: 1605.5244. L1: 781.2649. L2: 740.2201. L3 (not used): 1128.0119. Style Loss: 84.0395\n",
      "-----------------------------------\n",
      "Epoch 43\n",
      "-----------------------------------\n"
     ]
    },
    {
     "name": "stderr",
     "output_type": "stream",
     "text": [
      "Training: 100%|##########| 1/1 [00:01<00:00,  1.66s/it, loss=1.6e+3]\n"
     ]
    },
    {
     "name": "stdout",
     "output_type": "stream",
     "text": [
      "Training Loss: 1604.1141. L1: 781.2015. L2: 739.1531. L3 (not used): 1103.8052. Style Loss: 83.7596\n",
      "-----------------------------------\n",
      "Epoch 44\n",
      "-----------------------------------\n"
     ]
    },
    {
     "name": "stderr",
     "output_type": "stream",
     "text": [
      "Training: 100%|##########| 1/1 [00:01<00:00,  1.65s/it, loss=1.6e+3]\n"
     ]
    },
    {
     "name": "stdout",
     "output_type": "stream",
     "text": [
      "Training Loss: 1602.9720. L1: 781.1429. L2: 738.3438. L3 (not used): 1061.2687. Style Loss: 83.4853\n",
      "-----------------------------------\n",
      "Epoch 45\n",
      "-----------------------------------\n"
     ]
    },
    {
     "name": "stderr",
     "output_type": "stream",
     "text": [
      "Training: 100%|##########| 1/1 [00:01<00:00,  1.64s/it, loss=1.6e+3]\n"
     ]
    },
    {
     "name": "stdout",
     "output_type": "stream",
     "text": [
      "Training Loss: 1601.7024. L1: 781.0964. L2: 737.3787. L3 (not used): 1061.5583. Style Loss: 83.2273\n",
      "-----------------------------------\n",
      "Epoch 46\n",
      "-----------------------------------\n"
     ]
    },
    {
     "name": "stderr",
     "output_type": "stream",
     "text": [
      "Training: 100%|##########| 1/1 [00:01<00:00,  1.64s/it, loss=1.6e+3]\n"
     ]
    },
    {
     "name": "stdout",
     "output_type": "stream",
     "text": [
      "Training Loss: 1600.6569. L1: 781.0651. L2: 736.6062. L3 (not used): 1096.7503. Style Loss: 82.9856\n",
      "-----------------------------------\n",
      "Epoch 47\n",
      "-----------------------------------\n"
     ]
    },
    {
     "name": "stderr",
     "output_type": "stream",
     "text": [
      "Training: 100%|##########| 1/1 [00:01<00:00,  1.76s/it, loss=1.6e+3]\n"
     ]
    },
    {
     "name": "stdout",
     "output_type": "stream",
     "text": [
      "Training Loss: 1599.4387. L1: 781.0496. L2: 735.6590. L3 (not used): 1050.0313. Style Loss: 82.7303\n",
      "-----------------------------------\n",
      "Epoch 48\n",
      "-----------------------------------\n"
     ]
    },
    {
     "name": "stderr",
     "output_type": "stream",
     "text": [
      "Training: 100%|##########| 1/1 [00:01<00:00,  1.66s/it, loss=1.6e+3]\n"
     ]
    },
    {
     "name": "stdout",
     "output_type": "stream",
     "text": [
      "Training Loss: 1598.4557. L1: 781.0490. L2: 734.9373. L3 (not used): 1046.1304. Style Loss: 82.4694\n",
      "-----------------------------------\n",
      "Epoch 49\n",
      "-----------------------------------\n"
     ]
    },
    {
     "name": "stderr",
     "output_type": "stream",
     "text": [
      "Training: 100%|##########| 1/1 [00:01<00:00,  1.65s/it, loss=1.6e+3]\n"
     ]
    },
    {
     "name": "stdout",
     "output_type": "stream",
     "text": [
      "Training Loss: 1597.2389. L1: 781.0613. L2: 733.9833. L3 (not used): 1058.8738. Style Loss: 82.1943\n",
      "-----------------------------------\n",
      "Epoch 50\n",
      "-----------------------------------\n"
     ]
    },
    {
     "name": "stderr",
     "output_type": "stream",
     "text": [
      "Training: 100%|##########| 1/1 [00:01<00:00,  1.65s/it, loss=1.6e+3]\n"
     ]
    },
    {
     "name": "stdout",
     "output_type": "stream",
     "text": [
      "Training Loss: 1596.3286. L1: 781.0810. L2: 733.3279. L3 (not used): 1090.6217. Style Loss: 81.9197\n",
      "-----------------------------------\n",
      "Epoch 51\n",
      "-----------------------------------\n"
     ]
    },
    {
     "name": "stderr",
     "output_type": "stream",
     "text": [
      "Training: 100%|##########| 1/1 [00:01<00:00,  1.67s/it, loss=1.6e+3]\n"
     ]
    },
    {
     "name": "stdout",
     "output_type": "stream",
     "text": [
      "Training Loss: 1595.1753. L1: 781.1016. L2: 732.4129. L3 (not used): 1064.1973. Style Loss: 81.6609\n",
      "-----------------------------------\n",
      "Epoch 52\n",
      "-----------------------------------\n"
     ]
    },
    {
     "name": "stderr",
     "output_type": "stream",
     "text": [
      "Training: 100%|##########| 1/1 [00:01<00:00,  1.65s/it, loss=1.59e+3]\n"
     ]
    },
    {
     "name": "stdout",
     "output_type": "stream",
     "text": [
      "Training Loss: 1594.3457. L1: 781.1157. L2: 731.7946. L3 (not used): 1018.4547. Style Loss: 81.4354\n",
      "-----------------------------------\n",
      "Epoch 53\n",
      "-----------------------------------\n"
     ]
    },
    {
     "name": "stderr",
     "output_type": "stream",
     "text": [
      "Training: 100%|##########| 1/1 [00:01<00:00,  1.64s/it, loss=1.59e+3]\n"
     ]
    },
    {
     "name": "stdout",
     "output_type": "stream",
     "text": [
      "Training Loss: 1593.3892. L1: 781.1193. L2: 731.0417. L3 (not used): 1058.6147. Style Loss: 81.2282\n",
      "-----------------------------------\n",
      "Epoch 54\n",
      "-----------------------------------\n"
     ]
    },
    {
     "name": "stderr",
     "output_type": "stream",
     "text": [
      "Training: 100%|##########| 1/1 [00:01<00:00,  1.65s/it, loss=1.59e+3]\n"
     ]
    },
    {
     "name": "stdout",
     "output_type": "stream",
     "text": [
      "Training Loss: 1593.0167. L1: 781.1091. L2: 730.8627. L3 (not used): 1020.6950. Style Loss: 81.0450\n",
      "-----------------------------------\n",
      "Epoch 55\n",
      "-----------------------------------\n"
     ]
    },
    {
     "name": "stderr",
     "output_type": "stream",
     "text": [
      "Training: 100%|##########| 1/1 [00:01<00:00,  1.66s/it, loss=1.59e+3]\n"
     ]
    },
    {
     "name": "stdout",
     "output_type": "stream",
     "text": [
      "Training Loss: 1592.7749. L1: 781.0844. L2: 730.8079. L3 (not used): 1094.4513. Style Loss: 80.8827\n",
      "-----------------------------------\n",
      "Epoch 56\n",
      "-----------------------------------\n"
     ]
    },
    {
     "name": "stderr",
     "output_type": "stream",
     "text": [
      "Training: 100%|##########| 1/1 [00:01<00:00,  1.69s/it, loss=1591.25]\n"
     ]
    },
    {
     "name": "stdout",
     "output_type": "stream",
     "text": [
      "Training Loss: 1591.2500. L1: 781.0455. L2: 729.5034. L3 (not used): 1060.0139. Style Loss: 80.7012\n",
      "-----------------------------------\n",
      "Epoch 57\n",
      "-----------------------------------\n"
     ]
    },
    {
     "name": "stderr",
     "output_type": "stream",
     "text": [
      "Training: 100%|##########| 1/1 [00:01<00:00,  1.68s/it, loss=1.59e+3]\n"
     ]
    },
    {
     "name": "stdout",
     "output_type": "stream",
     "text": [
      "Training Loss: 1590.1377. L1: 780.9932. L2: 728.5897. L3 (not used): 1022.2847. Style Loss: 80.5548\n",
      "-----------------------------------\n",
      "Epoch 58\n",
      "-----------------------------------\n"
     ]
    },
    {
     "name": "stderr",
     "output_type": "stream",
     "text": [
      "Training: 100%|##########| 1/1 [00:01<00:00,  1.66s/it, loss=1.59e+3]\n"
     ]
    },
    {
     "name": "stdout",
     "output_type": "stream",
     "text": [
      "Training Loss: 1588.9976. L1: 780.9294. L2: 727.6718. L3 (not used): 1014.4249. Style Loss: 80.3965\n",
      "-----------------------------------\n",
      "Epoch 59\n",
      "-----------------------------------\n"
     ]
    },
    {
     "name": "stderr",
     "output_type": "stream",
     "text": [
      "Training: 100%|##########| 1/1 [00:01<00:00,  1.65s/it, loss=1.59e+3]\n"
     ]
    },
    {
     "name": "stdout",
     "output_type": "stream",
     "text": [
      "Training Loss: 1587.8297. L1: 780.8616. L2: 726.7235. L3 (not used): 1039.7363. Style Loss: 80.2446\n",
      "-----------------------------------\n",
      "Epoch 60\n",
      "-----------------------------------\n"
     ]
    },
    {
     "name": "stderr",
     "output_type": "stream",
     "text": [
      "Training: 100%|##########| 1/1 [00:01<00:00,  1.64s/it, loss=1.59e+3]\n"
     ]
    },
    {
     "name": "stdout",
     "output_type": "stream",
     "text": [
      "Training Loss: 1586.9399. L1: 780.7972. L2: 726.0543. L3 (not used): 1051.6280. Style Loss: 80.0885\n",
      "-----------------------------------\n",
      "Epoch 61\n",
      "-----------------------------------\n"
     ]
    },
    {
     "name": "stderr",
     "output_type": "stream",
     "text": [
      "Training: 100%|##########| 1/1 [00:01<00:00,  1.64s/it, loss=1.59e+3]\n"
     ]
    },
    {
     "name": "stdout",
     "output_type": "stream",
     "text": [
      "Training Loss: 1585.6821. L1: 780.7375. L2: 725.0340. L3 (not used): 1039.1923. Style Loss: 79.9106\n",
      "-----------------------------------\n",
      "Epoch 62\n",
      "-----------------------------------\n"
     ]
    },
    {
     "name": "stderr",
     "output_type": "stream",
     "text": [
      "Training: 100%|##########| 1/1 [00:01<00:00,  1.64s/it, loss=1.58e+3]\n"
     ]
    },
    {
     "name": "stdout",
     "output_type": "stream",
     "text": [
      "Training Loss: 1584.6630. L1: 780.6832. L2: 724.2563. L3 (not used): 1016.3237. Style Loss: 79.7235\n",
      "-----------------------------------\n",
      "Epoch 63\n",
      "-----------------------------------\n"
     ]
    },
    {
     "name": "stderr",
     "output_type": "stream",
     "text": [
      "Training: 100%|##########| 1/1 [00:01<00:00,  1.66s/it, loss=1.58e+3]\n"
     ]
    },
    {
     "name": "stdout",
     "output_type": "stream",
     "text": [
      "Training Loss: 1583.6974. L1: 780.6366. L2: 723.5703. L3 (not used): 1017.8991. Style Loss: 79.4905\n",
      "-----------------------------------\n",
      "Epoch 64\n",
      "-----------------------------------\n"
     ]
    },
    {
     "name": "stderr",
     "output_type": "stream",
     "text": [
      "Training: 100%|##########| 1/1 [00:01<00:00,  1.63s/it, loss=1.58e+3]\n"
     ]
    },
    {
     "name": "stdout",
     "output_type": "stream",
     "text": [
      "Training Loss: 1582.4700. L1: 780.5988. L2: 722.6443. L3 (not used): 997.6941. Style Loss: 79.2267\n",
      "-----------------------------------\n",
      "Epoch 65\n",
      "-----------------------------------\n"
     ]
    },
    {
     "name": "stderr",
     "output_type": "stream",
     "text": [
      "Training: 100%|##########| 1/1 [00:01<00:00,  1.65s/it, loss=1.58e+3]\n"
     ]
    },
    {
     "name": "stdout",
     "output_type": "stream",
     "text": [
      "Training Loss: 1581.5774. L1: 780.5653. L2: 722.0681. L3 (not used): 1034.4480. Style Loss: 78.9440\n",
      "-----------------------------------\n",
      "Epoch 66\n",
      "-----------------------------------\n"
     ]
    },
    {
     "name": "stderr",
     "output_type": "stream",
     "text": [
      "Training: 100%|##########| 1/1 [00:01<00:00,  1.64s/it, loss=1.58e+3]\n"
     ]
    },
    {
     "name": "stdout",
     "output_type": "stream",
     "text": [
      "Training Loss: 1580.3770. L1: 780.5324. L2: 721.2081. L3 (not used): 1041.3190. Style Loss: 78.6364\n",
      "-----------------------------------\n",
      "Epoch 67\n",
      "-----------------------------------\n"
     ]
    },
    {
     "name": "stderr",
     "output_type": "stream",
     "text": [
      "Training: 100%|##########| 1/1 [00:01<00:00,  1.68s/it, loss=1.58e+3]\n"
     ]
    },
    {
     "name": "stdout",
     "output_type": "stream",
     "text": [
      "Training Loss: 1579.2009. L1: 780.4983. L2: 720.3739. L3 (not used): 1009.1598. Style Loss: 78.3287\n",
      "-----------------------------------\n",
      "Epoch 68\n",
      "-----------------------------------\n"
     ]
    },
    {
     "name": "stderr",
     "output_type": "stream",
     "text": [
      "Training: 100%|##########| 1/1 [00:01<00:00,  1.64s/it, loss=1.58e+3]\n"
     ]
    },
    {
     "name": "stdout",
     "output_type": "stream",
     "text": [
      "Training Loss: 1578.2585. L1: 780.4604. L2: 719.7957. L3 (not used): 998.8250. Style Loss: 78.0024\n",
      "-----------------------------------\n",
      "Epoch 69\n",
      "-----------------------------------\n"
     ]
    },
    {
     "name": "stderr",
     "output_type": "stream",
     "text": [
      "Training: 100%|##########| 1/1 [00:01<00:00,  1.63s/it, loss=1.58e+3]\n"
     ]
    },
    {
     "name": "stdout",
     "output_type": "stream",
     "text": [
      "Training Loss: 1576.9989. L1: 780.4155. L2: 718.9382. L3 (not used): 1018.9009. Style Loss: 77.6452\n",
      "-----------------------------------\n",
      "Epoch 70\n",
      "-----------------------------------\n"
     ]
    },
    {
     "name": "stderr",
     "output_type": "stream",
     "text": [
      "Training: 100%|##########| 1/1 [00:01<00:00,  1.65s/it, loss=1.58e+3]\n"
     ]
    },
    {
     "name": "stdout",
     "output_type": "stream",
     "text": [
      "Training Loss: 1575.8552. L1: 780.3622. L2: 718.2172. L3 (not used): 1042.7645. Style Loss: 77.2759\n",
      "-----------------------------------\n",
      "Epoch 71\n",
      "-----------------------------------\n"
     ]
    },
    {
     "name": "stderr",
     "output_type": "stream",
     "text": [
      "Training: 100%|##########| 1/1 [00:01<00:00,  1.64s/it, loss=1.57e+3]\n"
     ]
    },
    {
     "name": "stdout",
     "output_type": "stream",
     "text": [
      "Training Loss: 1574.7588. L1: 780.3011. L2: 717.5654. L3 (not used): 1026.0645. Style Loss: 76.8924\n",
      "-----------------------------------\n",
      "Epoch 72\n",
      "-----------------------------------\n"
     ]
    },
    {
     "name": "stderr",
     "output_type": "stream",
     "text": [
      "Training: 100%|##########| 1/1 [00:01<00:00,  1.66s/it, loss=1.57e+3]\n"
     ]
    },
    {
     "name": "stdout",
     "output_type": "stream",
     "text": [
      "Training Loss: 1573.4584. L1: 780.2357. L2: 716.7313. L3 (not used): 994.8277. Style Loss: 76.4914\n",
      "-----------------------------------\n",
      "Epoch 73\n",
      "-----------------------------------\n"
     ]
    },
    {
     "name": "stderr",
     "output_type": "stream",
     "text": [
      "Training: 100%|##########| 1/1 [00:01<00:00,  1.67s/it, loss=1.57e+3]\n"
     ]
    },
    {
     "name": "stdout",
     "output_type": "stream",
     "text": [
      "Training Loss: 1572.2588. L1: 780.1677. L2: 716.0226. L3 (not used): 997.5185. Style Loss: 76.0686\n",
      "-----------------------------------\n",
      "Epoch 74\n",
      "-----------------------------------\n"
     ]
    },
    {
     "name": "stderr",
     "output_type": "stream",
     "text": [
      "Training: 100%|##########| 1/1 [00:01<00:00,  1.64s/it, loss=1.57e+3]\n"
     ]
    },
    {
     "name": "stdout",
     "output_type": "stream",
     "text": [
      "Training Loss: 1571.1331. L1: 780.0997. L2: 715.4055. L3 (not used): 994.0593. Style Loss: 75.6280\n",
      "-----------------------------------\n",
      "Epoch 75\n",
      "-----------------------------------\n"
     ]
    },
    {
     "name": "stderr",
     "output_type": "stream",
     "text": [
      "Training: 100%|##########| 1/1 [00:01<00:00,  1.64s/it, loss=1.57e+3]\n"
     ]
    },
    {
     "name": "stdout",
     "output_type": "stream",
     "text": [
      "Training Loss: 1569.7653. L1: 780.0298. L2: 714.5595. L3 (not used): 995.9870. Style Loss: 75.1759\n",
      "-----------------------------------\n",
      "Epoch 76\n",
      "-----------------------------------\n"
     ]
    },
    {
     "name": "stderr",
     "output_type": "stream",
     "text": [
      "Training: 100%|##########| 1/1 [00:01<00:00,  1.69s/it, loss=1.57e+3]\n"
     ]
    },
    {
     "name": "stdout",
     "output_type": "stream",
     "text": [
      "Training Loss: 1568.7277. L1: 779.9646. L2: 714.0673. L3 (not used): 1023.0980. Style Loss: 74.6957\n",
      "-----------------------------------\n",
      "Epoch 77\n",
      "-----------------------------------\n"
     ]
    },
    {
     "name": "stderr",
     "output_type": "stream",
     "text": [
      "Training: 100%|##########| 1/1 [00:01<00:00,  1.64s/it, loss=1.57e+3]\n"
     ]
    },
    {
     "name": "stdout",
     "output_type": "stream",
     "text": [
      "Training Loss: 1568.1580. L1: 779.9037. L2: 714.0673. L3 (not used): 1016.4146. Style Loss: 74.1871\n",
      "-----------------------------------\n",
      "Epoch 78\n",
      "-----------------------------------\n"
     ]
    },
    {
     "name": "stderr",
     "output_type": "stream",
     "text": [
      "Training: 100%|##########| 1/1 [00:01<00:00,  1.66s/it, loss=1.57e+3]\n"
     ]
    },
    {
     "name": "stdout",
     "output_type": "stream",
     "text": [
      "Training Loss: 1568.3047. L1: 779.8477. L2: 714.7586. L3 (not used): 1062.0330. Style Loss: 73.6984\n",
      "-----------------------------------\n",
      "Epoch 79\n",
      "-----------------------------------\n"
     ]
    },
    {
     "name": "stderr",
     "output_type": "stream",
     "text": [
      "Training: 100%|##########| 1/1 [00:01<00:00,  1.70s/it, loss=1.57e+3]\n"
     ]
    },
    {
     "name": "stdout",
     "output_type": "stream",
     "text": [
      "Training Loss: 1566.8922. L1: 779.7909. L2: 713.8848. L3 (not used): 991.4876. Style Loss: 73.2166\n",
      "-----------------------------------\n",
      "Epoch 80\n",
      "-----------------------------------\n"
     ]
    },
    {
     "name": "stderr",
     "output_type": "stream",
     "text": [
      "Training: 100%|##########| 1/1 [00:01<00:00,  1.65s/it, loss=1.57e+3]\n"
     ]
    },
    {
     "name": "stdout",
     "output_type": "stream",
     "text": [
      "Training Loss: 1566.6827. L1: 779.7337. L2: 714.1801. L3 (not used): 1084.3392. Style Loss: 72.7689\n",
      "-----------------------------------\n",
      "Epoch 81\n",
      "-----------------------------------\n"
     ]
    },
    {
     "name": "stderr",
     "output_type": "stream",
     "text": [
      "Training: 100%|##########| 1/1 [00:01<00:00,  1.64s/it, loss=1.56e+3]\n"
     ]
    },
    {
     "name": "stdout",
     "output_type": "stream",
     "text": [
      "Training Loss: 1564.3312. L1: 779.6830. L2: 712.3401. L3 (not used): 1038.2574. Style Loss: 72.3081\n",
      "-----------------------------------\n",
      "Epoch 82\n",
      "-----------------------------------\n"
     ]
    },
    {
     "name": "stderr",
     "output_type": "stream",
     "text": [
      "Training: 100%|##########| 1/1 [00:01<00:00,  1.65s/it, loss=1.56e+3]\n"
     ]
    },
    {
     "name": "stdout",
     "output_type": "stream",
     "text": [
      "Training Loss: 1562.7037. L1: 779.6307. L2: 711.1799. L3 (not used): 1037.1970. Style Loss: 71.8931\n",
      "-----------------------------------\n",
      "Epoch 83\n",
      "-----------------------------------\n"
     ]
    },
    {
     "name": "stderr",
     "output_type": "stream",
     "text": [
      "Training: 100%|##########| 1/1 [00:01<00:00,  1.63s/it, loss=1.56e+3]\n"
     ]
    },
    {
     "name": "stdout",
     "output_type": "stream",
     "text": [
      "Training Loss: 1562.0859. L1: 779.5713. L2: 711.0790. L3 (not used): 1028.5956. Style Loss: 71.4355\n",
      "-----------------------------------\n",
      "Epoch 84\n",
      "-----------------------------------\n"
     ]
    },
    {
     "name": "stderr",
     "output_type": "stream",
     "text": [
      "Training: 100%|##########| 1/1 [00:01<00:00,  1.64s/it, loss=1.56e+3]\n"
     ]
    },
    {
     "name": "stdout",
     "output_type": "stream",
     "text": [
      "Training Loss: 1559.8562. L1: 779.5112. L2: 709.4025. L3 (not used): 1024.7136. Style Loss: 70.9426\n",
      "-----------------------------------\n",
      "Epoch 85\n",
      "-----------------------------------\n"
     ]
    },
    {
     "name": "stderr",
     "output_type": "stream",
     "text": [
      "Training: 100%|##########| 1/1 [00:01<00:00,  1.64s/it, loss=1.56e+3]\n"
     ]
    },
    {
     "name": "stdout",
     "output_type": "stream",
     "text": [
      "Training Loss: 1559.2122. L1: 779.4527. L2: 709.2706. L3 (not used): 1061.0357. Style Loss: 70.4887\n",
      "-----------------------------------\n",
      "Epoch 86\n",
      "-----------------------------------\n"
     ]
    },
    {
     "name": "stderr",
     "output_type": "stream",
     "text": [
      "Training: 100%|##########| 1/1 [00:01<00:00,  1.65s/it, loss=1.56e+3]\n"
     ]
    },
    {
     "name": "stdout",
     "output_type": "stream",
     "text": [
      "Training Loss: 1557.8575. L1: 779.3937. L2: 708.4371. L3 (not used): 1070.8182. Style Loss: 70.0268\n",
      "-----------------------------------\n",
      "Epoch 87\n",
      "-----------------------------------\n"
     ]
    },
    {
     "name": "stderr",
     "output_type": "stream",
     "text": [
      "Training: 100%|##########| 1/1 [00:01<00:00,  1.66s/it, loss=1.56e+3]\n"
     ]
    },
    {
     "name": "stdout",
     "output_type": "stream",
     "text": [
      "Training Loss: 1556.0588. L1: 779.3306. L2: 707.1892. L3 (not used): 1045.0301. Style Loss: 69.5390\n",
      "-----------------------------------\n",
      "Epoch 88\n",
      "-----------------------------------\n"
     ]
    },
    {
     "name": "stderr",
     "output_type": "stream",
     "text": [
      "Training: 100%|##########| 1/1 [00:01<00:00,  1.64s/it, loss=1.56e+3]\n"
     ]
    },
    {
     "name": "stdout",
     "output_type": "stream",
     "text": [
      "Training Loss: 1555.6038. L1: 779.2656. L2: 707.2961. L3 (not used): 1031.8084. Style Loss: 69.0422\n",
      "-----------------------------------\n",
      "Epoch 89\n",
      "-----------------------------------\n"
     ]
    },
    {
     "name": "stderr",
     "output_type": "stream",
     "text": [
      "Training: 100%|##########| 1/1 [00:01<00:00,  1.65s/it, loss=1.55e+3]\n"
     ]
    },
    {
     "name": "stdout",
     "output_type": "stream",
     "text": [
      "Training Loss: 1553.6562. L1: 779.2061. L2: 705.9373. L3 (not used): 1041.2280. Style Loss: 68.5129\n",
      "-----------------------------------\n",
      "Epoch 90\n",
      "-----------------------------------\n"
     ]
    },
    {
     "name": "stderr",
     "output_type": "stream",
     "text": [
      "Training: 100%|##########| 1/1 [00:01<00:00,  1.64s/it, loss=1.55e+3]\n"
     ]
    },
    {
     "name": "stdout",
     "output_type": "stream",
     "text": [
      "Training Loss: 1552.5046. L1: 779.1474. L2: 705.3957. L3 (not used): 1072.2244. Style Loss: 67.9616\n",
      "-----------------------------------\n",
      "Epoch 91\n",
      "-----------------------------------\n"
     ]
    },
    {
     "name": "stderr",
     "output_type": "stream",
     "text": [
      "Training: 100%|##########| 1/1 [00:01<00:00,  1.63s/it, loss=1.55e+3]\n"
     ]
    },
    {
     "name": "stdout",
     "output_type": "stream",
     "text": [
      "Training Loss: 1551.4758. L1: 779.0886. L2: 704.9874. L3 (not used): 1083.7641. Style Loss: 67.3999\n",
      "-----------------------------------\n",
      "Epoch 92\n",
      "-----------------------------------\n"
     ]
    },
    {
     "name": "stderr",
     "output_type": "stream",
     "text": [
      "Training: 100%|##########| 1/1 [00:01<00:00,  1.63s/it, loss=1.55e+3]\n"
     ]
    },
    {
     "name": "stdout",
     "output_type": "stream",
     "text": [
      "Training Loss: 1549.8900. L1: 779.0311. L2: 704.0429. L3 (not used): 1049.5570. Style Loss: 66.8160\n",
      "-----------------------------------\n",
      "Epoch 93\n",
      "-----------------------------------\n"
     ]
    },
    {
     "name": "stderr",
     "output_type": "stream",
     "text": [
      "Training: 100%|##########| 1/1 [00:01<00:00,  1.63s/it, loss=1.55e+3]\n"
     ]
    },
    {
     "name": "stdout",
     "output_type": "stream",
     "text": [
      "Training Loss: 1548.5439. L1: 778.9739. L2: 703.3598. L3 (not used): 1023.9617. Style Loss: 66.2102\n",
      "-----------------------------------\n",
      "Epoch 94\n",
      "-----------------------------------\n"
     ]
    },
    {
     "name": "stderr",
     "output_type": "stream",
     "text": [
      "Training: 100%|##########| 1/1 [00:01<00:00,  1.67s/it, loss=1.55e+3]\n"
     ]
    },
    {
     "name": "stdout",
     "output_type": "stream",
     "text": [
      "Training Loss: 1547.3989. L1: 778.9158. L2: 702.9042. L3 (not used): 1003.9463. Style Loss: 65.5788\n",
      "-----------------------------------\n",
      "Epoch 95\n",
      "-----------------------------------\n"
     ]
    },
    {
     "name": "stderr",
     "output_type": "stream",
     "text": [
      "Training: 100%|##########| 1/1 [00:01<00:00,  1.66s/it, loss=1.55e+3]\n"
     ]
    },
    {
     "name": "stdout",
     "output_type": "stream",
     "text": [
      "Training Loss: 1545.8849. L1: 778.8569. L2: 702.1083. L3 (not used): 1017.6753. Style Loss: 64.9197\n",
      "-----------------------------------\n",
      "Epoch 96\n",
      "-----------------------------------\n"
     ]
    },
    {
     "name": "stderr",
     "output_type": "stream",
     "text": [
      "Training: 100%|##########| 1/1 [00:01<00:00,  1.64s/it, loss=1.54e+3]\n"
     ]
    },
    {
     "name": "stdout",
     "output_type": "stream",
     "text": [
      "Training Loss: 1544.5635. L1: 778.7953. L2: 701.5109. L3 (not used): 1031.4745. Style Loss: 64.2573\n",
      "-----------------------------------\n",
      "Epoch 97\n",
      "-----------------------------------\n"
     ]
    },
    {
     "name": "stderr",
     "output_type": "stream",
     "text": [
      "Training: 100%|##########| 1/1 [00:01<00:00,  1.65s/it, loss=1.54e+3]\n"
     ]
    },
    {
     "name": "stdout",
     "output_type": "stream",
     "text": [
      "Training Loss: 1543.1641. L1: 778.7366. L2: 700.8533. L3 (not used): 1054.6454. Style Loss: 63.5741\n",
      "-----------------------------------\n",
      "Epoch 98\n",
      "-----------------------------------\n"
     ]
    },
    {
     "name": "stderr",
     "output_type": "stream",
     "text": [
      "Training: 100%|##########| 1/1 [00:01<00:00,  1.67s/it, loss=1.54e+3]\n"
     ]
    },
    {
     "name": "stdout",
     "output_type": "stream",
     "text": [
      "Training Loss: 1541.7081. L1: 778.6777. L2: 700.1722. L3 (not used): 1048.2281. Style Loss: 62.8583\n",
      "-----------------------------------\n",
      "Epoch 99\n",
      "-----------------------------------\n"
     ]
    },
    {
     "name": "stderr",
     "output_type": "stream",
     "text": [
      "Training: 100%|##########| 1/1 [00:01<00:00,  1.65s/it, loss=1.54e+3]\n"
     ]
    },
    {
     "name": "stdout",
     "output_type": "stream",
     "text": [
      "Training Loss: 1540.3484. L1: 778.6201. L2: 699.6137. L3 (not used): 1022.1364. Style Loss: 62.1147\n",
      "-----------------------------------\n",
      "Epoch 100\n",
      "-----------------------------------\n"
     ]
    },
    {
     "name": "stderr",
     "output_type": "stream",
     "text": [
      "Training: 100%|##########| 1/1 [00:01<00:00,  1.64s/it, loss=1.54e+3]\n"
     ]
    },
    {
     "name": "stdout",
     "output_type": "stream",
     "text": [
      "Training Loss: 1538.8359. L1: 778.5661. L2: 698.9265. L3 (not used): 1039.6566. Style Loss: 61.3434\n",
      "-----------------------------------\n",
      "Epoch 101\n",
      "-----------------------------------\n"
     ]
    },
    {
     "name": "stderr",
     "output_type": "stream",
     "text": [
      "Training: 100%|##########| 1/1 [00:01<00:00,  1.64s/it, loss=1.54e+3]\n"
     ]
    },
    {
     "name": "stdout",
     "output_type": "stream",
     "text": [
      "Training Loss: 1537.4001. L1: 778.5131. L2: 698.3475. L3 (not used): 1066.6792. Style Loss: 60.5395\n",
      "-----------------------------------\n",
      "Epoch 102\n",
      "-----------------------------------\n"
     ]
    },
    {
     "name": "stderr",
     "output_type": "stream",
     "text": [
      "Training: 100%|##########| 1/1 [00:01<00:00,  1.65s/it, loss=1.54e+3]\n"
     ]
    },
    {
     "name": "stdout",
     "output_type": "stream",
     "text": [
      "Training Loss: 1535.9773. L1: 778.4615. L2: 697.8365. L3 (not used): 1048.8512. Style Loss: 59.6792\n",
      "-----------------------------------\n",
      "Epoch 103\n",
      "-----------------------------------\n"
     ]
    },
    {
     "name": "stderr",
     "output_type": "stream",
     "text": [
      "Training: 100%|##########| 1/1 [00:01<00:00,  1.65s/it, loss=1.54e+3]\n"
     ]
    },
    {
     "name": "stdout",
     "output_type": "stream",
     "text": [
      "Training Loss: 1535.4897. L1: 778.4120. L2: 698.2839. L3 (not used): 1011.0581. Style Loss: 58.7938\n",
      "-----------------------------------\n",
      "Epoch 104\n",
      "-----------------------------------\n"
     ]
    },
    {
     "name": "stderr",
     "output_type": "stream",
     "text": [
      "Training: 100%|##########| 1/1 [00:01<00:00,  1.65s/it, loss=1.54e+3]\n"
     ]
    },
    {
     "name": "stdout",
     "output_type": "stream",
     "text": [
      "Training Loss: 1539.4500. L1: 778.3771. L2: 703.1332. L3 (not used): 1006.5750. Style Loss: 57.9397\n",
      "-----------------------------------\n",
      "Epoch 105\n",
      "-----------------------------------\n"
     ]
    },
    {
     "name": "stderr",
     "output_type": "stream",
     "text": [
      "Training: 100%|##########| 1/1 [00:01<00:00,  1.65s/it, loss=1.53e+3]\n"
     ]
    },
    {
     "name": "stdout",
     "output_type": "stream",
     "text": [
      "Training Loss: 1533.9849. L1: 778.3325. L2: 698.5415. L3 (not used): 1028.5366. Style Loss: 57.1108\n",
      "-----------------------------------\n",
      "Epoch 106\n",
      "-----------------------------------\n"
     ]
    },
    {
     "name": "stderr",
     "output_type": "stream",
     "text": [
      "Training: 100%|##########| 1/1 [00:01<00:00,  1.64s/it, loss=1.53e+3]\n"
     ]
    },
    {
     "name": "stdout",
     "output_type": "stream",
     "text": [
      "Training Loss: 1532.6082. L1: 778.2801. L2: 698.0579. L3 (not used): 1090.7981. Style Loss: 56.2702\n",
      "-----------------------------------\n",
      "Epoch 107\n",
      "-----------------------------------\n"
     ]
    },
    {
     "name": "stderr",
     "output_type": "stream",
     "text": [
      "Training: 100%|##########| 1/1 [00:01<00:00,  1.65s/it, loss=1.53e+3]\n"
     ]
    },
    {
     "name": "stdout",
     "output_type": "stream",
     "text": [
      "Training Loss: 1531.7513. L1: 778.2358. L2: 698.0758. L3 (not used): 1029.0302. Style Loss: 55.4397\n",
      "-----------------------------------\n",
      "Epoch 108\n",
      "-----------------------------------\n"
     ]
    },
    {
     "name": "stderr",
     "output_type": "stream",
     "text": [
      "Training: 100%|##########| 1/1 [00:01<00:00,  1.64s/it, loss=1.53e+3]\n"
     ]
    },
    {
     "name": "stdout",
     "output_type": "stream",
     "text": [
      "Training Loss: 1528.7438. L1: 778.2123. L2: 695.9501. L3 (not used): 988.6871. Style Loss: 54.5814\n",
      "-----------------------------------\n",
      "Epoch 109\n",
      "-----------------------------------\n"
     ]
    },
    {
     "name": "stderr",
     "output_type": "stream",
     "text": [
      "Training: 100%|##########| 1/1 [00:01<00:00,  1.66s/it, loss=1.53e+3]\n"
     ]
    },
    {
     "name": "stdout",
     "output_type": "stream",
     "text": [
      "Training Loss: 1527.5391. L1: 778.1970. L2: 695.5980. L3 (not used): 972.8178. Style Loss: 53.7441\n",
      "-----------------------------------\n",
      "Epoch 110\n",
      "-----------------------------------\n"
     ]
    },
    {
     "name": "stderr",
     "output_type": "stream",
     "text": [
      "Training: 100%|##########| 1/1 [00:01<00:00,  1.65s/it, loss=1.53e+3]\n"
     ]
    },
    {
     "name": "stdout",
     "output_type": "stream",
     "text": [
      "Training Loss: 1526.1863. L1: 778.1769. L2: 695.1880. L3 (not used): 976.5714. Style Loss: 52.8213\n",
      "-----------------------------------\n",
      "Epoch 111\n",
      "-----------------------------------\n"
     ]
    },
    {
     "name": "stderr",
     "output_type": "stream",
     "text": [
      "Training: 100%|##########| 1/1 [00:01<00:00,  1.65s/it, loss=1.52e+3]\n"
     ]
    },
    {
     "name": "stdout",
     "output_type": "stream",
     "text": [
      "Training Loss: 1524.2560. L1: 778.1488. L2: 694.3173. L3 (not used): 975.6740. Style Loss: 51.7899\n",
      "-----------------------------------\n",
      "Epoch 112\n",
      "-----------------------------------\n"
     ]
    },
    {
     "name": "stderr",
     "output_type": "stream",
     "text": [
      "Training: 100%|##########| 1/1 [00:01<00:00,  1.64s/it, loss=1.52e+3]\n"
     ]
    },
    {
     "name": "stdout",
     "output_type": "stream",
     "text": [
      "Training Loss: 1522.3375. L1: 778.1194. L2: 693.4855. L3 (not used): 963.6315. Style Loss: 50.7325\n",
      "-----------------------------------\n",
      "Epoch 113\n",
      "-----------------------------------\n"
     ]
    },
    {
     "name": "stderr",
     "output_type": "stream",
     "text": [
      "Training: 100%|##########| 1/1 [00:01<00:00,  1.64s/it, loss=1.52e+3]\n"
     ]
    },
    {
     "name": "stdout",
     "output_type": "stream",
     "text": [
      "Training Loss: 1520.3307. L1: 778.0930. L2: 692.5595. L3 (not used): 997.0113. Style Loss: 49.6781\n",
      "-----------------------------------\n",
      "Epoch 114\n",
      "-----------------------------------\n"
     ]
    },
    {
     "name": "stderr",
     "output_type": "stream",
     "text": [
      "Training: 100%|##########| 1/1 [00:01<00:00,  1.64s/it, loss=1.52e+3]\n"
     ]
    },
    {
     "name": "stdout",
     "output_type": "stream",
     "text": [
      "Training Loss: 1518.9464. L1: 778.0690. L2: 692.2534. L3 (not used): 1031.4645. Style Loss: 48.6240\n",
      "-----------------------------------\n",
      "Epoch 115\n",
      "-----------------------------------\n"
     ]
    },
    {
     "name": "stderr",
     "output_type": "stream",
     "text": [
      "Training: 100%|##########| 1/1 [00:01<00:00,  1.65s/it, loss=1.52e+3]\n"
     ]
    },
    {
     "name": "stdout",
     "output_type": "stream",
     "text": [
      "Training Loss: 1517.2476. L1: 778.0475. L2: 691.6290. L3 (not used): 1021.1724. Style Loss: 47.5710\n",
      "-----------------------------------\n",
      "Epoch 116\n",
      "-----------------------------------\n"
     ]
    },
    {
     "name": "stderr",
     "output_type": "stream",
     "text": [
      "Training: 100%|##########| 1/1 [00:01<00:00,  1.64s/it, loss=1.52e+3]\n"
     ]
    },
    {
     "name": "stdout",
     "output_type": "stream",
     "text": [
      "Training Loss: 1515.4873. L1: 778.0278. L2: 690.9290. L3 (not used): 1003.8527. Style Loss: 46.5306\n",
      "-----------------------------------\n",
      "Epoch 117\n",
      "-----------------------------------\n"
     ]
    },
    {
     "name": "stderr",
     "output_type": "stream",
     "text": [
      "Training: 100%|##########| 1/1 [00:01<00:00,  1.64s/it, loss=1.51e+3]\n"
     ]
    },
    {
     "name": "stdout",
     "output_type": "stream",
     "text": [
      "Training Loss: 1513.7787. L1: 778.0055. L2: 690.2585. L3 (not used): 978.2804. Style Loss: 45.5148\n",
      "-----------------------------------\n",
      "Epoch 118\n",
      "-----------------------------------\n"
     ]
    },
    {
     "name": "stderr",
     "output_type": "stream",
     "text": [
      "Training: 100%|##########| 1/1 [00:01<00:00,  1.65s/it, loss=1.51e+3]\n"
     ]
    },
    {
     "name": "stdout",
     "output_type": "stream",
     "text": [
      "Training Loss: 1512.2753. L1: 777.9788. L2: 689.7636. L3 (not used): 924.0250. Style Loss: 44.5328\n",
      "-----------------------------------\n",
      "Epoch 119\n",
      "-----------------------------------\n"
     ]
    },
    {
     "name": "stderr",
     "output_type": "stream",
     "text": [
      "Training: 100%|##########| 1/1 [00:01<00:00,  1.64s/it, loss=1.51e+3]\n"
     ]
    },
    {
     "name": "stdout",
     "output_type": "stream",
     "text": [
      "Training Loss: 1510.6267. L1: 777.9520. L2: 689.1000. L3 (not used): 886.4790. Style Loss: 43.5748\n",
      "-----------------------------------\n",
      "Epoch 120\n",
      "-----------------------------------\n"
     ]
    },
    {
     "name": "stderr",
     "output_type": "stream",
     "text": [
      "Training: 100%|##########| 1/1 [00:01<00:00,  1.66s/it, loss=1.51e+3]\n"
     ]
    },
    {
     "name": "stdout",
     "output_type": "stream",
     "text": [
      "Training Loss: 1509.0046. L1: 777.9304. L2: 688.4318. L3 (not used): 897.7322. Style Loss: 42.6426\n",
      "-----------------------------------\n",
      "Epoch 121\n",
      "-----------------------------------\n"
     ]
    },
    {
     "name": "stderr",
     "output_type": "stream",
     "text": [
      "Training: 100%|##########| 1/1 [00:01<00:00,  1.65s/it, loss=1.51e+3]\n"
     ]
    },
    {
     "name": "stdout",
     "output_type": "stream",
     "text": [
      "Training Loss: 1507.5291. L1: 777.9152. L2: 687.8802. L3 (not used): 938.5261. Style Loss: 41.7337\n",
      "-----------------------------------\n",
      "Epoch 122\n",
      "-----------------------------------\n"
     ]
    },
    {
     "name": "stderr",
     "output_type": "stream",
     "text": [
      "Training: 100%|##########| 1/1 [00:01<00:00,  1.64s/it, loss=1.51e+3]\n"
     ]
    },
    {
     "name": "stdout",
     "output_type": "stream",
     "text": [
      "Training Loss: 1506.0750. L1: 777.9068. L2: 687.3363. L3 (not used): 911.9330. Style Loss: 40.8318\n",
      "-----------------------------------\n",
      "Epoch 123\n",
      "-----------------------------------\n"
     ]
    },
    {
     "name": "stderr",
     "output_type": "stream",
     "text": [
      "Training: 100%|##########| 1/1 [00:01<00:00,  1.64s/it, loss=1.5e+3]\n"
     ]
    },
    {
     "name": "stdout",
     "output_type": "stream",
     "text": [
      "Training Loss: 1504.6359. L1: 777.9037. L2: 686.7803. L3 (not used): 900.9514. Style Loss: 39.9518\n",
      "-----------------------------------\n",
      "Epoch 124\n",
      "-----------------------------------\n"
     ]
    },
    {
     "name": "stderr",
     "output_type": "stream",
     "text": [
      "Training: 100%|##########| 1/1 [00:01<00:00,  1.65s/it, loss=1.5e+3]\n"
     ]
    },
    {
     "name": "stdout",
     "output_type": "stream",
     "text": [
      "Training Loss: 1503.1749. L1: 777.9007. L2: 686.1638. L3 (not used): 934.4239. Style Loss: 39.1105\n",
      "-----------------------------------\n",
      "Epoch 125\n",
      "-----------------------------------\n"
     ]
    },
    {
     "name": "stderr",
     "output_type": "stream",
     "text": [
      "Training: 100%|##########| 1/1 [00:01<00:00,  1.64s/it, loss=1.5e+3]\n"
     ]
    },
    {
     "name": "stdout",
     "output_type": "stream",
     "text": [
      "Training Loss: 1501.8405. L1: 777.8945. L2: 685.6420. L3 (not used): 923.5089. Style Loss: 38.3040\n",
      "-----------------------------------\n",
      "Epoch 126\n",
      "-----------------------------------\n"
     ]
    },
    {
     "name": "stderr",
     "output_type": "stream",
     "text": [
      "Training: 100%|##########| 1/1 [00:01<00:00,  1.64s/it, loss=1.5e+3]\n"
     ]
    },
    {
     "name": "stdout",
     "output_type": "stream",
     "text": [
      "Training Loss: 1500.4651. L1: 777.8880. L2: 685.0391. L3 (not used): 891.5581. Style Loss: 37.5380\n",
      "-----------------------------------\n",
      "Epoch 127\n",
      "-----------------------------------\n"
     ]
    },
    {
     "name": "stderr",
     "output_type": "stream",
     "text": [
      "Training: 100%|##########| 1/1 [00:01<00:00,  1.64s/it, loss=1.5e+3]\n"
     ]
    },
    {
     "name": "stdout",
     "output_type": "stream",
     "text": [
      "Training Loss: 1499.1870. L1: 777.8770. L2: 684.4984. L3 (not used): 896.5173. Style Loss: 36.8116\n",
      "-----------------------------------\n",
      "Epoch 128\n",
      "-----------------------------------\n"
     ]
    },
    {
     "name": "stderr",
     "output_type": "stream",
     "text": [
      "Training: 100%|##########| 1/1 [00:01<00:00,  1.64s/it, loss=1.5e+3]\n"
     ]
    },
    {
     "name": "stdout",
     "output_type": "stream",
     "text": [
      "Training Loss: 1497.9950. L1: 777.8625. L2: 684.0034. L3 (not used): 926.8559. Style Loss: 36.1292\n",
      "-----------------------------------\n",
      "Epoch 129\n",
      "-----------------------------------\n"
     ]
    },
    {
     "name": "stderr",
     "output_type": "stream",
     "text": [
      "Training: 100%|##########| 1/1 [00:01<00:00,  1.63s/it, loss=1.5e+3]\n"
     ]
    },
    {
     "name": "stdout",
     "output_type": "stream",
     "text": [
      "Training Loss: 1496.8972. L1: 777.8499. L2: 683.5497. L3 (not used): 946.6965. Style Loss: 35.4975\n",
      "-----------------------------------\n",
      "Epoch 130\n",
      "-----------------------------------\n"
     ]
    },
    {
     "name": "stderr",
     "output_type": "stream",
     "text": [
      "Training: 100%|##########| 1/1 [00:01<00:00,  1.65s/it, loss=1.5e+3]\n"
     ]
    },
    {
     "name": "stdout",
     "output_type": "stream",
     "text": [
      "Training Loss: 1495.9896. L1: 777.8375. L2: 683.2571. L3 (not used): 908.9059. Style Loss: 34.8950\n",
      "-----------------------------------\n",
      "Epoch 131\n",
      "-----------------------------------\n"
     ]
    },
    {
     "name": "stderr",
     "output_type": "stream",
     "text": [
      "Training: 100%|##########| 1/1 [00:01<00:00,  1.66s/it, loss=1.5e+3]\n"
     ]
    },
    {
     "name": "stdout",
     "output_type": "stream",
     "text": [
      "Training Loss: 1495.5941. L1: 777.8279. L2: 683.4144. L3 (not used): 935.9352. Style Loss: 34.3518\n",
      "-----------------------------------\n",
      "Epoch 132\n",
      "-----------------------------------\n"
     ]
    },
    {
     "name": "stderr",
     "output_type": "stream",
     "text": [
      "Training: 100%|##########| 1/1 [00:01<00:00,  1.63s/it, loss=1.5e+3]\n"
     ]
    },
    {
     "name": "stdout",
     "output_type": "stream",
     "text": [
      "Training Loss: 1495.8124. L1: 777.8181. L2: 684.1607. L3 (not used): 873.1127. Style Loss: 33.8336\n",
      "-----------------------------------\n",
      "Epoch 133\n",
      "-----------------------------------\n"
     ]
    },
    {
     "name": "stderr",
     "output_type": "stream",
     "text": [
      "Training: 100%|##########| 1/1 [00:01<00:00,  1.66s/it, loss=1.49e+3]\n"
     ]
    },
    {
     "name": "stdout",
     "output_type": "stream",
     "text": [
      "Training Loss: 1493.0215. L1: 777.8102. L2: 681.8341. L3 (not used): 899.9990. Style Loss: 33.3772\n",
      "-----------------------------------\n",
      "Epoch 134\n",
      "-----------------------------------\n"
     ]
    },
    {
     "name": "stderr",
     "output_type": "stream",
     "text": [
      "Training: 100%|##########| 1/1 [00:01<00:00,  1.64s/it, loss=1.49e+3]\n"
     ]
    },
    {
     "name": "stdout",
     "output_type": "stream",
     "text": [
      "Training Loss: 1492.9316. L1: 777.8008. L2: 682.1680. L3 (not used): 884.2192. Style Loss: 32.9629\n",
      "-----------------------------------\n",
      "Epoch 135\n",
      "-----------------------------------\n"
     ]
    },
    {
     "name": "stderr",
     "output_type": "stream",
     "text": [
      "Training: 100%|##########| 1/1 [00:01<00:00,  1.64s/it, loss=1.49e+3]\n"
     ]
    },
    {
     "name": "stdout",
     "output_type": "stream",
     "text": [
      "Training Loss: 1491.3868. L1: 777.7946. L2: 681.0423. L3 (not used): 893.6796. Style Loss: 32.5499\n",
      "-----------------------------------\n",
      "Epoch 136\n",
      "-----------------------------------\n"
     ]
    },
    {
     "name": "stderr",
     "output_type": "stream",
     "text": [
      "Training: 100%|##########| 1/1 [00:01<00:00,  1.63s/it, loss=1.49e+3]\n"
     ]
    },
    {
     "name": "stdout",
     "output_type": "stream",
     "text": [
      "Training Loss: 1490.8774. L1: 777.7915. L2: 680.9108. L3 (not used): 957.9138. Style Loss: 32.1751\n",
      "-----------------------------------\n",
      "Epoch 137\n",
      "-----------------------------------\n"
     ]
    },
    {
     "name": "stderr",
     "output_type": "stream",
     "text": [
      "Training: 100%|##########| 1/1 [00:01<00:00,  1.64s/it, loss=1.49e+3]\n"
     ]
    },
    {
     "name": "stdout",
     "output_type": "stream",
     "text": [
      "Training Loss: 1489.7323. L1: 777.7813. L2: 680.1176. L3 (not used): 935.3337. Style Loss: 31.8333\n",
      "-----------------------------------\n",
      "Epoch 138\n",
      "-----------------------------------\n"
     ]
    },
    {
     "name": "stderr",
     "output_type": "stream",
     "text": [
      "Training: 100%|##########| 1/1 [00:01<00:00,  1.64s/it, loss=1.49e+3]\n"
     ]
    },
    {
     "name": "stdout",
     "output_type": "stream",
     "text": [
      "Training Loss: 1488.5715. L1: 777.7665. L2: 679.2834. L3 (not used): 889.8374. Style Loss: 31.5217\n",
      "-----------------------------------\n",
      "Epoch 139\n",
      "-----------------------------------\n"
     ]
    },
    {
     "name": "stderr",
     "output_type": "stream",
     "text": [
      "Training: 100%|##########| 1/1 [00:01<00:00,  1.63s/it, loss=1.49e+3]\n"
     ]
    },
    {
     "name": "stdout",
     "output_type": "stream",
     "text": [
      "Training Loss: 1487.9810. L1: 777.7548. L2: 679.0064. L3 (not used): 865.4498. Style Loss: 31.2197\n",
      "-----------------------------------\n",
      "Epoch 140\n",
      "-----------------------------------\n"
     ]
    },
    {
     "name": "stderr",
     "output_type": "stream",
     "text": [
      "Training: 100%|##########| 1/1 [00:01<00:00,  1.65s/it, loss=1.49e+3]\n"
     ]
    },
    {
     "name": "stdout",
     "output_type": "stream",
     "text": [
      "Training Loss: 1486.8160. L1: 777.7433. L2: 678.1649. L3 (not used): 888.3779. Style Loss: 30.9078\n",
      "-----------------------------------\n",
      "Epoch 141\n",
      "-----------------------------------\n"
     ]
    },
    {
     "name": "stderr",
     "output_type": "stream",
     "text": [
      "Training: 100%|##########| 1/1 [00:01<00:00,  1.66s/it, loss=1.49e+3]\n"
     ]
    },
    {
     "name": "stdout",
     "output_type": "stream",
     "text": [
      "Training Loss: 1486.2471. L1: 777.7257. L2: 677.9015. L3 (not used): 881.4487. Style Loss: 30.6199\n",
      "-----------------------------------\n",
      "Epoch 142\n",
      "-----------------------------------\n"
     ]
    },
    {
     "name": "stderr",
     "output_type": "stream",
     "text": [
      "Training: 100%|##########| 1/1 [00:01<00:00,  1.67s/it, loss=1.49e+3]\n"
     ]
    },
    {
     "name": "stdout",
     "output_type": "stream",
     "text": [
      "Training Loss: 1485.2163. L1: 777.7014. L2: 677.1525. L3 (not used): 935.9691. Style Loss: 30.3625\n",
      "-----------------------------------\n",
      "Epoch 143\n",
      "-----------------------------------\n"
     ]
    },
    {
     "name": "stderr",
     "output_type": "stream",
     "text": [
      "Training: 100%|##########| 1/1 [00:01<00:00,  1.65s/it, loss=1.48e+3]\n"
     ]
    },
    {
     "name": "stdout",
     "output_type": "stream",
     "text": [
      "Training Loss: 1484.3610. L1: 777.6728. L2: 676.5563. L3 (not used): 904.9673. Style Loss: 30.1319\n",
      "-----------------------------------\n",
      "Epoch 144\n",
      "-----------------------------------\n"
     ]
    },
    {
     "name": "stderr",
     "output_type": "stream",
     "text": [
      "Training: 100%|##########| 1/1 [00:01<00:00,  1.65s/it, loss=1.48e+3]\n"
     ]
    },
    {
     "name": "stdout",
     "output_type": "stream",
     "text": [
      "Training Loss: 1483.7983. L1: 777.6476. L2: 676.2559. L3 (not used): 862.1892. Style Loss: 29.8948\n",
      "-----------------------------------\n",
      "Epoch 145\n",
      "-----------------------------------\n"
     ]
    },
    {
     "name": "stderr",
     "output_type": "stream",
     "text": [
      "Training: 100%|##########| 1/1 [00:01<00:00,  1.64s/it, loss=1.48e+3]\n"
     ]
    },
    {
     "name": "stdout",
     "output_type": "stream",
     "text": [
      "Training Loss: 1482.7117. L1: 777.6319. L2: 675.4497. L3 (not used): 879.9237. Style Loss: 29.6302\n",
      "-----------------------------------\n",
      "Epoch 146\n",
      "-----------------------------------\n"
     ]
    },
    {
     "name": "stderr",
     "output_type": "stream",
     "text": [
      "Training: 100%|##########| 1/1 [00:01<00:00,  1.63s/it, loss=1.48e+3]\n"
     ]
    },
    {
     "name": "stdout",
     "output_type": "stream",
     "text": [
      "Training Loss: 1482.0684. L1: 777.6169. L2: 675.0745. L3 (not used): 892.7227. Style Loss: 29.3770\n",
      "-----------------------------------\n",
      "Epoch 147\n",
      "-----------------------------------\n"
     ]
    },
    {
     "name": "stderr",
     "output_type": "stream",
     "text": [
      "Training: 100%|##########| 1/1 [00:01<00:00,  1.65s/it, loss=1.48e+3]\n"
     ]
    },
    {
     "name": "stdout",
     "output_type": "stream",
     "text": [
      "Training Loss: 1481.3217. L1: 777.5948. L2: 674.5728. L3 (not used): 846.5905. Style Loss: 29.1540\n",
      "-----------------------------------\n",
      "Epoch 148\n",
      "-----------------------------------\n"
     ]
    },
    {
     "name": "stderr",
     "output_type": "stream",
     "text": [
      "Training: 100%|##########| 1/1 [00:01<00:00,  1.65s/it, loss=1.48e+3]\n"
     ]
    },
    {
     "name": "stdout",
     "output_type": "stream",
     "text": [
      "Training Loss: 1480.4380. L1: 777.5667. L2: 673.9290. L3 (not used): 855.8421. Style Loss: 28.9424\n",
      "-----------------------------------\n",
      "Epoch 149\n",
      "-----------------------------------\n"
     ]
    },
    {
     "name": "stderr",
     "output_type": "stream",
     "text": [
      "Training: 100%|##########| 1/1 [00:01<00:00,  1.65s/it, loss=1.48e+3]\n"
     ]
    },
    {
     "name": "stdout",
     "output_type": "stream",
     "text": [
      "Training Loss: 1479.7920. L1: 777.5368. L2: 673.5120. L3 (not used): 851.7875. Style Loss: 28.7432\n",
      "-----------------------------------\n",
      "Epoch 150\n",
      "-----------------------------------\n"
     ]
    },
    {
     "name": "stderr",
     "output_type": "stream",
     "text": [
      "Training: 100%|##########| 1/1 [00:01<00:00,  1.65s/it, loss=1.48e+3]\n"
     ]
    },
    {
     "name": "stdout",
     "output_type": "stream",
     "text": [
      "Training Loss: 1478.9825. L1: 777.5099. L2: 672.9233. L3 (not used): 851.4471. Style Loss: 28.5493\n",
      "-----------------------------------\n",
      "Epoch 151\n",
      "-----------------------------------\n"
     ]
    },
    {
     "name": "stderr",
     "output_type": "stream",
     "text": [
      "Training: 100%|##########| 1/1 [00:01<00:00,  1.65s/it, loss=1.48e+3]\n"
     ]
    },
    {
     "name": "stdout",
     "output_type": "stream",
     "text": [
      "Training Loss: 1478.2988. L1: 777.4802. L2: 672.4516. L3 (not used): 885.0640. Style Loss: 28.3671\n",
      "-----------------------------------\n",
      "Epoch 152\n",
      "-----------------------------------\n"
     ]
    },
    {
     "name": "stderr",
     "output_type": "stream",
     "text": [
      "Training: 100%|##########| 1/1 [00:01<00:00,  1.65s/it, loss=1.48e+3]\n"
     ]
    },
    {
     "name": "stdout",
     "output_type": "stream",
     "text": [
      "Training Loss: 1477.5377. L1: 777.4483. L2: 671.8909. L3 (not used): 892.0372. Style Loss: 28.1984\n",
      "-----------------------------------\n",
      "Epoch 153\n",
      "-----------------------------------\n"
     ]
    },
    {
     "name": "stderr",
     "output_type": "stream",
     "text": [
      "Training: 100%|##########| 1/1 [00:01<00:00,  1.65s/it, loss=1.48e+3]\n"
     ]
    },
    {
     "name": "stdout",
     "output_type": "stream",
     "text": [
      "Training Loss: 1476.8290. L1: 777.4180. L2: 671.3739. L3 (not used): 852.4457. Style Loss: 28.0370\n",
      "-----------------------------------\n",
      "Epoch 154\n",
      "-----------------------------------\n"
     ]
    },
    {
     "name": "stderr",
     "output_type": "stream",
     "text": [
      "Training: 100%|##########| 1/1 [00:01<00:00,  1.65s/it, loss=1.48e+3]\n"
     ]
    },
    {
     "name": "stdout",
     "output_type": "stream",
     "text": [
      "Training Loss: 1476.1213. L1: 777.3857. L2: 670.8580. L3 (not used): 842.2359. Style Loss: 27.8776\n",
      "-----------------------------------\n",
      "Epoch 155\n",
      "-----------------------------------\n"
     ]
    },
    {
     "name": "stderr",
     "output_type": "stream",
     "text": [
      "Training: 100%|##########| 1/1 [00:01<00:00,  1.65s/it, loss=1.48e+3]\n"
     ]
    },
    {
     "name": "stdout",
     "output_type": "stream",
     "text": [
      "Training Loss: 1475.4073. L1: 777.3524. L2: 670.3308. L3 (not used): 859.3047. Style Loss: 27.7241\n",
      "-----------------------------------\n",
      "Epoch 156\n",
      "-----------------------------------\n"
     ]
    },
    {
     "name": "stderr",
     "output_type": "stream",
     "text": [
      "Training: 100%|##########| 1/1 [00:01<00:00,  1.65s/it, loss=1.47e+3]\n"
     ]
    },
    {
     "name": "stdout",
     "output_type": "stream",
     "text": [
      "Training Loss: 1474.7330. L1: 777.3192. L2: 669.8321. L3 (not used): 867.0390. Style Loss: 27.5818\n",
      "-----------------------------------\n",
      "Epoch 157\n",
      "-----------------------------------\n"
     ]
    },
    {
     "name": "stderr",
     "output_type": "stream",
     "text": [
      "Training: 100%|##########| 1/1 [00:01<00:00,  1.65s/it, loss=1.47e+3]\n"
     ]
    },
    {
     "name": "stdout",
     "output_type": "stream",
     "text": [
      "Training Loss: 1474.0016. L1: 777.2811. L2: 669.2686. L3 (not used): 869.6767. Style Loss: 27.4520\n",
      "-----------------------------------\n",
      "Epoch 158\n",
      "-----------------------------------\n"
     ]
    },
    {
     "name": "stderr",
     "output_type": "stream",
     "text": [
      "Training: 100%|##########| 1/1 [00:01<00:00,  1.65s/it, loss=1.47e+3]\n"
     ]
    },
    {
     "name": "stdout",
     "output_type": "stream",
     "text": [
      "Training Loss: 1473.3762. L1: 777.2427. L2: 668.8079. L3 (not used): 864.1328. Style Loss: 27.3255\n",
      "-----------------------------------\n",
      "Epoch 159\n",
      "-----------------------------------\n"
     ]
    },
    {
     "name": "stderr",
     "output_type": "stream",
     "text": [
      "Training: 100%|##########| 1/1 [00:01<00:00,  1.64s/it, loss=1.47e+3]\n"
     ]
    },
    {
     "name": "stdout",
     "output_type": "stream",
     "text": [
      "Training Loss: 1472.6790. L1: 777.2068. L2: 668.2744. L3 (not used): 831.5735. Style Loss: 27.1977\n",
      "-----------------------------------\n",
      "Epoch 160\n",
      "-----------------------------------\n"
     ]
    },
    {
     "name": "stderr",
     "output_type": "stream",
     "text": [
      "Training: 100%|##########| 1/1 [00:01<00:00,  1.66s/it, loss=1.47e+3]\n"
     ]
    },
    {
     "name": "stdout",
     "output_type": "stream",
     "text": [
      "Training Loss: 1472.0906. L1: 777.1690. L2: 667.8500. L3 (not used): 859.1022. Style Loss: 27.0716\n",
      "-----------------------------------\n",
      "Epoch 161\n",
      "-----------------------------------\n"
     ]
    },
    {
     "name": "stderr",
     "output_type": "stream",
     "text": [
      "Training: 100%|##########| 1/1 [00:01<00:00,  1.65s/it, loss=1.47e+3]\n"
     ]
    },
    {
     "name": "stdout",
     "output_type": "stream",
     "text": [
      "Training Loss: 1471.5964. L1: 777.1264. L2: 667.5120. L3 (not used): 847.4823. Style Loss: 26.9579\n",
      "-----------------------------------\n",
      "Epoch 162\n",
      "-----------------------------------\n"
     ]
    },
    {
     "name": "stderr",
     "output_type": "stream",
     "text": [
      "Training: 100%|##########| 1/1 [00:01<00:00,  1.66s/it, loss=1.47e+3]\n"
     ]
    },
    {
     "name": "stdout",
     "output_type": "stream",
     "text": [
      "Training Loss: 1472.0049. L1: 777.0926. L2: 668.0705. L3 (not used): 860.0510. Style Loss: 26.8418\n",
      "-----------------------------------\n",
      "Epoch 163\n",
      "-----------------------------------\n"
     ]
    },
    {
     "name": "stderr",
     "output_type": "stream",
     "text": [
      "Training: 100%|##########| 1/1 [00:01<00:00,  1.63s/it, loss=1.47e+3]\n"
     ]
    },
    {
     "name": "stdout",
     "output_type": "stream",
     "text": [
      "Training Loss: 1471.4723. L1: 777.0507. L2: 667.6757. L3 (not used): 819.5601. Style Loss: 26.7460\n",
      "-----------------------------------\n",
      "Epoch 164\n",
      "-----------------------------------\n"
     ]
    },
    {
     "name": "stderr",
     "output_type": "stream",
     "text": [
      "Training: 100%|##########| 1/1 [00:01<00:00,  1.63s/it, loss=1.47e+3]\n"
     ]
    },
    {
     "name": "stdout",
     "output_type": "stream",
     "text": [
      "Training Loss: 1470.3297. L1: 777.0000. L2: 666.6718. L3 (not used): 873.5979. Style Loss: 26.6580\n",
      "-----------------------------------\n",
      "Epoch 165\n",
      "-----------------------------------\n"
     ]
    },
    {
     "name": "stderr",
     "output_type": "stream",
     "text": [
      "Training: 100%|##########| 1/1 [00:01<00:00,  1.64s/it, loss=1.47e+3]\n"
     ]
    },
    {
     "name": "stdout",
     "output_type": "stream",
     "text": [
      "Training Loss: 1468.9204. L1: 776.9543. L2: 665.4023. L3 (not used): 845.6860. Style Loss: 26.5637\n",
      "-----------------------------------\n",
      "Epoch 166\n",
      "-----------------------------------\n"
     ]
    },
    {
     "name": "stderr",
     "output_type": "stream",
     "text": [
      "Training: 100%|##########| 1/1 [00:01<00:00,  1.64s/it, loss=1.47e+3]\n"
     ]
    },
    {
     "name": "stdout",
     "output_type": "stream",
     "text": [
      "Training Loss: 1468.8599. L1: 776.9085. L2: 665.4703. L3 (not used): 844.9056. Style Loss: 26.4811\n",
      "-----------------------------------\n",
      "Epoch 167\n",
      "-----------------------------------\n"
     ]
    },
    {
     "name": "stderr",
     "output_type": "stream",
     "text": [
      "Training: 100%|##########| 1/1 [00:01<00:00,  1.64s/it, loss=1.47e+3]\n"
     ]
    },
    {
     "name": "stdout",
     "output_type": "stream",
     "text": [
      "Training Loss: 1467.6415. L1: 776.8657. L2: 664.4025. L3 (not used): 862.0162. Style Loss: 26.3732\n",
      "-----------------------------------\n",
      "Epoch 168\n",
      "-----------------------------------\n"
     ]
    },
    {
     "name": "stderr",
     "output_type": "stream",
     "text": [
      "Training: 100%|##########| 1/1 [00:01<00:00,  1.63s/it, loss=1.47e+3]\n"
     ]
    },
    {
     "name": "stdout",
     "output_type": "stream",
     "text": [
      "Training Loss: 1467.1969. L1: 776.8251. L2: 664.1103. L3 (not used): 826.4674. Style Loss: 26.2616\n",
      "-----------------------------------\n",
      "Epoch 169\n",
      "-----------------------------------\n"
     ]
    },
    {
     "name": "stderr",
     "output_type": "stream",
     "text": [
      "Training: 100%|##########| 1/1 [00:01<00:00,  1.64s/it, loss=1.47e+3]\n"
     ]
    },
    {
     "name": "stdout",
     "output_type": "stream",
     "text": [
      "Training Loss: 1466.4386. L1: 776.7859. L2: 663.5001. L3 (not used): 824.4082. Style Loss: 26.1527\n",
      "-----------------------------------\n",
      "Epoch 170\n",
      "-----------------------------------\n"
     ]
    },
    {
     "name": "stderr",
     "output_type": "stream",
     "text": [
      "Training: 100%|##########| 1/1 [00:01<00:00,  1.65s/it, loss=1.47e+3]\n"
     ]
    },
    {
     "name": "stdout",
     "output_type": "stream",
     "text": [
      "Training Loss: 1465.6687. L1: 776.7420. L2: 662.8762. L3 (not used): 869.6304. Style Loss: 26.0506\n",
      "-----------------------------------\n",
      "Epoch 171\n",
      "-----------------------------------\n"
     ]
    },
    {
     "name": "stderr",
     "output_type": "stream",
     "text": [
      "Training: 100%|##########| 1/1 [00:01<00:00,  1.64s/it, loss=1.47e+3]\n"
     ]
    },
    {
     "name": "stdout",
     "output_type": "stream",
     "text": [
      "Training Loss: 1465.0778. L1: 776.6851. L2: 662.4322. L3 (not used): 854.8298. Style Loss: 25.9605\n",
      "-----------------------------------\n",
      "Epoch 172\n",
      "-----------------------------------\n"
     ]
    },
    {
     "name": "stderr",
     "output_type": "stream",
     "text": [
      "Training: 100%|##########| 1/1 [00:01<00:00,  1.65s/it, loss=1.46e+3]\n"
     ]
    },
    {
     "name": "stdout",
     "output_type": "stream",
     "text": [
      "Training Loss: 1464.2623. L1: 776.6287. L2: 661.7596. L3 (not used): 845.0957. Style Loss: 25.8742\n",
      "-----------------------------------\n",
      "Epoch 173\n",
      "-----------------------------------\n"
     ]
    },
    {
     "name": "stderr",
     "output_type": "stream",
     "text": [
      "Training: 100%|##########| 1/1 [00:01<00:00,  1.64s/it, loss=1.46e+3]\n"
     ]
    },
    {
     "name": "stdout",
     "output_type": "stream",
     "text": [
      "Training Loss: 1463.5815. L1: 776.5816. L2: 661.2264. L3 (not used): 860.0526. Style Loss: 25.7736\n",
      "-----------------------------------\n",
      "Epoch 174\n",
      "-----------------------------------\n"
     ]
    },
    {
     "name": "stderr",
     "output_type": "stream",
     "text": [
      "Training: 100%|##########| 1/1 [00:01<00:00,  1.63s/it, loss=1.46e+3]\n"
     ]
    },
    {
     "name": "stdout",
     "output_type": "stream",
     "text": [
      "Training Loss: 1462.9827. L1: 776.5378. L2: 660.7713. L3 (not used): 842.5949. Style Loss: 25.6736\n",
      "-----------------------------------\n",
      "Epoch 175\n",
      "-----------------------------------\n"
     ]
    },
    {
     "name": "stderr",
     "output_type": "stream",
     "text": [
      "Training: 100%|##########| 1/1 [00:01<00:00,  1.64s/it, loss=1.46e+3]\n"
     ]
    },
    {
     "name": "stdout",
     "output_type": "stream",
     "text": [
      "Training Loss: 1462.1931. L1: 776.4908. L2: 660.1319. L3 (not used): 837.1896. Style Loss: 25.5704\n",
      "-----------------------------------\n",
      "Epoch 176\n",
      "-----------------------------------\n"
     ]
    },
    {
     "name": "stderr",
     "output_type": "stream",
     "text": [
      "Training: 100%|##########| 1/1 [00:01<00:00,  1.67s/it, loss=1.46e+3]\n"
     ]
    },
    {
     "name": "stdout",
     "output_type": "stream",
     "text": [
      "Training Loss: 1461.6533. L1: 776.4426. L2: 659.7489. L3 (not used): 857.6955. Style Loss: 25.4618\n",
      "-----------------------------------\n",
      "Epoch 177\n",
      "-----------------------------------\n"
     ]
    },
    {
     "name": "stderr",
     "output_type": "stream",
     "text": [
      "Training: 100%|##########| 1/1 [00:01<00:00,  1.66s/it, loss=1.46e+3]\n"
     ]
    },
    {
     "name": "stdout",
     "output_type": "stream",
     "text": [
      "Training Loss: 1460.9661. L1: 776.3950. L2: 659.2109. L3 (not used): 856.9978. Style Loss: 25.3601\n",
      "-----------------------------------\n",
      "Epoch 178\n",
      "-----------------------------------\n"
     ]
    },
    {
     "name": "stderr",
     "output_type": "stream",
     "text": [
      "Training: 100%|##########| 1/1 [00:01<00:00,  1.64s/it, loss=1.46e+3]\n"
     ]
    },
    {
     "name": "stdout",
     "output_type": "stream",
     "text": [
      "Training Loss: 1460.2229. L1: 776.3336. L2: 658.6083. L3 (not used): 867.7608. Style Loss: 25.2810\n",
      "-----------------------------------\n",
      "Epoch 179\n",
      "-----------------------------------\n"
     ]
    },
    {
     "name": "stderr",
     "output_type": "stream",
     "text": [
      "Training: 100%|##########| 1/1 [00:01<00:00,  1.64s/it, loss=1.46e+3]\n"
     ]
    },
    {
     "name": "stdout",
     "output_type": "stream",
     "text": [
      "Training Loss: 1459.6536. L1: 776.2639. L2: 658.1851. L3 (not used): 849.8541. Style Loss: 25.2046\n",
      "-----------------------------------\n",
      "Epoch 180\n",
      "-----------------------------------\n"
     ]
    },
    {
     "name": "stderr",
     "output_type": "stream",
     "text": [
      "Training: 100%|##########| 1/1 [00:01<00:00,  1.66s/it, loss=1.46e+3]\n"
     ]
    },
    {
     "name": "stdout",
     "output_type": "stream",
     "text": [
      "Training Loss: 1458.8430. L1: 776.2059. L2: 657.5276. L3 (not used): 859.8657. Style Loss: 25.1094\n",
      "-----------------------------------\n",
      "Epoch 181\n",
      "-----------------------------------\n"
     ]
    },
    {
     "name": "stderr",
     "output_type": "stream",
     "text": [
      "Training: 100%|##########| 1/1 [00:01<00:00,  1.65s/it, loss=1.46e+3]\n"
     ]
    },
    {
     "name": "stdout",
     "output_type": "stream",
     "text": [
      "Training Loss: 1458.2516. L1: 776.1462. L2: 657.0797. L3 (not used): 864.9474. Style Loss: 25.0257\n",
      "-----------------------------------\n",
      "Epoch 182\n",
      "-----------------------------------\n"
     ]
    },
    {
     "name": "stderr",
     "output_type": "stream",
     "text": [
      "Training: 100%|##########| 1/1 [00:01<00:00,  1.66s/it, loss=1.46e+3]\n"
     ]
    },
    {
     "name": "stdout",
     "output_type": "stream",
     "text": [
      "Training Loss: 1457.6238. L1: 776.0898. L2: 656.5952. L3 (not used): 823.4052. Style Loss: 24.9388\n",
      "-----------------------------------\n",
      "Epoch 183\n",
      "-----------------------------------\n"
     ]
    },
    {
     "name": "stderr",
     "output_type": "stream",
     "text": [
      "Training: 100%|##########| 1/1 [00:01<00:00,  1.64s/it, loss=1.46e+3]\n"
     ]
    },
    {
     "name": "stdout",
     "output_type": "stream",
     "text": [
      "Training Loss: 1456.8170. L1: 776.0395. L2: 655.9503. L3 (not used): 858.1433. Style Loss: 24.8273\n",
      "-----------------------------------\n",
      "Epoch 184\n",
      "-----------------------------------\n"
     ]
    },
    {
     "name": "stderr",
     "output_type": "stream",
     "text": [
      "Training: 100%|##########| 1/1 [00:01<00:00,  1.63s/it, loss=1.46e+3]\n"
     ]
    },
    {
     "name": "stdout",
     "output_type": "stream",
     "text": [
      "Training Loss: 1456.2147. L1: 775.9933. L2: 655.5074. L3 (not used): 849.6758. Style Loss: 24.7140\n",
      "-----------------------------------\n",
      "Epoch 185\n",
      "-----------------------------------\n"
     ]
    },
    {
     "name": "stderr",
     "output_type": "stream",
     "text": [
      "Training: 100%|##########| 1/1 [00:01<00:00,  1.66s/it, loss=1.46e+3]\n"
     ]
    },
    {
     "name": "stdout",
     "output_type": "stream",
     "text": [
      "Training Loss: 1455.4797. L1: 775.9438. L2: 654.9297. L3 (not used): 841.7592. Style Loss: 24.6062\n",
      "-----------------------------------\n",
      "Epoch 186\n",
      "-----------------------------------\n"
     ]
    },
    {
     "name": "stderr",
     "output_type": "stream",
     "text": [
      "Training: 100%|##########| 1/1 [00:01<00:00,  1.67s/it, loss=1.45e+3]\n"
     ]
    },
    {
     "name": "stdout",
     "output_type": "stream",
     "text": [
      "Training Loss: 1454.8044. L1: 775.8920. L2: 654.4080. L3 (not used): 844.0174. Style Loss: 24.5044\n",
      "-----------------------------------\n",
      "Epoch 187\n",
      "-----------------------------------\n"
     ]
    },
    {
     "name": "stderr",
     "output_type": "stream",
     "text": [
      "Training: 100%|##########| 1/1 [00:01<00:00,  1.68s/it, loss=1.45e+3]\n"
     ]
    },
    {
     "name": "stdout",
     "output_type": "stream",
     "text": [
      "Training Loss: 1454.1941. L1: 775.8414. L2: 653.9570. L3 (not used): 842.2227. Style Loss: 24.3958\n",
      "-----------------------------------\n",
      "Epoch 188\n",
      "-----------------------------------\n"
     ]
    },
    {
     "name": "stderr",
     "output_type": "stream",
     "text": [
      "Training: 100%|##########| 1/1 [00:01<00:00,  1.68s/it, loss=1.45e+3]\n"
     ]
    },
    {
     "name": "stdout",
     "output_type": "stream",
     "text": [
      "Training Loss: 1453.4672. L1: 775.7813. L2: 653.3838. L3 (not used): 860.9028. Style Loss: 24.3021\n",
      "-----------------------------------\n",
      "Epoch 189\n",
      "-----------------------------------\n"
     ]
    },
    {
     "name": "stderr",
     "output_type": "stream",
     "text": [
      "Training: 100%|##########| 1/1 [00:01<00:00,  1.68s/it, loss=1.45e+3]\n"
     ]
    },
    {
     "name": "stdout",
     "output_type": "stream",
     "text": [
      "Training Loss: 1452.9775. L1: 775.7209. L2: 653.0456. L3 (not used): 814.9076. Style Loss: 24.2109\n",
      "-----------------------------------\n",
      "Epoch 190\n",
      "-----------------------------------\n"
     ]
    },
    {
     "name": "stderr",
     "output_type": "stream",
     "text": [
      "Training: 100%|##########| 1/1 [00:01<00:00,  1.73s/it, loss=1.45e+3]\n"
     ]
    },
    {
     "name": "stdout",
     "output_type": "stream",
     "text": [
      "Training Loss: 1452.5662. L1: 775.6697. L2: 652.8033. L3 (not used): 883.2976. Style Loss: 24.0932\n",
      "-----------------------------------\n",
      "Epoch 191\n",
      "-----------------------------------\n"
     ]
    },
    {
     "name": "stderr",
     "output_type": "stream",
     "text": [
      "Training: 100%|##########| 1/1 [00:01<00:00,  1.70s/it, loss=1.45e+3]\n"
     ]
    },
    {
     "name": "stdout",
     "output_type": "stream",
     "text": [
      "Training Loss: 1452.1292. L1: 775.6128. L2: 652.5244. L3 (not used): 799.0514. Style Loss: 23.9920\n",
      "-----------------------------------\n",
      "Epoch 192\n",
      "-----------------------------------\n"
     ]
    },
    {
     "name": "stderr",
     "output_type": "stream",
     "text": [
      "Training: 100%|##########| 1/1 [00:01<00:00,  1.64s/it, loss=1.45e+3]\n"
     ]
    },
    {
     "name": "stdout",
     "output_type": "stream",
     "text": [
      "Training Loss: 1451.7098. L1: 775.5598. L2: 652.2702. L3 (not used): 886.9869. Style Loss: 23.8798\n",
      "-----------------------------------\n",
      "Epoch 193\n",
      "-----------------------------------\n"
     ]
    },
    {
     "name": "stderr",
     "output_type": "stream",
     "text": [
      "Training: 100%|##########| 1/1 [00:01<00:00,  1.68s/it, loss=1.45e+3]\n"
     ]
    },
    {
     "name": "stdout",
     "output_type": "stream",
     "text": [
      "Training Loss: 1450.5776. L1: 775.5071. L2: 651.3182. L3 (not used): 844.2012. Style Loss: 23.7521\n",
      "-----------------------------------\n",
      "Epoch 194\n",
      "-----------------------------------\n"
     ]
    },
    {
     "name": "stderr",
     "output_type": "stream",
     "text": [
      "Training: 100%|##########| 1/1 [00:01<00:00,  1.79s/it, loss=1.45e+3]\n"
     ]
    },
    {
     "name": "stdout",
     "output_type": "stream",
     "text": [
      "Training Loss: 1449.7318. L1: 775.4387. L2: 650.6389. L3 (not used): 830.6537. Style Loss: 23.6542\n",
      "-----------------------------------\n",
      "Epoch 195\n",
      "-----------------------------------\n"
     ]
    },
    {
     "name": "stderr",
     "output_type": "stream",
     "text": [
      "Training: 100%|##########| 1/1 [00:01<00:00,  1.69s/it, loss=1.45e+3]\n"
     ]
    },
    {
     "name": "stdout",
     "output_type": "stream",
     "text": [
      "Training Loss: 1449.4070. L1: 775.3712. L2: 650.4756. L3 (not used): 852.4343. Style Loss: 23.5603\n",
      "-----------------------------------\n",
      "Epoch 196\n",
      "-----------------------------------\n"
     ]
    },
    {
     "name": "stderr",
     "output_type": "stream",
     "text": [
      "Training: 100%|##########| 1/1 [00:01<00:00,  1.63s/it, loss=1.45e+3]\n"
     ]
    },
    {
     "name": "stdout",
     "output_type": "stream",
     "text": [
      "Training Loss: 1448.6670. L1: 775.3193. L2: 649.9241. L3 (not used): 846.9656. Style Loss: 23.4236\n",
      "-----------------------------------\n",
      "Epoch 197\n",
      "-----------------------------------\n"
     ]
    },
    {
     "name": "stderr",
     "output_type": "stream",
     "text": [
      "Training: 100%|##########| 1/1 [00:01<00:00,  1.62s/it, loss=1.45e+3]\n"
     ]
    },
    {
     "name": "stdout",
     "output_type": "stream",
     "text": [
      "Training Loss: 1447.5544. L1: 775.2562. L2: 648.9967. L3 (not used): 833.3394. Style Loss: 23.3015\n",
      "-----------------------------------\n",
      "Epoch 198\n",
      "-----------------------------------\n"
     ]
    },
    {
     "name": "stderr",
     "output_type": "stream",
     "text": [
      "Training: 100%|##########| 1/1 [00:01<00:00,  1.62s/it, loss=1.45e+3]\n"
     ]
    },
    {
     "name": "stdout",
     "output_type": "stream",
     "text": [
      "Training Loss: 1447.2494. L1: 775.1797. L2: 648.8593. L3 (not used): 839.6585. Style Loss: 23.2104\n",
      "-----------------------------------\n",
      "Epoch 199\n",
      "-----------------------------------\n"
     ]
    },
    {
     "name": "stderr",
     "output_type": "stream",
     "text": [
      "Training: 100%|##########| 1/1 [00:01<00:00,  1.64s/it, loss=1.45e+3]\n"
     ]
    },
    {
     "name": "stdout",
     "output_type": "stream",
     "text": [
      "Training Loss: 1446.1337. L1: 775.1222. L2: 647.9606. L3 (not used): 832.1039. Style Loss: 23.0509\n",
      "-----------------------------------\n",
      "Epoch 200\n",
      "-----------------------------------\n"
     ]
    },
    {
     "name": "stderr",
     "output_type": "stream",
     "text": [
      "Training: 100%|##########| 1/1 [00:01<00:00,  1.64s/it, loss=1.45e+3]\n"
     ]
    },
    {
     "name": "stdout",
     "output_type": "stream",
     "text": [
      "Training Loss: 1445.5649. L1: 775.0567. L2: 647.5923. L3 (not used): 839.0827. Style Loss: 22.9159\n",
      "-----------------------------------\n",
      "Epoch 201\n",
      "-----------------------------------\n"
     ]
    },
    {
     "name": "stderr",
     "output_type": "stream",
     "text": [
      "Training: 100%|##########| 1/1 [00:01<00:00,  1.64s/it, loss=1.44e+3]\n"
     ]
    },
    {
     "name": "stdout",
     "output_type": "stream",
     "text": [
      "Training Loss: 1444.7655. L1: 774.9797. L2: 646.9850. L3 (not used): 846.4320. Style Loss: 22.8007\n",
      "-----------------------------------\n",
      "Epoch 202\n",
      "-----------------------------------\n"
     ]
    },
    {
     "name": "stderr",
     "output_type": "stream",
     "text": [
      "Training: 100%|##########| 1/1 [00:01<00:00,  1.63s/it, loss=1.44e+3]\n"
     ]
    },
    {
     "name": "stdout",
     "output_type": "stream",
     "text": [
      "Training Loss: 1444.0736. L1: 774.9221. L2: 646.5009. L3 (not used): 833.1060. Style Loss: 22.6505\n",
      "-----------------------------------\n",
      "Epoch 203\n",
      "-----------------------------------\n"
     ]
    },
    {
     "name": "stderr",
     "output_type": "stream",
     "text": [
      "Training: 100%|##########| 1/1 [00:01<00:00,  1.63s/it, loss=1.44e+3]\n"
     ]
    },
    {
     "name": "stdout",
     "output_type": "stream",
     "text": [
      "Training Loss: 1443.3658. L1: 774.8483. L2: 646.0174. L3 (not used): 848.4256. Style Loss: 22.5001\n",
      "-----------------------------------\n",
      "Epoch 204\n",
      "-----------------------------------\n"
     ]
    },
    {
     "name": "stderr",
     "output_type": "stream",
     "text": [
      "Training: 100%|##########| 1/1 [00:01<00:00,  1.63s/it, loss=1.44e+3]\n"
     ]
    },
    {
     "name": "stdout",
     "output_type": "stream",
     "text": [
      "Training Loss: 1442.6598. L1: 774.7781. L2: 645.5251. L3 (not used): 841.1661. Style Loss: 22.3565\n",
      "-----------------------------------\n",
      "Epoch 205\n",
      "-----------------------------------\n"
     ]
    },
    {
     "name": "stderr",
     "output_type": "stream",
     "text": [
      "Training: 100%|##########| 1/1 [00:01<00:00,  1.64s/it, loss=1.44e+3]\n"
     ]
    },
    {
     "name": "stdout",
     "output_type": "stream",
     "text": [
      "Training Loss: 1442.0320. L1: 774.7001. L2: 645.1018. L3 (not used): 842.3368. Style Loss: 22.2300\n",
      "-----------------------------------\n",
      "Epoch 206\n",
      "-----------------------------------\n"
     ]
    },
    {
     "name": "stderr",
     "output_type": "stream",
     "text": [
      "Training: 100%|##########| 1/1 [00:01<00:00,  1.65s/it, loss=1.44e+3]\n"
     ]
    },
    {
     "name": "stdout",
     "output_type": "stream",
     "text": [
      "Training Loss: 1441.3868. L1: 774.6596. L2: 644.6918. L3 (not used): 825.0667. Style Loss: 22.0355\n",
      "-----------------------------------\n",
      "Epoch 207\n",
      "-----------------------------------\n"
     ]
    },
    {
     "name": "stderr",
     "output_type": "stream",
     "text": [
      "Training: 100%|##########| 1/1 [00:01<00:00,  1.63s/it, loss=1.44e+3]\n"
     ]
    },
    {
     "name": "stdout",
     "output_type": "stream",
     "text": [
      "Training Loss: 1440.9294. L1: 774.5629. L2: 644.4503. L3 (not used): 849.6276. Style Loss: 21.9163\n",
      "-----------------------------------\n",
      "Epoch 208\n",
      "-----------------------------------\n"
     ]
    },
    {
     "name": "stderr",
     "output_type": "stream",
     "text": [
      "Training: 100%|##########| 1/1 [00:01<00:00,  1.62s/it, loss=1.44e+3]\n"
     ]
    },
    {
     "name": "stdout",
     "output_type": "stream",
     "text": [
      "Training Loss: 1440.0906. L1: 774.5171. L2: 643.8675. L3 (not used): 808.3171. Style Loss: 21.7060\n",
      "-----------------------------------\n",
      "Epoch 209\n",
      "-----------------------------------\n"
     ]
    },
    {
     "name": "stderr",
     "output_type": "stream",
     "text": [
      "Training: 100%|##########| 1/1 [00:01<00:00,  1.62s/it, loss=1.44e+3]\n"
     ]
    },
    {
     "name": "stdout",
     "output_type": "stream",
     "text": [
      "Training Loss: 1439.5237. L1: 774.4292. L2: 643.5143. L3 (not used): 864.4114. Style Loss: 21.5802\n",
      "-----------------------------------\n",
      "Epoch 210\n",
      "-----------------------------------\n"
     ]
    },
    {
     "name": "stderr",
     "output_type": "stream",
     "text": [
      "Training: 100%|##########| 1/1 [00:01<00:00,  1.62s/it, loss=1.44e+3]\n"
     ]
    },
    {
     "name": "stdout",
     "output_type": "stream",
     "text": [
      "Training Loss: 1438.4147. L1: 774.3730. L2: 642.6562. L3 (not used): 855.1256. Style Loss: 21.3855\n",
      "-----------------------------------\n",
      "Epoch 211\n",
      "-----------------------------------\n"
     ]
    },
    {
     "name": "stderr",
     "output_type": "stream",
     "text": [
      "Training: 100%|##########| 1/1 [00:01<00:00,  1.62s/it, loss=1.44e+3]\n"
     ]
    },
    {
     "name": "stdout",
     "output_type": "stream",
     "text": [
      "Training Loss: 1437.5741. L1: 774.2953. L2: 642.0525. L3 (not used): 813.9960. Style Loss: 21.2262\n",
      "-----------------------------------\n",
      "Epoch 212\n",
      "-----------------------------------\n"
     ]
    },
    {
     "name": "stderr",
     "output_type": "stream",
     "text": [
      "Training: 100%|##########| 1/1 [00:01<00:00,  1.62s/it, loss=1.44e+3]\n"
     ]
    },
    {
     "name": "stdout",
     "output_type": "stream",
     "text": [
      "Training Loss: 1436.9066. L1: 774.2024. L2: 641.6096. L3 (not used): 846.8573. Style Loss: 21.0946\n",
      "-----------------------------------\n",
      "Epoch 213\n",
      "-----------------------------------\n"
     ]
    },
    {
     "name": "stderr",
     "output_type": "stream",
     "text": [
      "Training: 100%|##########| 1/1 [00:01<00:00,  1.62s/it, loss=1.44e+3]\n"
     ]
    },
    {
     "name": "stdout",
     "output_type": "stream",
     "text": [
      "Training Loss: 1436.3768. L1: 774.1530. L2: 641.3445. L3 (not used): 851.2568. Style Loss: 20.8794\n",
      "-----------------------------------\n",
      "Epoch 214\n",
      "-----------------------------------\n"
     ]
    },
    {
     "name": "stderr",
     "output_type": "stream",
     "text": [
      "Training: 100%|##########| 1/1 [00:01<00:00,  1.63s/it, loss=1.44e+3]\n"
     ]
    },
    {
     "name": "stdout",
     "output_type": "stream",
     "text": [
      "Training Loss: 1435.2502. L1: 774.0847. L2: 640.4608. L3 (not used): 834.2206. Style Loss: 20.7048\n",
      "-----------------------------------\n",
      "Epoch 215\n",
      "-----------------------------------\n"
     ]
    },
    {
     "name": "stderr",
     "output_type": "stream",
     "text": [
      "Training: 100%|##########| 1/1 [00:01<00:00,  1.62s/it, loss=1.43e+3]\n"
     ]
    },
    {
     "name": "stdout",
     "output_type": "stream",
     "text": [
      "Training Loss: 1434.5153. L1: 773.9852. L2: 639.9866. L3 (not used): 815.9280. Style Loss: 20.5433\n",
      "-----------------------------------\n",
      "Epoch 216\n",
      "-----------------------------------\n"
     ]
    },
    {
     "name": "stderr",
     "output_type": "stream",
     "text": [
      "Training: 100%|##########| 1/1 [00:01<00:00,  1.61s/it, loss=1.43e+3]\n"
     ]
    },
    {
     "name": "stdout",
     "output_type": "stream",
     "text": [
      "Training Loss: 1433.8583. L1: 773.9080. L2: 639.5748. L3 (not used): 852.3581. Style Loss: 20.3754\n",
      "-----------------------------------\n",
      "Epoch 217\n",
      "-----------------------------------\n"
     ]
    },
    {
     "name": "stderr",
     "output_type": "stream",
     "text": [
      "Training: 100%|##########| 1/1 [00:01<00:00,  1.63s/it, loss=1.43e+3]\n"
     ]
    },
    {
     "name": "stdout",
     "output_type": "stream",
     "text": [
      "Training Loss: 1432.9915. L1: 773.8862. L2: 638.9604. L3 (not used): 850.8754. Style Loss: 20.1448\n",
      "-----------------------------------\n",
      "Epoch 218\n",
      "-----------------------------------\n"
     ]
    },
    {
     "name": "stderr",
     "output_type": "stream",
     "text": [
      "Training: 100%|##########| 1/1 [00:01<00:00,  1.64s/it, loss=1.43e+3]\n"
     ]
    },
    {
     "name": "stdout",
     "output_type": "stream",
     "text": [
      "Training Loss: 1432.2653. L1: 773.7922. L2: 638.5385. L3 (not used): 788.7680. Style Loss: 19.9344\n",
      "-----------------------------------\n",
      "Epoch 219\n",
      "-----------------------------------\n"
     ]
    },
    {
     "name": "stderr",
     "output_type": "stream",
     "text": [
      "Training: 100%|##########| 1/1 [00:01<00:00,  1.63s/it, loss=1.43e+3]\n"
     ]
    },
    {
     "name": "stdout",
     "output_type": "stream",
     "text": [
      "Training Loss: 1431.6178. L1: 773.6609. L2: 638.0575. L3 (not used): 838.4874. Style Loss: 19.8993\n",
      "-----------------------------------\n",
      "Epoch 220\n",
      "-----------------------------------\n"
     ]
    },
    {
     "name": "stderr",
     "output_type": "stream",
     "text": [
      "Training: 100%|##########| 1/1 [00:01<00:00,  1.62s/it, loss=1.43e+3]\n"
     ]
    },
    {
     "name": "stdout",
     "output_type": "stream",
     "text": [
      "Training Loss: 1430.6047. L1: 773.6279. L2: 637.4253. L3 (not used): 840.4889. Style Loss: 19.5516\n",
      "-----------------------------------\n",
      "Epoch 221\n",
      "-----------------------------------\n"
     ]
    },
    {
     "name": "stderr",
     "output_type": "stream",
     "text": [
      "Training: 100%|##########| 1/1 [00:01<00:00,  1.66s/it, loss=1.43e+3]\n"
     ]
    },
    {
     "name": "stdout",
     "output_type": "stream",
     "text": [
      "Training Loss: 1429.8171. L1: 773.5724. L2: 636.8779. L3 (not used): 825.8138. Style Loss: 19.3668\n",
      "-----------------------------------\n",
      "Epoch 222\n",
      "-----------------------------------\n"
     ]
    },
    {
     "name": "stderr",
     "output_type": "stream",
     "text": [
      "Training: 100%|##########| 1/1 [00:01<00:00,  1.62s/it, loss=1.43e+3]\n"
     ]
    },
    {
     "name": "stdout",
     "output_type": "stream",
     "text": [
      "Training Loss: 1429.2168. L1: 773.4503. L2: 636.5979. L3 (not used): 812.6667. Style Loss: 19.1686\n",
      "-----------------------------------\n",
      "Epoch 223\n",
      "-----------------------------------\n"
     ]
    },
    {
     "name": "stderr",
     "output_type": "stream",
     "text": [
      "Training: 100%|##########| 1/1 [00:01<00:00,  1.62s/it, loss=1.43e+3]\n"
     ]
    },
    {
     "name": "stdout",
     "output_type": "stream",
     "text": [
      "Training Loss: 1429.4089. L1: 773.3301. L2: 636.9539. L3 (not used): 852.0340. Style Loss: 19.1250\n",
      "-----------------------------------\n",
      "Epoch 224\n",
      "-----------------------------------\n"
     ]
    },
    {
     "name": "stderr",
     "output_type": "stream",
     "text": [
      "Training: 100%|##########| 1/1 [00:01<00:00,  1.62s/it, loss=1.43e+3]\n"
     ]
    },
    {
     "name": "stdout",
     "output_type": "stream",
     "text": [
      "Training Loss: 1430.0918. L1: 773.3423. L2: 637.9874. L3 (not used): 819.6381. Style Loss: 18.7621\n",
      "-----------------------------------\n",
      "Epoch 225\n",
      "-----------------------------------\n"
     ]
    },
    {
     "name": "stderr",
     "output_type": "stream",
     "text": [
      "Training: 100%|##########| 1/1 [00:01<00:00,  1.63s/it, loss=1.43e+3]\n"
     ]
    },
    {
     "name": "stdout",
     "output_type": "stream",
     "text": [
      "Training Loss: 1433.3586. L1: 773.2307. L2: 641.4108. L3 (not used): 875.2529. Style Loss: 18.7172\n",
      "-----------------------------------\n",
      "Epoch 226\n",
      "-----------------------------------\n"
     ]
    },
    {
     "name": "stderr",
     "output_type": "stream",
     "text": [
      "Training: 100%|##########| 1/1 [00:01<00:00,  1.62s/it, loss=1.43e+3]\n"
     ]
    },
    {
     "name": "stdout",
     "output_type": "stream",
     "text": [
      "Training Loss: 1427.6885. L1: 773.2173. L2: 635.8796. L3 (not used): 844.2277. Style Loss: 18.5916\n",
      "-----------------------------------\n",
      "Epoch 227\n",
      "-----------------------------------\n"
     ]
    },
    {
     "name": "stderr",
     "output_type": "stream",
     "text": [
      "Training: 100%|##########| 1/1 [00:01<00:00,  1.62s/it, loss=1.43e+3]\n"
     ]
    },
    {
     "name": "stdout",
     "output_type": "stream",
     "text": [
      "Training Loss: 1429.6086. L1: 773.1180. L2: 638.0322. L3 (not used): 839.2071. Style Loss: 18.4585\n",
      "-----------------------------------\n",
      "Epoch 228\n",
      "-----------------------------------\n"
     ]
    },
    {
     "name": "stderr",
     "output_type": "stream",
     "text": [
      "Training: 100%|##########| 1/1 [00:01<00:00,  1.64s/it, loss=1.43e+3]\n"
     ]
    },
    {
     "name": "stdout",
     "output_type": "stream",
     "text": [
      "Training Loss: 1427.7581. L1: 772.9715. L2: 636.1383. L3 (not used): 815.9791. Style Loss: 18.6482\n",
      "-----------------------------------\n",
      "Epoch 229\n",
      "-----------------------------------\n"
     ]
    },
    {
     "name": "stderr",
     "output_type": "stream",
     "text": [
      "Training: 100%|##########| 1/1 [00:01<00:00,  1.64s/it, loss=1.43e+3]\n"
     ]
    },
    {
     "name": "stdout",
     "output_type": "stream",
     "text": [
      "Training Loss: 1427.5558. L1: 772.8973. L2: 636.1556. L3 (not used): 813.9206. Style Loss: 18.5028\n",
      "-----------------------------------\n",
      "Epoch 230\n",
      "-----------------------------------\n"
     ]
    },
    {
     "name": "stderr",
     "output_type": "stream",
     "text": [
      "Training: 100%|##########| 1/1 [00:01<00:00,  1.64s/it, loss=1.43e+3]\n"
     ]
    },
    {
     "name": "stdout",
     "output_type": "stream",
     "text": [
      "Training Loss: 1425.8304. L1: 772.8973. L2: 634.8177. L3 (not used): 835.7574. Style Loss: 18.1154\n",
      "-----------------------------------\n",
      "Epoch 231\n",
      "-----------------------------------\n"
     ]
    },
    {
     "name": "stderr",
     "output_type": "stream",
     "text": [
      "Training: 100%|##########| 1/1 [00:01<00:00,  1.63s/it, loss=1.43e+3]\n"
     ]
    },
    {
     "name": "stdout",
     "output_type": "stream",
     "text": [
      "Training Loss: 1425.5215. L1: 772.9029. L2: 634.4557. L3 (not used): 860.9896. Style Loss: 18.1628\n",
      "-----------------------------------\n",
      "Epoch 232\n",
      "-----------------------------------\n"
     ]
    },
    {
     "name": "stderr",
     "output_type": "stream",
     "text": [
      "Training: 100%|##########| 1/1 [00:01<00:00,  1.62s/it, loss=1.42e+3]\n"
     ]
    },
    {
     "name": "stdout",
     "output_type": "stream",
     "text": [
      "Training Loss: 1424.0054. L1: 772.7792. L2: 633.3921. L3 (not used): 836.5033. Style Loss: 17.8340\n",
      "-----------------------------------\n",
      "Epoch 233\n",
      "-----------------------------------\n"
     ]
    },
    {
     "name": "stderr",
     "output_type": "stream",
     "text": [
      "Training: 100%|##########| 1/1 [00:01<00:00,  1.63s/it, loss=1.42e+3]\n"
     ]
    },
    {
     "name": "stdout",
     "output_type": "stream",
     "text": [
      "Training Loss: 1422.9924. L1: 772.6082. L2: 632.5760. L3 (not used): 822.7128. Style Loss: 17.8082\n",
      "-----------------------------------\n",
      "Epoch 234\n",
      "-----------------------------------\n"
     ]
    },
    {
     "name": "stderr",
     "output_type": "stream",
     "text": [
      "Training: 100%|##########| 1/1 [00:01<00:00,  1.62s/it, loss=1.42e+3]\n"
     ]
    },
    {
     "name": "stdout",
     "output_type": "stream",
     "text": [
      "Training Loss: 1422.7996. L1: 772.4914. L2: 632.3113. L3 (not used): 820.5351. Style Loss: 17.9968\n",
      "-----------------------------------\n",
      "Epoch 235\n",
      "-----------------------------------\n"
     ]
    },
    {
     "name": "stderr",
     "output_type": "stream",
     "text": [
      "Training: 100%|##########| 1/1 [00:01<00:00,  1.67s/it, loss=1.42e+3]\n"
     ]
    },
    {
     "name": "stdout",
     "output_type": "stream",
     "text": [
      "Training Loss: 1421.0184. L1: 772.5217. L2: 631.2012. L3 (not used): 821.0975. Style Loss: 17.2956\n",
      "-----------------------------------\n",
      "Epoch 236\n",
      "-----------------------------------\n"
     ]
    },
    {
     "name": "stderr",
     "output_type": "stream",
     "text": [
      "Training: 100%|##########| 1/1 [00:01<00:00,  1.64s/it, loss=1.42e+3]\n"
     ]
    },
    {
     "name": "stdout",
     "output_type": "stream",
     "text": [
      "Training Loss: 1420.6630. L1: 772.5342. L2: 630.9348. L3 (not used): 835.0638. Style Loss: 17.1939\n",
      "-----------------------------------\n",
      "Epoch 237\n",
      "-----------------------------------\n"
     ]
    },
    {
     "name": "stderr",
     "output_type": "stream",
     "text": [
      "Training: 100%|##########| 1/1 [00:01<00:00,  1.63s/it, loss=1.42e+3]\n"
     ]
    },
    {
     "name": "stdout",
     "output_type": "stream",
     "text": [
      "Training Loss: 1419.7445. L1: 772.4541. L2: 630.2256. L3 (not used): 853.4055. Style Loss: 17.0649\n",
      "-----------------------------------\n",
      "Epoch 238\n",
      "-----------------------------------\n"
     ]
    },
    {
     "name": "stderr",
     "output_type": "stream",
     "text": [
      "Training: 100%|##########| 1/1 [00:01<00:00,  1.63s/it, loss=1.42e+3]\n"
     ]
    },
    {
     "name": "stdout",
     "output_type": "stream",
     "text": [
      "Training Loss: 1418.7672. L1: 772.3049. L2: 629.5850. L3 (not used): 838.8959. Style Loss: 16.8774\n",
      "-----------------------------------\n",
      "Epoch 239\n",
      "-----------------------------------\n"
     ]
    },
    {
     "name": "stderr",
     "output_type": "stream",
     "text": [
      "Training: 100%|##########| 1/1 [00:01<00:00,  1.64s/it, loss=1.42e+3]\n"
     ]
    },
    {
     "name": "stdout",
     "output_type": "stream",
     "text": [
      "Training Loss: 1418.1545. L1: 772.1808. L2: 629.0629. L3 (not used): 816.6650. Style Loss: 16.9109\n",
      "-----------------------------------\n",
      "Epoch 240\n",
      "-----------------------------------\n"
     ]
    },
    {
     "name": "stderr",
     "output_type": "stream",
     "text": [
      "Training: 100%|##########| 1/1 [00:01<00:00,  1.65s/it, loss=1.42e+3]\n"
     ]
    },
    {
     "name": "stdout",
     "output_type": "stream",
     "text": [
      "Training Loss: 1417.3823. L1: 772.1332. L2: 628.5233. L3 (not used): 805.2250. Style Loss: 16.7259\n",
      "-----------------------------------\n",
      "Epoch 241\n",
      "-----------------------------------\n"
     ]
    },
    {
     "name": "stderr",
     "output_type": "stream",
     "text": [
      "Training: 100%|##########| 1/1 [00:01<00:00,  1.64s/it, loss=1.42e+3]\n"
     ]
    },
    {
     "name": "stdout",
     "output_type": "stream",
     "text": [
      "Training Loss: 1416.3722. L1: 772.1181. L2: 627.8275. L3 (not used): 823.4385. Style Loss: 16.4266\n",
      "-----------------------------------\n",
      "Epoch 242\n",
      "-----------------------------------\n"
     ]
    },
    {
     "name": "stderr",
     "output_type": "stream",
     "text": [
      "Training: 100%|##########| 1/1 [00:01<00:00,  1.65s/it, loss=1.42e+3]\n"
     ]
    },
    {
     "name": "stdout",
     "output_type": "stream",
     "text": [
      "Training Loss: 1415.8932. L1: 772.0795. L2: 627.5596. L3 (not used): 856.2781. Style Loss: 16.2542\n",
      "-----------------------------------\n",
      "Epoch 243\n",
      "-----------------------------------\n"
     ]
    },
    {
     "name": "stderr",
     "output_type": "stream",
     "text": [
      "Training: 100%|##########| 1/1 [00:01<00:00,  1.64s/it, loss=1.41e+3]\n"
     ]
    },
    {
     "name": "stdout",
     "output_type": "stream",
     "text": [
      "Training Loss: 1414.9386. L1: 772.0087. L2: 626.7944. L3 (not used): 844.7671. Style Loss: 16.1357\n",
      "-----------------------------------\n",
      "Epoch 244\n",
      "-----------------------------------\n"
     ]
    },
    {
     "name": "stderr",
     "output_type": "stream",
     "text": [
      "Training: 100%|##########| 1/1 [00:01<00:00,  1.62s/it, loss=1.41e+3]\n"
     ]
    },
    {
     "name": "stdout",
     "output_type": "stream",
     "text": [
      "Training Loss: 1414.2720. L1: 771.9058. L2: 626.3258. L3 (not used): 828.3802. Style Loss: 16.0404\n",
      "-----------------------------------\n",
      "Epoch 245\n",
      "-----------------------------------\n"
     ]
    },
    {
     "name": "stderr",
     "output_type": "stream",
     "text": [
      "Training: 100%|##########| 1/1 [00:01<00:00,  1.63s/it, loss=1.41e+3]\n"
     ]
    },
    {
     "name": "stdout",
     "output_type": "stream",
     "text": [
      "Training Loss: 1413.6080. L1: 771.8084. L2: 625.8270. L3 (not used): 823.1298. Style Loss: 15.9726\n",
      "-----------------------------------\n",
      "Epoch 246\n",
      "-----------------------------------\n"
     ]
    },
    {
     "name": "stderr",
     "output_type": "stream",
     "text": [
      "Training: 100%|##########| 1/1 [00:01<00:00,  1.62s/it, loss=1.41e+3]\n"
     ]
    },
    {
     "name": "stdout",
     "output_type": "stream",
     "text": [
      "Training Loss: 1412.8280. L1: 771.7468. L2: 625.2360. L3 (not used): 825.9976. Style Loss: 15.8453\n",
      "-----------------------------------\n",
      "Epoch 247\n",
      "-----------------------------------\n"
     ]
    },
    {
     "name": "stderr",
     "output_type": "stream",
     "text": [
      "Training: 100%|##########| 1/1 [00:01<00:00,  1.62s/it, loss=1.41e+3]\n"
     ]
    },
    {
     "name": "stdout",
     "output_type": "stream",
     "text": [
      "Training Loss: 1412.0428. L1: 771.7005. L2: 624.6506. L3 (not used): 820.7878. Style Loss: 15.6918\n",
      "-----------------------------------\n",
      "Epoch 248\n",
      "-----------------------------------\n"
     ]
    },
    {
     "name": "stderr",
     "output_type": "stream",
     "text": [
      "Training: 100%|##########| 1/1 [00:01<00:00,  1.62s/it, loss=1.41e+3]\n"
     ]
    },
    {
     "name": "stdout",
     "output_type": "stream",
     "text": [
      "Training Loss: 1411.4991. L1: 771.6413. L2: 624.2841. L3 (not used): 825.4445. Style Loss: 15.5737\n",
      "-----------------------------------\n",
      "Epoch 249\n",
      "-----------------------------------\n"
     ]
    },
    {
     "name": "stderr",
     "output_type": "stream",
     "text": [
      "Training: 100%|##########| 1/1 [00:01<00:00,  1.67s/it, loss=1.41e+3]\n"
     ]
    },
    {
     "name": "stdout",
     "output_type": "stream",
     "text": [
      "Training Loss: 1410.7556. L1: 771.5775. L2: 623.7225. L3 (not used): 818.9548. Style Loss: 15.4556\n",
      "-----------------------------------\n",
      "Epoch 250\n",
      "-----------------------------------\n"
     ]
    },
    {
     "name": "stderr",
     "output_type": "stream",
     "text": [
      "Training: 100%|##########| 1/1 [00:01<00:00,  1.64s/it, loss=1.41e+3]\n"
     ]
    },
    {
     "name": "stdout",
     "output_type": "stream",
     "text": [
      "Training Loss: 1409.9827. L1: 771.5159. L2: 623.1216. L3 (not used): 820.2871. Style Loss: 15.3451\n",
      "-----------------------------------\n",
      "Epoch 251\n",
      "-----------------------------------\n"
     ]
    },
    {
     "name": "stderr",
     "output_type": "stream",
     "text": [
      "Training: 100%|##########| 1/1 [00:01<00:00,  1.62s/it, loss=1.41e+3]\n"
     ]
    },
    {
     "name": "stdout",
     "output_type": "stream",
     "text": [
      "Training Loss: 1409.4594. L1: 771.4428. L2: 622.7482. L3 (not used): 827.0200. Style Loss: 15.2683\n",
      "-----------------------------------\n",
      "Epoch 252\n",
      "-----------------------------------\n"
     ]
    },
    {
     "name": "stderr",
     "output_type": "stream",
     "text": [
      "Training: 100%|##########| 1/1 [00:01<00:00,  1.63s/it, loss=1.41e+3]\n"
     ]
    },
    {
     "name": "stdout",
     "output_type": "stream",
     "text": [
      "Training Loss: 1408.7386. L1: 771.3539. L2: 622.1638. L3 (not used): 827.2605. Style Loss: 15.2211\n",
      "-----------------------------------\n",
      "Epoch 253\n",
      "-----------------------------------\n"
     ]
    },
    {
     "name": "stderr",
     "output_type": "stream",
     "text": [
      "Training: 100%|##########| 1/1 [00:01<00:00,  1.62s/it, loss=1.41e+3]\n"
     ]
    },
    {
     "name": "stdout",
     "output_type": "stream",
     "text": [
      "Training Loss: 1407.9973. L1: 771.2919. L2: 621.5897. L3 (not used): 829.5196. Style Loss: 15.1157\n",
      "-----------------------------------\n",
      "Epoch 254\n",
      "-----------------------------------\n"
     ]
    },
    {
     "name": "stderr",
     "output_type": "stream",
     "text": [
      "Training: 100%|##########| 1/1 [00:01<00:00,  1.63s/it, loss=1.41e+3]\n"
     ]
    },
    {
     "name": "stdout",
     "output_type": "stream",
     "text": [
      "Training Loss: 1407.4238. L1: 771.2596. L2: 621.1899. L3 (not used): 821.5835. Style Loss: 14.9743\n",
      "-----------------------------------\n",
      "Epoch 255\n",
      "-----------------------------------\n"
     ]
    },
    {
     "name": "stderr",
     "output_type": "stream",
     "text": [
      "Training: 100%|##########| 1/1 [00:01<00:00,  1.62s/it, loss=1.41e+3]\n"
     ]
    },
    {
     "name": "stdout",
     "output_type": "stream",
     "text": [
      "Training Loss: 1406.7777. L1: 771.1998. L2: 620.6978. L3 (not used): 818.5016. Style Loss: 14.8800\n",
      "-----------------------------------\n",
      "Epoch 256\n",
      "-----------------------------------\n"
     ]
    },
    {
     "name": "stderr",
     "output_type": "stream",
     "text": [
      "Training: 100%|##########| 1/1 [00:01<00:00,  1.62s/it, loss=1.41e+3]\n"
     ]
    },
    {
     "name": "stdout",
     "output_type": "stream",
     "text": [
      "Training Loss: 1406.1078. L1: 771.0982. L2: 620.1479. L3 (not used): 833.1516. Style Loss: 14.8617\n",
      "-----------------------------------\n",
      "Epoch 257\n",
      "-----------------------------------\n"
     ]
    },
    {
     "name": "stderr",
     "output_type": "stream",
     "text": [
      "Training: 100%|##########| 1/1 [00:01<00:00,  1.61s/it, loss=1.41e+3]\n"
     ]
    },
    {
     "name": "stdout",
     "output_type": "stream",
     "text": [
      "Training Loss: 1405.4833. L1: 771.0240. L2: 619.6513. L3 (not used): 818.8006. Style Loss: 14.8080\n",
      "-----------------------------------\n",
      "Epoch 258\n",
      "-----------------------------------\n"
     ]
    },
    {
     "name": "stderr",
     "output_type": "stream",
     "text": [
      "Training: 100%|##########| 1/1 [00:01<00:00,  1.62s/it, loss=1.4e+3]\n"
     ]
    },
    {
     "name": "stdout",
     "output_type": "stream",
     "text": [
      "Training Loss: 1404.9200. L1: 770.9878. L2: 619.2582. L3 (not used): 825.1496. Style Loss: 14.6741\n",
      "-----------------------------------\n",
      "Epoch 259\n",
      "-----------------------------------\n"
     ]
    },
    {
     "name": "stderr",
     "output_type": "stream",
     "text": [
      "Training: 100%|##########| 1/1 [00:01<00:00,  1.64s/it, loss=1.4e+3]\n"
     ]
    },
    {
     "name": "stdout",
     "output_type": "stream",
     "text": [
      "Training Loss: 1404.2419. L1: 770.9274. L2: 618.7201. L3 (not used): 819.9274. Style Loss: 14.5945\n",
      "-----------------------------------\n",
      "Epoch 260\n",
      "-----------------------------------\n"
     ]
    },
    {
     "name": "stderr",
     "output_type": "stream",
     "text": [
      "Training: 100%|##########| 1/1 [00:01<00:00,  1.63s/it, loss=1.4e+3]\n"
     ]
    },
    {
     "name": "stdout",
     "output_type": "stream",
     "text": [
      "Training Loss: 1403.6127. L1: 770.8543. L2: 618.2109. L3 (not used): 834.9565. Style Loss: 14.5475\n",
      "-----------------------------------\n",
      "Epoch 261\n",
      "-----------------------------------\n"
     ]
    },
    {
     "name": "stderr",
     "output_type": "stream",
     "text": [
      "Training: 100%|##########| 1/1 [00:01<00:00,  1.62s/it, loss=1.4e+3]\n"
     ]
    },
    {
     "name": "stdout",
     "output_type": "stream",
     "text": [
      "Training Loss: 1403.0016. L1: 770.7897. L2: 617.7244. L3 (not used): 822.9978. Style Loss: 14.4875\n",
      "-----------------------------------\n",
      "Epoch 262\n",
      "-----------------------------------\n"
     ]
    },
    {
     "name": "stderr",
     "output_type": "stream",
     "text": [
      "Training: 100%|##########| 1/1 [00:01<00:00,  1.62s/it, loss=1.4e+3]\n"
     ]
    },
    {
     "name": "stdout",
     "output_type": "stream",
     "text": [
      "Training Loss: 1402.3796. L1: 770.7303. L2: 617.2386. L3 (not used): 826.6453. Style Loss: 14.4106\n",
      "-----------------------------------\n",
      "Epoch 263\n",
      "-----------------------------------\n"
     ]
    },
    {
     "name": "stderr",
     "output_type": "stream",
     "text": [
      "Training: 100%|##########| 1/1 [00:01<00:00,  1.63s/it, loss=1.4e+3]\n"
     ]
    },
    {
     "name": "stdout",
     "output_type": "stream",
     "text": [
      "Training Loss: 1401.7611. L1: 770.6790. L2: 616.7586. L3 (not used): 826.5946. Style Loss: 14.3236\n",
      "-----------------------------------\n",
      "Epoch 264\n",
      "-----------------------------------\n"
     ]
    },
    {
     "name": "stderr",
     "output_type": "stream",
     "text": [
      "Training: 100%|##########| 1/1 [00:01<00:00,  1.62s/it, loss=1.4e+3]\n"
     ]
    },
    {
     "name": "stdout",
     "output_type": "stream",
     "text": [
      "Training Loss: 1401.2083. L1: 770.6243. L2: 616.3373. L3 (not used): 838.0447. Style Loss: 14.2466\n",
      "-----------------------------------\n",
      "Epoch 265\n",
      "-----------------------------------\n"
     ]
    },
    {
     "name": "stderr",
     "output_type": "stream",
     "text": [
      "Training: 100%|##########| 1/1 [00:01<00:00,  1.64s/it, loss=1.4e+3]\n"
     ]
    },
    {
     "name": "stdout",
     "output_type": "stream",
     "text": [
      "Training Loss: 1400.6661. L1: 770.5672. L2: 615.9247. L3 (not used): 824.6408. Style Loss: 14.1742\n",
      "-----------------------------------\n",
      "Epoch 266\n",
      "-----------------------------------\n"
     ]
    },
    {
     "name": "stderr",
     "output_type": "stream",
     "text": [
      "Training: 100%|##########| 1/1 [00:01<00:00,  1.66s/it, loss=1.4e+3]\n"
     ]
    },
    {
     "name": "stdout",
     "output_type": "stream",
     "text": [
      "Training Loss: 1400.3298. L1: 770.5118. L2: 615.7131. L3 (not used): 842.4906. Style Loss: 14.1050\n",
      "-----------------------------------\n",
      "Epoch 267\n",
      "-----------------------------------\n"
     ]
    },
    {
     "name": "stderr",
     "output_type": "stream",
     "text": [
      "Training: 100%|##########| 1/1 [00:01<00:00,  1.67s/it, loss=1.4e+3]\n"
     ]
    },
    {
     "name": "stdout",
     "output_type": "stream",
     "text": [
      "Training Loss: 1399.9915. L1: 770.4648. L2: 615.5080. L3 (not used): 800.6119. Style Loss: 14.0187\n",
      "-----------------------------------\n",
      "Epoch 268\n",
      "-----------------------------------\n"
     ]
    },
    {
     "name": "stderr",
     "output_type": "stream",
     "text": [
      "Training: 100%|##########| 1/1 [00:01<00:00,  1.66s/it, loss=1.4e+3]\n"
     ]
    },
    {
     "name": "stdout",
     "output_type": "stream",
     "text": [
      "Training Loss: 1400.1538. L1: 770.3751. L2: 615.7442. L3 (not used): 858.0057. Style Loss: 14.0346\n",
      "-----------------------------------\n",
      "Epoch 269\n",
      "-----------------------------------\n"
     ]
    },
    {
     "name": "stderr",
     "output_type": "stream",
     "text": [
      "Training: 100%|##########| 1/1 [00:01<00:00,  1.64s/it, loss=1.4e+3]\n"
     ]
    },
    {
     "name": "stdout",
     "output_type": "stream",
     "text": [
      "Training Loss: 1398.6394. L1: 770.3334. L2: 614.3751. L3 (not used): 807.2667. Style Loss: 13.9309\n",
      "-----------------------------------\n",
      "Epoch 270\n",
      "-----------------------------------\n"
     ]
    },
    {
     "name": "stderr",
     "output_type": "stream",
     "text": [
      "Training: 100%|##########| 1/1 [00:01<00:00,  1.62s/it, loss=1.4e+3]\n"
     ]
    },
    {
     "name": "stdout",
     "output_type": "stream",
     "text": [
      "Training Loss: 1398.6801. L1: 770.2838. L2: 614.5306. L3 (not used): 806.6911. Style Loss: 13.8656\n",
      "-----------------------------------\n",
      "Epoch 271\n",
      "-----------------------------------\n"
     ]
    },
    {
     "name": "stderr",
     "output_type": "stream",
     "text": [
      "Training: 100%|##########| 1/1 [00:01<00:00,  1.62s/it, loss=1.4e+3]\n"
     ]
    },
    {
     "name": "stdout",
     "output_type": "stream",
     "text": [
      "Training Loss: 1398.2091. L1: 770.2003. L2: 614.1058. L3 (not used): 871.6972. Style Loss: 13.9029\n",
      "-----------------------------------\n",
      "Epoch 272\n",
      "-----------------------------------\n"
     ]
    },
    {
     "name": "stderr",
     "output_type": "stream",
     "text": [
      "Training: 100%|##########| 1/1 [00:01<00:00,  1.62s/it, loss=1.4e+3]\n"
     ]
    },
    {
     "name": "stdout",
     "output_type": "stream",
     "text": [
      "Training Loss: 1397.4972. L1: 770.1902. L2: 613.5519. L3 (not used): 804.8214. Style Loss: 13.7551\n",
      "-----------------------------------\n",
      "Epoch 273\n",
      "-----------------------------------\n"
     ]
    },
    {
     "name": "stderr",
     "output_type": "stream",
     "text": [
      "Training: 100%|##########| 1/1 [00:01<00:00,  1.65s/it, loss=1.4e+3]\n"
     ]
    },
    {
     "name": "stdout",
     "output_type": "stream",
     "text": [
      "Training Loss: 1396.4878. L1: 770.1227. L2: 612.6629. L3 (not used): 813.7969. Style Loss: 13.7021\n",
      "-----------------------------------\n",
      "Epoch 274\n",
      "-----------------------------------\n"
     ]
    },
    {
     "name": "stderr",
     "output_type": "stream",
     "text": [
      "Training: 100%|##########| 1/1 [00:01<00:00,  1.62s/it, loss=1.4e+3]\n"
     ]
    },
    {
     "name": "stdout",
     "output_type": "stream",
     "text": [
      "Training Loss: 1396.1849. L1: 770.0133. L2: 612.3896. L3 (not used): 853.0036. Style Loss: 13.7820\n",
      "-----------------------------------\n",
      "Epoch 275\n",
      "-----------------------------------\n"
     ]
    },
    {
     "name": "stderr",
     "output_type": "stream",
     "text": [
      "Training: 100%|##########| 1/1 [00:01<00:00,  1.62s/it, loss=1.4e+3]\n"
     ]
    },
    {
     "name": "stdout",
     "output_type": "stream",
     "text": [
      "Training Loss: 1395.3975. L1: 770.0017. L2: 611.7825. L3 (not used): 832.0550. Style Loss: 13.6133\n",
      "-----------------------------------\n",
      "Epoch 276\n",
      "-----------------------------------\n"
     ]
    },
    {
     "name": "stderr",
     "output_type": "stream",
     "text": [
      "Training: 100%|##########| 1/1 [00:01<00:00,  1.63s/it, loss=1.39e+3]\n"
     ]
    },
    {
     "name": "stdout",
     "output_type": "stream",
     "text": [
      "Training Loss: 1394.7856. L1: 769.9595. L2: 611.2760. L3 (not used): 826.8965. Style Loss: 13.5501\n",
      "-----------------------------------\n",
      "Epoch 277\n",
      "-----------------------------------\n"
     ]
    },
    {
     "name": "stderr",
     "output_type": "stream",
     "text": [
      "Training: 100%|##########| 1/1 [00:01<00:00,  1.62s/it, loss=1.39e+3]\n"
     ]
    },
    {
     "name": "stdout",
     "output_type": "stream",
     "text": [
      "Training Loss: 1394.1012. L1: 769.8701. L2: 610.6998. L3 (not used): 834.6996. Style Loss: 13.5312\n",
      "-----------------------------------\n",
      "Epoch 278\n",
      "-----------------------------------\n"
     ]
    },
    {
     "name": "stderr",
     "output_type": "stream",
     "text": [
      "Training: 100%|##########| 1/1 [00:01<00:00,  1.62s/it, loss=1.39e+3]\n"
     ]
    },
    {
     "name": "stdout",
     "output_type": "stream",
     "text": [
      "Training Loss: 1393.5350. L1: 769.8107. L2: 610.2361. L3 (not used): 829.9039. Style Loss: 13.4882\n",
      "-----------------------------------\n",
      "Epoch 279\n",
      "-----------------------------------\n"
     ]
    },
    {
     "name": "stderr",
     "output_type": "stream",
     "text": [
      "Training: 100%|##########| 1/1 [00:01<00:00,  1.63s/it, loss=1.39e+3]\n"
     ]
    },
    {
     "name": "stdout",
     "output_type": "stream",
     "text": [
      "Training Loss: 1392.8589. L1: 769.7681. L2: 609.6884. L3 (not used): 834.2435. Style Loss: 13.4023\n",
      "-----------------------------------\n",
      "Epoch 280\n",
      "-----------------------------------\n"
     ]
    },
    {
     "name": "stderr",
     "output_type": "stream",
     "text": [
      "Training: 100%|##########| 1/1 [00:01<00:00,  1.62s/it, loss=1.39e+3]\n"
     ]
    },
    {
     "name": "stdout",
     "output_type": "stream",
     "text": [
      "Training Loss: 1392.3143. L1: 769.7230. L2: 609.2443. L3 (not used): 825.5573. Style Loss: 13.3471\n",
      "-----------------------------------\n",
      "Epoch 281\n",
      "-----------------------------------\n"
     ]
    },
    {
     "name": "stderr",
     "output_type": "stream",
     "text": [
      "Training: 100%|##########| 1/1 [00:01<00:00,  1.62s/it, loss=1.39e+3]\n"
     ]
    },
    {
     "name": "stdout",
     "output_type": "stream",
     "text": [
      "Training Loss: 1391.6194. L1: 769.6749. L2: 608.6714. L3 (not used): 836.5801. Style Loss: 13.2729\n",
      "-----------------------------------\n",
      "Epoch 282\n",
      "-----------------------------------\n"
     ]
    },
    {
     "name": "stderr",
     "output_type": "stream",
     "text": [
      "Training: 100%|##########| 1/1 [00:01<00:00,  1.62s/it, loss=1.39e+3]\n"
     ]
    },
    {
     "name": "stdout",
     "output_type": "stream",
     "text": [
      "Training Loss: 1391.0870. L1: 769.5671. L2: 608.1613. L3 (not used): 843.4231. Style Loss: 13.3588\n",
      "-----------------------------------\n",
      "Epoch 283\n",
      "-----------------------------------\n"
     ]
    },
    {
     "name": "stderr",
     "output_type": "stream",
     "text": [
      "Training: 100%|##########| 1/1 [00:01<00:00,  1.61s/it, loss=1.39e+3]\n"
     ]
    },
    {
     "name": "stdout",
     "output_type": "stream",
     "text": [
      "Training Loss: 1390.3529. L1: 769.5745. L2: 607.6353. L3 (not used): 824.7299. Style Loss: 13.1431\n",
      "-----------------------------------\n",
      "Epoch 284\n",
      "-----------------------------------\n"
     ]
    },
    {
     "name": "stderr",
     "output_type": "stream",
     "text": [
      "Training: 100%|##########| 1/1 [00:01<00:00,  1.62s/it, loss=1.39e+3]\n"
     ]
    },
    {
     "name": "stdout",
     "output_type": "stream",
     "text": [
      "Training Loss: 1389.9635. L1: 769.5084. L2: 607.3248. L3 (not used): 815.2354. Style Loss: 13.1302\n",
      "-----------------------------------\n",
      "Epoch 285\n",
      "-----------------------------------\n"
     ]
    },
    {
     "name": "stderr",
     "output_type": "stream",
     "text": [
      "Training: 100%|##########| 1/1 [00:01<00:00,  1.62s/it, loss=1.39e+3]\n"
     ]
    },
    {
     "name": "stdout",
     "output_type": "stream",
     "text": [
      "Training Loss: 1389.5261. L1: 769.5114. L2: 607.0061. L3 (not used): 837.5695. Style Loss: 13.0086\n",
      "-----------------------------------\n",
      "Epoch 286\n",
      "-----------------------------------\n"
     ]
    },
    {
     "name": "stderr",
     "output_type": "stream",
     "text": [
      "Training: 100%|##########| 1/1 [00:01<00:00,  1.61s/it, loss=1.39e+3]\n"
     ]
    },
    {
     "name": "stdout",
     "output_type": "stream",
     "text": [
      "Training Loss: 1389.4723. L1: 769.2878. L2: 606.7895. L3 (not used): 821.5995. Style Loss: 13.3949\n",
      "-----------------------------------\n",
      "Epoch 287\n",
      "-----------------------------------\n"
     ]
    },
    {
     "name": "stderr",
     "output_type": "stream",
     "text": [
      "Training: 100%|##########| 1/1 [00:01<00:00,  1.63s/it, loss=1.39e+3]\n"
     ]
    },
    {
     "name": "stdout",
     "output_type": "stream",
     "text": [
      "Training Loss: 1389.5974. L1: 769.4175. L2: 607.1979. L3 (not used): 857.7585. Style Loss: 12.9821\n",
      "-----------------------------------\n",
      "Epoch 288\n",
      "-----------------------------------\n"
     ]
    },
    {
     "name": "stderr",
     "output_type": "stream",
     "text": [
      "Training: 100%|##########| 1/1 [00:01<00:00,  1.63s/it, loss=1.39e+3]\n"
     ]
    },
    {
     "name": "stdout",
     "output_type": "stream",
     "text": [
      "Training Loss: 1387.6765. L1: 769.1966. L2: 605.4059. L3 (not used): 815.2330. Style Loss: 13.0740\n",
      "-----------------------------------\n",
      "Epoch 289\n",
      "-----------------------------------\n"
     ]
    },
    {
     "name": "stderr",
     "output_type": "stream",
     "text": [
      "Training: 100%|##########| 1/1 [00:01<00:00,  1.62s/it, loss=1.39e+3]\n"
     ]
    },
    {
     "name": "stdout",
     "output_type": "stream",
     "text": [
      "Training Loss: 1387.7037. L1: 769.1204. L2: 605.4748. L3 (not used): 822.6883. Style Loss: 13.1086\n",
      "-----------------------------------\n",
      "Epoch 290\n",
      "-----------------------------------\n"
     ]
    },
    {
     "name": "stderr",
     "output_type": "stream",
     "text": [
      "Training: 100%|##########| 1/1 [00:01<00:00,  1.63s/it, loss=1.39e+3]\n"
     ]
    },
    {
     "name": "stdout",
     "output_type": "stream",
     "text": [
      "Training Loss: 1387.7717. L1: 769.2245. L2: 605.7327. L3 (not used): 865.5339. Style Loss: 12.8145\n",
      "-----------------------------------\n",
      "Epoch 291\n",
      "-----------------------------------\n"
     ]
    },
    {
     "name": "stderr",
     "output_type": "stream",
     "text": [
      "Training: 100%|##########| 1/1 [00:01<00:00,  1.61s/it, loss=1.39e+3]\n"
     ]
    },
    {
     "name": "stdout",
     "output_type": "stream",
     "text": [
      "Training Loss: 1386.3051. L1: 769.0519. L2: 604.3857. L3 (not used): 823.9381. Style Loss: 12.8674\n",
      "-----------------------------------\n",
      "Epoch 292\n",
      "-----------------------------------\n"
     ]
    },
    {
     "name": "stderr",
     "output_type": "stream",
     "text": [
      "Training: 100%|##########| 1/1 [00:01<00:00,  1.63s/it, loss=1.39e+3]\n"
     ]
    },
    {
     "name": "stdout",
     "output_type": "stream",
     "text": [
      "Training Loss: 1386.4067. L1: 768.9293. L2: 604.4349. L3 (not used): 827.7509. Style Loss: 13.0424\n",
      "-----------------------------------\n",
      "Epoch 293\n",
      "-----------------------------------\n"
     ]
    },
    {
     "name": "stderr",
     "output_type": "stream",
     "text": [
      "Training: 100%|##########| 1/1 [00:01<00:00,  1.64s/it, loss=1.39e+3]\n"
     ]
    },
    {
     "name": "stdout",
     "output_type": "stream",
     "text": [
      "Training Loss: 1385.1428. L1: 769.0566. L2: 603.4211. L3 (not used): 846.2887. Style Loss: 12.6650\n",
      "-----------------------------------\n",
      "Epoch 294\n",
      "-----------------------------------\n"
     ]
    },
    {
     "name": "stderr",
     "output_type": "stream",
     "text": [
      "Training: 100%|##########| 1/1 [00:01<00:00,  1.62s/it, loss=1.38e+3]\n"
     ]
    },
    {
     "name": "stdout",
     "output_type": "stream",
     "text": [
      "Training Loss: 1384.9193. L1: 768.9412. L2: 603.3411. L3 (not used): 839.4061. Style Loss: 12.6371\n",
      "-----------------------------------\n",
      "Epoch 295\n",
      "-----------------------------------\n"
     ]
    },
    {
     "name": "stderr",
     "output_type": "stream",
     "text": [
      "Training: 100%|##########| 1/1 [00:01<00:00,  1.63s/it, loss=1.38e+3]\n"
     ]
    },
    {
     "name": "stdout",
     "output_type": "stream",
     "text": [
      "Training Loss: 1384.0714. L1: 768.7300. L2: 602.3023. L3 (not used): 848.4252. Style Loss: 13.0390\n",
      "-----------------------------------\n",
      "Epoch 296\n",
      "-----------------------------------\n"
     ]
    },
    {
     "name": "stderr",
     "output_type": "stream",
     "text": [
      "Training: 100%|##########| 1/1 [00:01<00:00,  1.62s/it, loss=1.38e+3]\n"
     ]
    },
    {
     "name": "stdout",
     "output_type": "stream",
     "text": [
      "Training Loss: 1383.5720. L1: 768.7906. L2: 602.1703. L3 (not used): 827.3950. Style Loss: 12.6111\n",
      "-----------------------------------\n",
      "Epoch 297\n",
      "-----------------------------------\n"
     ]
    },
    {
     "name": "stderr",
     "output_type": "stream",
     "text": [
      "Training: 100%|##########| 1/1 [00:01<00:00,  1.64s/it, loss=1.38e+3]\n"
     ]
    },
    {
     "name": "stdout",
     "output_type": "stream",
     "text": [
      "Training Loss: 1382.7737. L1: 768.8464. L2: 601.4719. L3 (not used): 824.2219. Style Loss: 12.4555\n",
      "-----------------------------------\n",
      "Epoch 298\n",
      "-----------------------------------\n"
     ]
    },
    {
     "name": "stderr",
     "output_type": "stream",
     "text": [
      "Training: 100%|##########| 1/1 [00:01<00:00,  1.63s/it, loss=1.38e+3]\n"
     ]
    },
    {
     "name": "stdout",
     "output_type": "stream",
     "text": [
      "Training Loss: 1382.3298. L1: 768.6875. L2: 601.1295. L3 (not used): 844.6844. Style Loss: 12.5128\n",
      "-----------------------------------\n",
      "Epoch 299\n",
      "-----------------------------------\n"
     ]
    },
    {
     "name": "stderr",
     "output_type": "stream",
     "text": [
      "Training: 100%|##########| 1/1 [00:01<00:00,  1.61s/it, loss=1.38e+3]\n"
     ]
    },
    {
     "name": "stdout",
     "output_type": "stream",
     "text": [
      "Training Loss: 1381.8271. L1: 768.6039. L2: 600.6606. L3 (not used): 831.7658. Style Loss: 12.5626\n",
      "-----------------------------------\n",
      "Epoch 300\n",
      "-----------------------------------\n"
     ]
    },
    {
     "name": "stderr",
     "output_type": "stream",
     "text": [
      "Training: 100%|##########| 1/1 [00:01<00:00,  1.62s/it, loss=1.38e+3]\n"
     ]
    },
    {
     "name": "stdout",
     "output_type": "stream",
     "text": [
      "Training Loss: 1381.1160. L1: 768.6267. L2: 600.1702. L3 (not used): 828.4532. Style Loss: 12.3191\n",
      "-----------------------------------\n",
      "Epoch 301\n",
      "-----------------------------------\n"
     ]
    },
    {
     "name": "stderr",
     "output_type": "stream",
     "text": [
      "Training: 100%|##########| 1/1 [00:01<00:00,  1.61s/it, loss=1.38e+3]\n"
     ]
    },
    {
     "name": "stdout",
     "output_type": "stream",
     "text": [
      "Training Loss: 1380.6395. L1: 768.6216. L2: 599.7701. L3 (not used): 825.0571. Style Loss: 12.2478\n",
      "-----------------------------------\n",
      "Epoch 302\n",
      "-----------------------------------\n"
     ]
    },
    {
     "name": "stderr",
     "output_type": "stream",
     "text": [
      "Training: 100%|##########| 1/1 [00:01<00:00,  1.62s/it, loss=1.38e+3]\n"
     ]
    },
    {
     "name": "stdout",
     "output_type": "stream",
     "text": [
      "Training Loss: 1379.9386. L1: 768.4734. L2: 599.1718. L3 (not used): 846.4600. Style Loss: 12.2934\n",
      "-----------------------------------\n",
      "Epoch 303\n",
      "-----------------------------------\n"
     ]
    },
    {
     "name": "stderr",
     "output_type": "stream",
     "text": [
      "Training: 100%|##########| 1/1 [00:01<00:00,  1.62s/it, loss=1.38e+3]\n"
     ]
    },
    {
     "name": "stdout",
     "output_type": "stream",
     "text": [
      "Training Loss: 1379.5050. L1: 768.3638. L2: 598.6870. L3 (not used): 853.0138. Style Loss: 12.4543\n",
      "-----------------------------------\n",
      "Epoch 304\n",
      "-----------------------------------\n"
     ]
    },
    {
     "name": "stderr",
     "output_type": "stream",
     "text": [
      "Training: 100%|##########| 1/1 [00:01<00:00,  1.61s/it, loss=1.38e+3]\n"
     ]
    },
    {
     "name": "stdout",
     "output_type": "stream",
     "text": [
      "Training Loss: 1378.7621. L1: 768.4420. L2: 598.2756. L3 (not used): 815.6136. Style Loss: 12.0445\n",
      "-----------------------------------\n",
      "Epoch 305\n",
      "-----------------------------------\n"
     ]
    },
    {
     "name": "stderr",
     "output_type": "stream",
     "text": [
      "Training: 100%|##########| 1/1 [00:01<00:00,  1.61s/it, loss=1.38e+3]\n"
     ]
    },
    {
     "name": "stdout",
     "output_type": "stream",
     "text": [
      "Training Loss: 1378.2971. L1: 768.4355. L2: 597.9033. L3 (not used): 828.4582. Style Loss: 11.9583\n",
      "-----------------------------------\n",
      "Epoch 306\n",
      "-----------------------------------\n"
     ]
    },
    {
     "name": "stderr",
     "output_type": "stream",
     "text": [
      "Training: 100%|##########| 1/1 [00:01<00:00,  1.62s/it, loss=1.38e+3]\n"
     ]
    },
    {
     "name": "stdout",
     "output_type": "stream",
     "text": [
      "Training Loss: 1377.6847. L1: 768.2657. L2: 597.3331. L3 (not used): 855.9927. Style Loss: 12.0858\n",
      "-----------------------------------\n",
      "Epoch 307\n",
      "-----------------------------------\n"
     ]
    },
    {
     "name": "stderr",
     "output_type": "stream",
     "text": [
      "Training: 100%|##########| 1/1 [00:01<00:00,  1.62s/it, loss=1.38e+3]\n"
     ]
    },
    {
     "name": "stdout",
     "output_type": "stream",
     "text": [
      "Training Loss: 1377.1633. L1: 768.2319. L2: 596.9510. L3 (not used): 827.7403. Style Loss: 11.9805\n",
      "-----------------------------------\n",
      "Epoch 308\n",
      "-----------------------------------\n"
     ]
    },
    {
     "name": "stderr",
     "output_type": "stream",
     "text": [
      "Training: 100%|##########| 1/1 [00:01<00:00,  1.70s/it, loss=1.38e+3]\n"
     ]
    },
    {
     "name": "stdout",
     "output_type": "stream",
     "text": [
      "Training Loss: 1376.5764. L1: 768.2628. L2: 596.5515. L3 (not used): 834.3576. Style Loss: 11.7622\n",
      "-----------------------------------\n",
      "Epoch 309\n",
      "-----------------------------------\n"
     ]
    },
    {
     "name": "stderr",
     "output_type": "stream",
     "text": [
      "Training: 100%|##########| 1/1 [00:01<00:00,  1.66s/it, loss=1.38e+3]\n"
     ]
    },
    {
     "name": "stdout",
     "output_type": "stream",
     "text": [
      "Training Loss: 1375.9741. L1: 768.1794. L2: 596.0472. L3 (not used): 830.9179. Style Loss: 11.7476\n",
      "-----------------------------------\n",
      "Epoch 310\n",
      "-----------------------------------\n"
     ]
    },
    {
     "name": "stderr",
     "output_type": "stream",
     "text": [
      "Training: 100%|##########| 1/1 [00:01<00:00,  1.75s/it, loss=1.38e+3]\n"
     ]
    },
    {
     "name": "stdout",
     "output_type": "stream",
     "text": [
      "Training Loss: 1375.4705. L1: 768.0645. L2: 595.5891. L3 (not used): 837.7405. Style Loss: 11.8169\n",
      "-----------------------------------\n",
      "Epoch 311\n",
      "-----------------------------------\n"
     ]
    },
    {
     "name": "stderr",
     "output_type": "stream",
     "text": [
      "Training: 100%|##########| 1/1 [00:01<00:00,  1.64s/it, loss=1.37e+3]\n"
     ]
    },
    {
     "name": "stdout",
     "output_type": "stream",
     "text": [
      "Training Loss: 1374.8751. L1: 768.0564. L2: 595.1746. L3 (not used): 854.4726. Style Loss: 11.6442\n",
      "-----------------------------------\n",
      "Epoch 312\n",
      "-----------------------------------\n"
     ]
    },
    {
     "name": "stderr",
     "output_type": "stream",
     "text": [
      "Training: 100%|##########| 1/1 [00:01<00:00,  1.64s/it, loss=1.37e+3]\n"
     ]
    },
    {
     "name": "stdout",
     "output_type": "stream",
     "text": [
      "Training Loss: 1374.3186. L1: 768.0202. L2: 594.7409. L3 (not used): 828.6838. Style Loss: 11.5575\n",
      "-----------------------------------\n",
      "Epoch 313\n",
      "-----------------------------------\n"
     ]
    },
    {
     "name": "stderr",
     "output_type": "stream",
     "text": [
      "Training: 100%|##########| 1/1 [00:01<00:00,  1.67s/it, loss=1.37e+3]\n"
     ]
    },
    {
     "name": "stdout",
     "output_type": "stream",
     "text": [
      "Training Loss: 1373.7969. L1: 767.9037. L2: 594.2651. L3 (not used): 834.6529. Style Loss: 11.6279\n",
      "-----------------------------------\n",
      "Epoch 314\n",
      "-----------------------------------\n"
     ]
    },
    {
     "name": "stderr",
     "output_type": "stream",
     "text": [
      "Training: 100%|##########| 1/1 [00:01<00:00,  1.64s/it, loss=1.37e+3]\n"
     ]
    },
    {
     "name": "stdout",
     "output_type": "stream",
     "text": [
      "Training Loss: 1373.2242. L1: 767.8978. L2: 593.8636. L3 (not used): 847.8721. Style Loss: 11.4629\n",
      "-----------------------------------\n",
      "Epoch 315\n",
      "-----------------------------------\n"
     ]
    },
    {
     "name": "stderr",
     "output_type": "stream",
     "text": [
      "Training: 100%|##########| 1/1 [00:01<00:00,  1.65s/it, loss=1.37e+3]\n"
     ]
    },
    {
     "name": "stdout",
     "output_type": "stream",
     "text": [
      "Training Loss: 1372.6912. L1: 767.8504. L2: 593.4548. L3 (not used): 836.4001. Style Loss: 11.3860\n",
      "-----------------------------------\n",
      "Epoch 316\n",
      "-----------------------------------\n"
     ]
    },
    {
     "name": "stderr",
     "output_type": "stream",
     "text": [
      "Training: 100%|##########| 1/1 [00:01<00:00,  1.76s/it, loss=1.37e+3]\n"
     ]
    },
    {
     "name": "stdout",
     "output_type": "stream",
     "text": [
      "Training Loss: 1372.0964. L1: 767.7734. L2: 592.9584. L3 (not used): 826.0282. Style Loss: 11.3648\n",
      "-----------------------------------\n",
      "Epoch 317\n",
      "-----------------------------------\n"
     ]
    },
    {
     "name": "stderr",
     "output_type": "stream",
     "text": [
      "Training: 100%|##########| 1/1 [00:01<00:00,  1.69s/it, loss=1.37e+3]\n"
     ]
    },
    {
     "name": "stdout",
     "output_type": "stream",
     "text": [
      "Training Loss: 1371.5779. L1: 767.7148. L2: 592.5473. L3 (not used): 837.9954. Style Loss: 11.3158\n",
      "-----------------------------------\n",
      "Epoch 318\n",
      "-----------------------------------\n"
     ]
    },
    {
     "name": "stderr",
     "output_type": "stream",
     "text": [
      "Training: 100%|##########| 1/1 [00:01<00:00,  1.66s/it, loss=1.37e+3]\n"
     ]
    },
    {
     "name": "stdout",
     "output_type": "stream",
     "text": [
      "Training Loss: 1371.0327. L1: 767.6741. L2: 592.1293. L3 (not used): 831.8789. Style Loss: 11.2293\n",
      "-----------------------------------\n",
      "Epoch 319\n",
      "-----------------------------------\n"
     ]
    },
    {
     "name": "stderr",
     "output_type": "stream",
     "text": [
      "Training: 100%|##########| 1/1 [00:01<00:00,  1.65s/it, loss=1.37e+3]\n"
     ]
    },
    {
     "name": "stdout",
     "output_type": "stream",
     "text": [
      "Training Loss: 1370.4956. L1: 767.6176. L2: 591.7056. L3 (not used): 848.2551. Style Loss: 11.1724\n",
      "-----------------------------------\n",
      "Epoch 320\n",
      "-----------------------------------\n"
     ]
    },
    {
     "name": "stderr",
     "output_type": "stream",
     "text": [
      "Training: 100%|##########| 1/1 [00:01<00:00,  1.65s/it, loss=1.37e+3]\n"
     ]
    },
    {
     "name": "stdout",
     "output_type": "stream",
     "text": [
      "Training Loss: 1369.9429. L1: 767.5493. L2: 591.2544. L3 (not used): 833.3392. Style Loss: 11.1391\n",
      "-----------------------------------\n",
      "Epoch 321\n",
      "-----------------------------------\n"
     ]
    },
    {
     "name": "stderr",
     "output_type": "stream",
     "text": [
      "Training: 100%|##########| 1/1 [00:01<00:00,  1.64s/it, loss=1.37e+3]\n"
     ]
    },
    {
     "name": "stdout",
     "output_type": "stream",
     "text": [
      "Training Loss: 1369.4052. L1: 767.5209. L2: 590.8477. L3 (not used): 835.4615. Style Loss: 11.0365\n",
      "-----------------------------------\n",
      "Epoch 322\n",
      "-----------------------------------\n"
     ]
    },
    {
     "name": "stderr",
     "output_type": "stream",
     "text": [
      "Training: 100%|##########| 1/1 [00:01<00:00,  1.64s/it, loss=1.37e+3]\n"
     ]
    },
    {
     "name": "stdout",
     "output_type": "stream",
     "text": [
      "Training Loss: 1368.8782. L1: 767.4124. L2: 590.3724. L3 (not used): 847.3125. Style Loss: 11.0933\n",
      "-----------------------------------\n",
      "Epoch 323\n",
      "-----------------------------------\n"
     ]
    },
    {
     "name": "stderr",
     "output_type": "stream",
     "text": [
      "Training: 100%|##########| 1/1 [00:01<00:00,  1.64s/it, loss=1.37e+3]\n"
     ]
    },
    {
     "name": "stdout",
     "output_type": "stream",
     "text": [
      "Training Loss: 1368.3876. L1: 767.4656. L2: 590.0525. L3 (not used): 831.9508. Style Loss: 10.8695\n",
      "-----------------------------------\n",
      "Epoch 324\n",
      "-----------------------------------\n"
     ]
    },
    {
     "name": "stderr",
     "output_type": "stream",
     "text": [
      "Training: 100%|##########| 1/1 [00:01<00:00,  1.63s/it, loss=1.37e+3]\n"
     ]
    },
    {
     "name": "stdout",
     "output_type": "stream",
     "text": [
      "Training Loss: 1368.0969. L1: 767.2303. L2: 589.5828. L3 (not used): 839.9376. Style Loss: 11.2839\n",
      "-----------------------------------\n",
      "Epoch 325\n",
      "-----------------------------------\n"
     ]
    },
    {
     "name": "stderr",
     "output_type": "stream",
     "text": [
      "Training: 100%|##########| 1/1 [00:01<00:00,  1.64s/it, loss=1.37e+3]\n"
     ]
    },
    {
     "name": "stdout",
     "output_type": "stream",
     "text": [
      "Training Loss: 1367.9515. L1: 767.4324. L2: 589.7208. L3 (not used): 816.2768. Style Loss: 10.7984\n",
      "-----------------------------------\n",
      "Epoch 326\n",
      "-----------------------------------\n"
     ]
    },
    {
     "name": "stderr",
     "output_type": "stream",
     "text": [
      "Training: 100%|##########| 1/1 [00:01<00:00,  1.65s/it, loss=1.37e+3]\n"
     ]
    },
    {
     "name": "stdout",
     "output_type": "stream",
     "text": [
      "Training Loss: 1369.1078. L1: 767.1217. L2: 590.7594. L3 (not used): 844.5999. Style Loss: 11.2267\n",
      "-----------------------------------\n",
      "Epoch 327\n",
      "-----------------------------------\n"
     ]
    },
    {
     "name": "stderr",
     "output_type": "stream",
     "text": [
      "Training: 100%|##########| 1/1 [00:01<00:00,  1.63s/it, loss=1.37e+3]\n"
     ]
    },
    {
     "name": "stdout",
     "output_type": "stream",
     "text": [
      "Training Loss: 1369.5073. L1: 767.2755. L2: 591.5238. L3 (not used): 782.2510. Style Loss: 10.7080\n",
      "-----------------------------------\n",
      "Epoch 328\n",
      "-----------------------------------\n"
     ]
    },
    {
     "name": "stderr",
     "output_type": "stream",
     "text": [
      "Training: 100%|##########| 1/1 [00:01<00:00,  1.64s/it, loss=1.37e+3]\n"
     ]
    },
    {
     "name": "stdout",
     "output_type": "stream",
     "text": [
      "Training Loss: 1366.9858. L1: 767.1823. L2: 589.1019. L3 (not used): 856.5619. Style Loss: 10.7016\n",
      "-----------------------------------\n",
      "Epoch 329\n",
      "-----------------------------------\n"
     ]
    },
    {
     "name": "stderr",
     "output_type": "stream",
     "text": [
      "Training: 100%|##########| 1/1 [00:01<00:00,  1.63s/it, loss=1.37e+3]\n"
     ]
    },
    {
     "name": "stdout",
     "output_type": "stream",
     "text": [
      "Training Loss: 1367.6544. L1: 767.0001. L2: 589.6487. L3 (not used): 881.6779. Style Loss: 11.0058\n",
      "-----------------------------------\n",
      "Epoch 330\n",
      "-----------------------------------\n"
     ]
    },
    {
     "name": "stderr",
     "output_type": "stream",
     "text": [
      "Training: 100%|##########| 1/1 [00:01<00:00,  1.64s/it, loss=1.37e+3]\n"
     ]
    },
    {
     "name": "stdout",
     "output_type": "stream",
     "text": [
      "Training Loss: 1365.8000. L1: 767.0531. L2: 588.0745. L3 (not used): 841.6432. Style Loss: 10.6724\n",
      "-----------------------------------\n",
      "Epoch 331\n",
      "-----------------------------------\n"
     ]
    },
    {
     "name": "stderr",
     "output_type": "stream",
     "text": [
      "Training: 100%|##########| 1/1 [00:01<00:00,  1.63s/it, loss=1.37e+3]\n"
     ]
    },
    {
     "name": "stdout",
     "output_type": "stream",
     "text": [
      "Training Loss: 1365.7976. L1: 767.0531. L2: 588.1552. L3 (not used): 794.3574. Style Loss: 10.5893\n",
      "-----------------------------------\n",
      "Epoch 332\n",
      "-----------------------------------\n"
     ]
    },
    {
     "name": "stderr",
     "output_type": "stream",
     "text": [
      "Training: 100%|##########| 1/1 [00:01<00:00,  1.62s/it, loss=1.36e+3]\n"
     ]
    },
    {
     "name": "stdout",
     "output_type": "stream",
     "text": [
      "Training Loss: 1364.9719. L1: 766.8698. L2: 587.3043. L3 (not used): 851.7862. Style Loss: 10.7979\n",
      "-----------------------------------\n",
      "Epoch 333\n",
      "-----------------------------------\n"
     ]
    },
    {
     "name": "stderr",
     "output_type": "stream",
     "text": [
      "Training: 100%|##########| 1/1 [00:01<00:00,  1.66s/it, loss=1.36e+3]\n"
     ]
    },
    {
     "name": "stdout",
     "output_type": "stream",
     "text": [
      "Training Loss: 1364.3578. L1: 766.8425. L2: 586.8308. L3 (not used): 849.1344. Style Loss: 10.6845\n",
      "-----------------------------------\n",
      "Epoch 334\n",
      "-----------------------------------\n"
     ]
    },
    {
     "name": "stderr",
     "output_type": "stream",
     "text": [
      "Training: 100%|##########| 1/1 [00:01<00:00,  1.64s/it, loss=1.36e+3]\n"
     ]
    },
    {
     "name": "stdout",
     "output_type": "stream",
     "text": [
      "Training Loss: 1363.9392. L1: 766.9423. L2: 586.5475. L3 (not used): 801.2473. Style Loss: 10.4493\n",
      "-----------------------------------\n",
      "Epoch 335\n",
      "-----------------------------------\n"
     ]
    },
    {
     "name": "stderr",
     "output_type": "stream",
     "text": [
      "Training: 100%|##########| 1/1 [00:01<00:00,  1.65s/it, loss=1.36e+3]\n"
     ]
    },
    {
     "name": "stdout",
     "output_type": "stream",
     "text": [
      "Training Loss: 1363.2021. L1: 766.8102. L2: 585.9462. L3 (not used): 809.8794. Style Loss: 10.4458\n",
      "-----------------------------------\n",
      "Epoch 336\n",
      "-----------------------------------\n"
     ]
    },
    {
     "name": "stderr",
     "output_type": "stream",
     "text": [
      "Training: 100%|##########| 1/1 [00:01<00:00,  1.65s/it, loss=1.36e+3]\n"
     ]
    },
    {
     "name": "stdout",
     "output_type": "stream",
     "text": [
      "Training Loss: 1362.4817. L1: 766.6661. L2: 585.2202. L3 (not used): 843.1634. Style Loss: 10.5955\n",
      "-----------------------------------\n",
      "Epoch 337\n",
      "-----------------------------------\n"
     ]
    },
    {
     "name": "stderr",
     "output_type": "stream",
     "text": [
      "Training: 100%|##########| 1/1 [00:01<00:00,  1.65s/it, loss=1.36e+3]\n"
     ]
    },
    {
     "name": "stdout",
     "output_type": "stream",
     "text": [
      "Training Loss: 1362.1475. L1: 766.6594. L2: 585.0792. L3 (not used): 844.3736. Style Loss: 10.4090\n",
      "-----------------------------------\n",
      "Epoch 338\n",
      "-----------------------------------\n"
     ]
    },
    {
     "name": "stderr",
     "output_type": "stream",
     "text": [
      "Training: 100%|##########| 1/1 [00:01<00:00,  1.64s/it, loss=1.36e+3]\n"
     ]
    },
    {
     "name": "stdout",
     "output_type": "stream",
     "text": [
      "Training Loss: 1361.2607. L1: 766.5955. L2: 584.2881. L3 (not used): 861.8262. Style Loss: 10.3770\n",
      "-----------------------------------\n",
      "Epoch 339\n",
      "-----------------------------------\n"
     ]
    },
    {
     "name": "stderr",
     "output_type": "stream",
     "text": [
      "Training: 100%|##########| 1/1 [00:01<00:00,  1.62s/it, loss=1.36e+3]\n"
     ]
    },
    {
     "name": "stdout",
     "output_type": "stream",
     "text": [
      "Training Loss: 1360.9390. L1: 766.5012. L2: 583.9956. L3 (not used): 852.2916. Style Loss: 10.4421\n",
      "-----------------------------------\n",
      "Epoch 340\n",
      "-----------------------------------\n"
     ]
    },
    {
     "name": "stderr",
     "output_type": "stream",
     "text": [
      "Training: 100%|##########| 1/1 [00:01<00:00,  1.63s/it, loss=1.36e+3]\n"
     ]
    },
    {
     "name": "stdout",
     "output_type": "stream",
     "text": [
      "Training Loss: 1360.1506. L1: 766.5311. L2: 583.4186. L3 (not used): 820.8137. Style Loss: 10.2009\n",
      "-----------------------------------\n",
      "Epoch 341\n",
      "-----------------------------------\n"
     ]
    },
    {
     "name": "stderr",
     "output_type": "stream",
     "text": [
      "Training: 100%|##########| 1/1 [00:01<00:00,  1.64s/it, loss=1.36e+3]\n"
     ]
    },
    {
     "name": "stdout",
     "output_type": "stream",
     "text": [
      "Training Loss: 1359.7361. L1: 766.5179. L2: 583.1185. L3 (not used): 827.0137. Style Loss: 10.0997\n",
      "-----------------------------------\n",
      "Epoch 342\n",
      "-----------------------------------\n"
     ]
    },
    {
     "name": "stderr",
     "output_type": "stream",
     "text": [
      "Training: 100%|##########| 1/1 [00:01<00:00,  1.65s/it, loss=1.36e+3]\n"
     ]
    },
    {
     "name": "stdout",
     "output_type": "stream",
     "text": [
      "Training Loss: 1359.1343. L1: 766.3651. L2: 582.5469. L3 (not used): 838.0928. Style Loss: 10.2222\n",
      "-----------------------------------\n",
      "Epoch 343\n",
      "-----------------------------------\n"
     ]
    },
    {
     "name": "stderr",
     "output_type": "stream",
     "text": [
      "Training: 100%|##########| 1/1 [00:01<00:00,  1.64s/it, loss=1.36e+3]\n"
     ]
    },
    {
     "name": "stdout",
     "output_type": "stream",
     "text": [
      "Training Loss: 1358.5138. L1: 766.3042. L2: 582.0412. L3 (not used): 823.6777. Style Loss: 10.1684\n",
      "-----------------------------------\n",
      "Epoch 344\n",
      "-----------------------------------\n"
     ]
    },
    {
     "name": "stderr",
     "output_type": "stream",
     "text": [
      "Training: 100%|##########| 1/1 [00:01<00:00,  1.63s/it, loss=1.36e+3]\n"
     ]
    },
    {
     "name": "stdout",
     "output_type": "stream",
     "text": [
      "Training Loss: 1358.1112. L1: 766.3268. L2: 581.7716. L3 (not used): 816.1142. Style Loss: 10.0128\n",
      "-----------------------------------\n",
      "Epoch 345\n",
      "-----------------------------------\n"
     ]
    },
    {
     "name": "stderr",
     "output_type": "stream",
     "text": [
      "Training: 100%|##########| 1/1 [00:01<00:00,  1.64s/it, loss=1.36e+3]\n"
     ]
    },
    {
     "name": "stdout",
     "output_type": "stream",
     "text": [
      "Training Loss: 1357.4012. L1: 766.2034. L2: 581.1519. L3 (not used): 839.3303. Style Loss: 10.0461\n",
      "-----------------------------------\n",
      "Epoch 346\n",
      "-----------------------------------\n"
     ]
    },
    {
     "name": "stderr",
     "output_type": "stream",
     "text": [
      "Training: 100%|##########| 1/1 [00:01<00:00,  1.66s/it, loss=1.36e+3]\n"
     ]
    },
    {
     "name": "stdout",
     "output_type": "stream",
     "text": [
      "Training Loss: 1357.0068. L1: 766.1251. L2: 580.8265. L3 (not used): 834.2198. Style Loss: 10.0553\n",
      "-----------------------------------\n",
      "Epoch 347\n",
      "-----------------------------------\n"
     ]
    },
    {
     "name": "stderr",
     "output_type": "stream",
     "text": [
      "Training: 100%|##########| 1/1 [00:01<00:00,  1.63s/it, loss=1.36e+3]\n"
     ]
    },
    {
     "name": "stdout",
     "output_type": "stream",
     "text": [
      "Training Loss: 1356.3754. L1: 766.1357. L2: 580.3577. L3 (not used): 811.8309. Style Loss: 9.8820\n",
      "-----------------------------------\n",
      "Epoch 348\n",
      "-----------------------------------\n"
     ]
    },
    {
     "name": "stderr",
     "output_type": "stream",
     "text": [
      "Training: 100%|##########| 1/1 [00:01<00:00,  1.62s/it, loss=1.36e+3]\n"
     ]
    },
    {
     "name": "stdout",
     "output_type": "stream",
     "text": [
      "Training Loss: 1355.8939. L1: 766.0559. L2: 579.9628. L3 (not used): 822.6763. Style Loss: 9.8753\n",
      "-----------------------------------\n",
      "Epoch 349\n",
      "-----------------------------------\n"
     ]
    },
    {
     "name": "stderr",
     "output_type": "stream",
     "text": [
      "Training: 100%|##########| 1/1 [00:01<00:00,  1.62s/it, loss=1.36e+3]\n"
     ]
    },
    {
     "name": "stdout",
     "output_type": "stream",
     "text": [
      "Training Loss: 1355.3248. L1: 765.9722. L2: 579.4706. L3 (not used): 830.5964. Style Loss: 9.8819\n",
      "-----------------------------------\n",
      "Epoch 350\n",
      "-----------------------------------\n"
     ]
    },
    {
     "name": "stderr",
     "output_type": "stream",
     "text": [
      "Training: 100%|##########| 1/1 [00:01<00:00,  1.63s/it, loss=1.35e+3]\n"
     ]
    },
    {
     "name": "stdout",
     "output_type": "stream",
     "text": [
      "Training Loss: 1354.8318. L1: 765.9550. L2: 579.1135. L3 (not used): 819.6851. Style Loss: 9.7634\n",
      "-----------------------------------\n",
      "Epoch 351\n",
      "-----------------------------------\n"
     ]
    },
    {
     "name": "stderr",
     "output_type": "stream",
     "text": [
      "Training: 100%|##########| 1/1 [00:01<00:00,  1.62s/it, loss=1.35e+3]\n"
     ]
    },
    {
     "name": "stdout",
     "output_type": "stream",
     "text": [
      "Training Loss: 1354.2878. L1: 765.8643. L2: 578.6492. L3 (not used): 814.3953. Style Loss: 9.7745\n",
      "-----------------------------------\n",
      "Epoch 352\n",
      "-----------------------------------\n"
     ]
    },
    {
     "name": "stderr",
     "output_type": "stream",
     "text": [
      "Training: 100%|##########| 1/1 [00:01<00:00,  1.61s/it, loss=1.35e+3]\n"
     ]
    },
    {
     "name": "stdout",
     "output_type": "stream",
     "text": [
      "Training Loss: 1353.7509. L1: 765.8148. L2: 578.2218. L3 (not used): 828.1700. Style Loss: 9.7142\n",
      "-----------------------------------\n",
      "Epoch 353\n",
      "-----------------------------------\n"
     ]
    },
    {
     "name": "stderr",
     "output_type": "stream",
     "text": [
      "Training: 100%|##########| 1/1 [00:01<00:00,  1.62s/it, loss=1.35e+3]\n"
     ]
    },
    {
     "name": "stdout",
     "output_type": "stream",
     "text": [
      "Training Loss: 1353.2772. L1: 765.7830. L2: 577.8552. L3 (not used): 819.5458. Style Loss: 9.6390\n",
      "-----------------------------------\n",
      "Epoch 354\n",
      "-----------------------------------\n"
     ]
    },
    {
     "name": "stderr",
     "output_type": "stream",
     "text": [
      "Training: 100%|##########| 1/1 [00:01<00:00,  1.62s/it, loss=1.35e+3]\n"
     ]
    },
    {
     "name": "stdout",
     "output_type": "stream",
     "text": [
      "Training Loss: 1352.7267. L1: 765.6625. L2: 577.3503. L3 (not used): 810.0310. Style Loss: 9.7139\n",
      "-----------------------------------\n",
      "Epoch 355\n",
      "-----------------------------------\n"
     ]
    },
    {
     "name": "stderr",
     "output_type": "stream",
     "text": [
      "Training: 100%|##########| 1/1 [00:01<00:00,  1.64s/it, loss=1.35e+3]\n"
     ]
    },
    {
     "name": "stdout",
     "output_type": "stream",
     "text": [
      "Training Loss: 1352.2168. L1: 765.6636. L2: 576.9982. L3 (not used): 818.7859. Style Loss: 9.5550\n",
      "-----------------------------------\n",
      "Epoch 356\n",
      "-----------------------------------\n"
     ]
    },
    {
     "name": "stderr",
     "output_type": "stream",
     "text": [
      "Training: 100%|##########| 1/1 [00:01<00:00,  1.63s/it, loss=1.35e+3]\n"
     ]
    },
    {
     "name": "stdout",
     "output_type": "stream",
     "text": [
      "Training Loss: 1351.7015. L1: 765.5768. L2: 576.5649. L3 (not used): 824.6496. Style Loss: 9.5598\n",
      "-----------------------------------\n",
      "Epoch 357\n",
      "-----------------------------------\n"
     ]
    },
    {
     "name": "stderr",
     "output_type": "stream",
     "text": [
      "Training: 100%|##########| 1/1 [00:01<00:00,  1.64s/it, loss=1.35e+3]\n"
     ]
    },
    {
     "name": "stdout",
     "output_type": "stream",
     "text": [
      "Training Loss: 1351.1793. L1: 765.4903. L2: 576.1136. L3 (not used): 820.6106. Style Loss: 9.5754\n",
      "-----------------------------------\n",
      "Epoch 358\n",
      "-----------------------------------\n"
     ]
    },
    {
     "name": "stderr",
     "output_type": "stream",
     "text": [
      "Training: 100%|##########| 1/1 [00:01<00:00,  1.63s/it, loss=1.35e+3]\n"
     ]
    },
    {
     "name": "stdout",
     "output_type": "stream",
     "text": [
      "Training Loss: 1350.6996. L1: 765.4648. L2: 575.7517. L3 (not used): 805.7957. Style Loss: 9.4831\n",
      "-----------------------------------\n",
      "Epoch 359\n",
      "-----------------------------------\n"
     ]
    },
    {
     "name": "stderr",
     "output_type": "stream",
     "text": [
      "Training: 100%|##########| 1/1 [00:01<00:00,  1.62s/it, loss=1.35e+3]\n"
     ]
    },
    {
     "name": "stdout",
     "output_type": "stream",
     "text": [
      "Training Loss: 1350.1514. L1: 765.3704. L2: 575.2690. L3 (not used): 815.2521. Style Loss: 9.5120\n",
      "-----------------------------------\n",
      "Epoch 360\n",
      "-----------------------------------\n"
     ]
    },
    {
     "name": "stderr",
     "output_type": "stream",
     "text": [
      "Training: 100%|##########| 1/1 [00:01<00:00,  1.63s/it, loss=1.35e+3]\n"
     ]
    },
    {
     "name": "stdout",
     "output_type": "stream",
     "text": [
      "Training Loss: 1349.6768. L1: 765.3665. L2: 574.9283. L3 (not used): 820.9061. Style Loss: 9.3819\n",
      "-----------------------------------\n",
      "Epoch 361\n",
      "-----------------------------------\n"
     ]
    },
    {
     "name": "stderr",
     "output_type": "stream",
     "text": [
      "Training: 100%|##########| 1/1 [00:01<00:00,  1.64s/it, loss=1.35e+3]\n"
     ]
    },
    {
     "name": "stdout",
     "output_type": "stream",
     "text": [
      "Training Loss: 1349.1675. L1: 765.2281. L2: 574.4403. L3 (not used): 804.5106. Style Loss: 9.4990\n",
      "-----------------------------------\n",
      "Epoch 362\n",
      "-----------------------------------\n"
     ]
    },
    {
     "name": "stderr",
     "output_type": "stream",
     "text": [
      "Training: 100%|##########| 1/1 [00:01<00:00,  1.63s/it, loss=1.35e+3]\n"
     ]
    },
    {
     "name": "stdout",
     "output_type": "stream",
     "text": [
      "Training Loss: 1348.7356. L1: 765.2502. L2: 574.1575. L3 (not used): 818.3894. Style Loss: 9.3278\n",
      "-----------------------------------\n",
      "Epoch 363\n",
      "-----------------------------------\n"
     ]
    },
    {
     "name": "stderr",
     "output_type": "stream",
     "text": [
      "Training: 100%|##########| 1/1 [00:01<00:00,  1.62s/it, loss=1.35e+3]\n"
     ]
    },
    {
     "name": "stdout",
     "output_type": "stream",
     "text": [
      "Training Loss: 1348.4403. L1: 765.0474. L2: 573.7335. L3 (not used): 801.0422. Style Loss: 9.6593\n",
      "-----------------------------------\n",
      "Epoch 364\n",
      "-----------------------------------\n"
     ]
    },
    {
     "name": "stderr",
     "output_type": "stream",
     "text": [
      "Training: 100%|##########| 1/1 [00:01<00:00,  1.63s/it, loss=1.35e+3]\n"
     ]
    },
    {
     "name": "stdout",
     "output_type": "stream",
     "text": [
      "Training Loss: 1348.3219. L1: 765.2945. L2: 573.7132. L3 (not used): 828.8985. Style Loss: 9.3142\n",
      "-----------------------------------\n",
      "Epoch 365\n",
      "-----------------------------------\n"
     ]
    },
    {
     "name": "stderr",
     "output_type": "stream",
     "text": [
      "Training: 100%|##########| 1/1 [00:01<00:00,  1.70s/it, loss=1.35e+3]\n"
     ]
    },
    {
     "name": "stdout",
     "output_type": "stream",
     "text": [
      "Training Loss: 1348.4489. L1: 764.8151. L2: 573.1860. L3 (not used): 775.8568. Style Loss: 10.4478\n",
      "-----------------------------------\n",
      "Epoch 366\n",
      "-----------------------------------\n"
     ]
    },
    {
     "name": "stderr",
     "output_type": "stream",
     "text": [
      "Training: 100%|##########| 1/1 [00:01<00:00,  1.65s/it, loss=1.35e+3]\n"
     ]
    },
    {
     "name": "stdout",
     "output_type": "stream",
     "text": [
      "Training Loss: 1347.5419. L1: 765.1633. L2: 573.0768. L3 (not used): 855.2002. Style Loss: 9.3018\n",
      "-----------------------------------\n",
      "Epoch 367\n",
      "-----------------------------------\n"
     ]
    },
    {
     "name": "stderr",
     "output_type": "stream",
     "text": [
      "Training: 100%|##########| 1/1 [00:01<00:00,  1.64s/it, loss=1.35e+3]\n"
     ]
    },
    {
     "name": "stdout",
     "output_type": "stream",
     "text": [
      "Training Loss: 1346.5732. L1: 764.9980. L2: 572.3292. L3 (not used): 784.8791. Style Loss: 9.2460\n",
      "-----------------------------------\n",
      "Epoch 368\n",
      "-----------------------------------\n"
     ]
    },
    {
     "name": "stderr",
     "output_type": "stream",
     "text": [
      "Training: 100%|##########| 1/1 [00:01<00:00,  1.63s/it, loss=1.35e+3]\n"
     ]
    },
    {
     "name": "stdout",
     "output_type": "stream",
     "text": [
      "Training Loss: 1346.3457. L1: 764.6672. L2: 571.6429. L3 (not used): 805.8421. Style Loss: 10.0357\n",
      "-----------------------------------\n",
      "Epoch 369\n",
      "-----------------------------------\n"
     ]
    },
    {
     "name": "stderr",
     "output_type": "stream",
     "text": [
      "Training: 100%|##########| 1/1 [00:01<00:00,  1.63s/it, loss=1.35e+3]\n"
     ]
    },
    {
     "name": "stdout",
     "output_type": "stream",
     "text": [
      "Training Loss: 1345.5243. L1: 764.8355. L2: 571.4598. L3 (not used): 825.5409. Style Loss: 9.2290\n",
      "-----------------------------------\n",
      "Epoch 370\n",
      "-----------------------------------\n"
     ]
    },
    {
     "name": "stderr",
     "output_type": "stream",
     "text": [
      "Training: 100%|##########| 1/1 [00:01<00:00,  1.64s/it, loss=1.35e+3]\n"
     ]
    },
    {
     "name": "stdout",
     "output_type": "stream",
     "text": [
      "Training Loss: 1345.3132. L1: 764.9448. L2: 571.2289. L3 (not used): 772.0003. Style Loss: 9.1395\n",
      "-----------------------------------\n",
      "Epoch 371\n",
      "-----------------------------------\n"
     ]
    },
    {
     "name": "stderr",
     "output_type": "stream",
     "text": [
      "Training: 100%|##########| 1/1 [00:01<00:00,  1.64s/it, loss=1.34e+3]\n"
     ]
    },
    {
     "name": "stdout",
     "output_type": "stream",
     "text": [
      "Training Loss: 1344.6660. L1: 764.6258. L2: 570.6519. L3 (not used): 832.6954. Style Loss: 9.3884\n",
      "-----------------------------------\n",
      "Epoch 372\n",
      "-----------------------------------\n"
     ]
    },
    {
     "name": "stderr",
     "output_type": "stream",
     "text": [
      "Training: 100%|##########| 1/1 [00:01<00:00,  1.63s/it, loss=1.34e+3]\n"
     ]
    },
    {
     "name": "stdout",
     "output_type": "stream",
     "text": [
      "Training Loss: 1344.1331. L1: 764.5411. L2: 570.1032. L3 (not used): 804.2479. Style Loss: 9.4887\n",
      "-----------------------------------\n",
      "Epoch 373\n",
      "-----------------------------------\n"
     ]
    },
    {
     "name": "stderr",
     "output_type": "stream",
     "text": [
      "Training: 100%|##########| 1/1 [00:01<00:00,  1.63s/it, loss=1.34e+3]\n"
     ]
    },
    {
     "name": "stdout",
     "output_type": "stream",
     "text": [
      "Training Loss: 1343.6584. L1: 764.7013. L2: 569.9400. L3 (not used): 778.9376. Style Loss: 9.0171\n",
      "-----------------------------------\n",
      "Epoch 374\n",
      "-----------------------------------\n"
     ]
    },
    {
     "name": "stderr",
     "output_type": "stream",
     "text": [
      "Training: 100%|##########| 1/1 [00:01<00:00,  1.62s/it, loss=1.34e+3]\n"
     ]
    },
    {
     "name": "stdout",
     "output_type": "stream",
     "text": [
      "Training Loss: 1343.1771. L1: 764.6189. L2: 569.5412. L3 (not used): 826.5864. Style Loss: 9.0170\n",
      "-----------------------------------\n",
      "Epoch 375\n",
      "-----------------------------------\n"
     ]
    },
    {
     "name": "stderr",
     "output_type": "stream",
     "text": [
      "Training: 100%|##########| 1/1 [00:01<00:00,  1.63s/it, loss=1.34e+3]\n"
     ]
    },
    {
     "name": "stdout",
     "output_type": "stream",
     "text": [
      "Training Loss: 1342.6987. L1: 764.3687. L2: 568.9619. L3 (not used): 783.2991. Style Loss: 9.3681\n",
      "-----------------------------------\n",
      "Epoch 376\n",
      "-----------------------------------\n"
     ]
    },
    {
     "name": "stderr",
     "output_type": "stream",
     "text": [
      "Training: 100%|##########| 1/1 [00:01<00:00,  1.63s/it, loss=1.34e+3]\n"
     ]
    },
    {
     "name": "stdout",
     "output_type": "stream",
     "text": [
      "Training Loss: 1342.0526. L1: 764.3594. L2: 568.5034. L3 (not used): 800.8044. Style Loss: 9.1899\n",
      "-----------------------------------\n",
      "Epoch 377\n",
      "-----------------------------------\n"
     ]
    },
    {
     "name": "stderr",
     "output_type": "stream",
     "text": [
      "Training: 100%|##########| 1/1 [00:01<00:00,  1.63s/it, loss=1.34e+3]\n"
     ]
    },
    {
     "name": "stdout",
     "output_type": "stream",
     "text": [
      "Training Loss: 1341.6691. L1: 764.4661. L2: 568.2847. L3 (not used): 805.6238. Style Loss: 8.9182\n",
      "-----------------------------------\n",
      "Epoch 378\n",
      "-----------------------------------\n"
     ]
    },
    {
     "name": "stderr",
     "output_type": "stream",
     "text": [
      "Training: 100%|##########| 1/1 [00:01<00:00,  1.64s/it, loss=1.34e+3]\n"
     ]
    },
    {
     "name": "stdout",
     "output_type": "stream",
     "text": [
      "Training Loss: 1341.1852. L1: 764.3400. L2: 567.8943. L3 (not used): 774.8863. Style Loss: 8.9509\n",
      "-----------------------------------\n",
      "Epoch 379\n",
      "-----------------------------------\n"
     ]
    },
    {
     "name": "stderr",
     "output_type": "stream",
     "text": [
      "Training: 100%|##########| 1/1 [00:01<00:00,  1.63s/it, loss=1.34e+3]\n"
     ]
    },
    {
     "name": "stdout",
     "output_type": "stream",
     "text": [
      "Training Loss: 1340.7748. L1: 764.1448. L2: 567.3895. L3 (not used): 816.0578. Style Loss: 9.2405\n",
      "-----------------------------------\n",
      "Epoch 380\n",
      "-----------------------------------\n"
     ]
    },
    {
     "name": "stderr",
     "output_type": "stream",
     "text": [
      "Training: 100%|##########| 1/1 [00:01<00:00,  1.62s/it, loss=1.34e+3]\n"
     ]
    },
    {
     "name": "stdout",
     "output_type": "stream",
     "text": [
      "Training Loss: 1340.1614. L1: 764.1673. L2: 567.0010. L3 (not used): 781.6581. Style Loss: 8.9931\n",
      "-----------------------------------\n",
      "Epoch 381\n",
      "-----------------------------------\n"
     ]
    },
    {
     "name": "stderr",
     "output_type": "stream",
     "text": [
      "Training: 100%|##########| 1/1 [00:01<00:00,  1.64s/it, loss=1.34e+3]\n"
     ]
    },
    {
     "name": "stdout",
     "output_type": "stream",
     "text": [
      "Training Loss: 1339.8175. L1: 764.2119. L2: 566.7545. L3 (not used): 785.0787. Style Loss: 8.8512\n",
      "-----------------------------------\n",
      "Epoch 382\n",
      "-----------------------------------\n"
     ]
    },
    {
     "name": "stderr",
     "output_type": "stream",
     "text": [
      "Training: 100%|##########| 1/1 [00:01<00:00,  1.63s/it, loss=1.34e+3]\n"
     ]
    },
    {
     "name": "stdout",
     "output_type": "stream",
     "text": [
      "Training Loss: 1339.5323. L1: 764.0358. L2: 566.4913. L3 (not used): 800.9194. Style Loss: 9.0053\n",
      "-----------------------------------\n",
      "Epoch 383\n",
      "-----------------------------------\n"
     ]
    },
    {
     "name": "stderr",
     "output_type": "stream",
     "text": [
      "Training: 100%|##########| 1/1 [00:01<00:00,  1.63s/it, loss=1.34e+3]\n"
     ]
    },
    {
     "name": "stdout",
     "output_type": "stream",
     "text": [
      "Training Loss: 1339.3550. L1: 763.9584. L2: 566.3487. L3 (not used): 782.1992. Style Loss: 9.0479\n",
      "-----------------------------------\n",
      "Epoch 384\n",
      "-----------------------------------\n"
     ]
    },
    {
     "name": "stderr",
     "output_type": "stream",
     "text": [
      "Training: 100%|##########| 1/1 [00:01<00:00,  1.63s/it, loss=1.34e+3]\n"
     ]
    },
    {
     "name": "stdout",
     "output_type": "stream",
     "text": [
      "Training Loss: 1339.2609. L1: 764.0090. L2: 566.4180. L3 (not used): 799.3566. Style Loss: 8.8339\n",
      "-----------------------------------\n",
      "Epoch 385\n",
      "-----------------------------------\n"
     ]
    },
    {
     "name": "stderr",
     "output_type": "stream",
     "text": [
      "Training: 100%|##########| 1/1 [00:01<00:00,  1.63s/it, loss=1.34e+3]\n"
     ]
    },
    {
     "name": "stdout",
     "output_type": "stream",
     "text": [
      "Training Loss: 1338.5426. L1: 763.9520. L2: 565.7656. L3 (not used): 802.1765. Style Loss: 8.8251\n",
      "-----------------------------------\n",
      "Epoch 386\n",
      "-----------------------------------\n"
     ]
    },
    {
     "name": "stderr",
     "output_type": "stream",
     "text": [
      "Training: 100%|##########| 1/1 [00:01<00:00,  1.63s/it, loss=1.34e+3]\n"
     ]
    },
    {
     "name": "stdout",
     "output_type": "stream",
     "text": [
      "Training Loss: 1337.8004. L1: 763.7741. L2: 564.9819. L3 (not used): 765.7373. Style Loss: 9.0444\n",
      "-----------------------------------\n",
      "Epoch 387\n",
      "-----------------------------------\n"
     ]
    },
    {
     "name": "stderr",
     "output_type": "stream",
     "text": [
      "Training: 100%|##########| 1/1 [00:01<00:00,  1.63s/it, loss=1.34e+3]\n"
     ]
    },
    {
     "name": "stdout",
     "output_type": "stream",
     "text": [
      "Training Loss: 1337.7312. L1: 763.7479. L2: 565.0120. L3 (not used): 800.4526. Style Loss: 8.9713\n",
      "-----------------------------------\n",
      "Epoch 388\n",
      "-----------------------------------\n"
     ]
    },
    {
     "name": "stderr",
     "output_type": "stream",
     "text": [
      "Training: 100%|##########| 1/1 [00:01<00:00,  1.64s/it, loss=1.34e+3]\n"
     ]
    },
    {
     "name": "stdout",
     "output_type": "stream",
     "text": [
      "Training Loss: 1337.7649. L1: 763.8119. L2: 565.1695. L3 (not used): 803.8057. Style Loss: 8.7835\n",
      "-----------------------------------\n",
      "Epoch 389\n",
      "-----------------------------------\n"
     ]
    },
    {
     "name": "stderr",
     "output_type": "stream",
     "text": [
      "Training: 100%|##########| 1/1 [00:01<00:00,  1.65s/it, loss=1.34e+3]\n"
     ]
    },
    {
     "name": "stdout",
     "output_type": "stream",
     "text": [
      "Training Loss: 1336.5615. L1: 763.6849. L2: 564.0048. L3 (not used): 753.4908. Style Loss: 8.8718\n",
      "-----------------------------------\n",
      "Epoch 390\n",
      "-----------------------------------\n"
     ]
    },
    {
     "name": "stderr",
     "output_type": "stream",
     "text": [
      "Training: 100%|##########| 1/1 [00:01<00:00,  1.64s/it, loss=1.34e+3]\n"
     ]
    },
    {
     "name": "stdout",
     "output_type": "stream",
     "text": [
      "Training Loss: 1336.3717. L1: 763.5892. L2: 563.8190. L3 (not used): 816.7344. Style Loss: 8.9636\n",
      "-----------------------------------\n",
      "Epoch 391\n",
      "-----------------------------------\n"
     ]
    },
    {
     "name": "stderr",
     "output_type": "stream",
     "text": [
      "Training: 100%|##########| 1/1 [00:01<00:00,  1.70s/it, loss=1.34e+3]\n"
     ]
    },
    {
     "name": "stdout",
     "output_type": "stream",
     "text": [
      "Training Loss: 1335.7837. L1: 763.6322. L2: 563.3740. L3 (not used): 778.9656. Style Loss: 8.7775\n",
      "-----------------------------------\n",
      "Epoch 392\n",
      "-----------------------------------\n"
     ]
    },
    {
     "name": "stderr",
     "output_type": "stream",
     "text": [
      "Training: 100%|##########| 1/1 [00:01<00:00,  1.67s/it, loss=1.34e+3]\n"
     ]
    },
    {
     "name": "stdout",
     "output_type": "stream",
     "text": [
      "Training Loss: 1335.1327. L1: 763.5709. L2: 562.7845. L3 (not used): 763.4140. Style Loss: 8.7772\n",
      "-----------------------------------\n",
      "Epoch 393\n",
      "-----------------------------------\n"
     ]
    },
    {
     "name": "stderr",
     "output_type": "stream",
     "text": [
      "Training: 100%|##########| 1/1 [00:01<00:00,  1.69s/it, loss=1.33e+3]\n"
     ]
    },
    {
     "name": "stdout",
     "output_type": "stream",
     "text": [
      "Training Loss: 1334.9794. L1: 763.4302. L2: 562.6032. L3 (not used): 810.6910. Style Loss: 8.9459\n",
      "-----------------------------------\n",
      "Epoch 394\n",
      "-----------------------------------\n"
     ]
    },
    {
     "name": "stderr",
     "output_type": "stream",
     "text": [
      "Training: 100%|##########| 1/1 [00:01<00:00,  1.70s/it, loss=1.33e+3]\n"
     ]
    },
    {
     "name": "stdout",
     "output_type": "stream",
     "text": [
      "Training Loss: 1334.0312. L1: 763.4348. L2: 561.7953. L3 (not used): 774.1150. Style Loss: 8.8010\n",
      "-----------------------------------\n",
      "Epoch 395\n",
      "-----------------------------------\n"
     ]
    },
    {
     "name": "stderr",
     "output_type": "stream",
     "text": [
      "Training: 100%|##########| 1/1 [00:01<00:00,  1.74s/it, loss=1.33e+3]\n"
     ]
    },
    {
     "name": "stdout",
     "output_type": "stream",
     "text": [
      "Training Loss: 1333.7773. L1: 763.4080. L2: 561.6166. L3 (not used): 766.7413. Style Loss: 8.7528\n",
      "-----------------------------------\n",
      "Epoch 396\n",
      "-----------------------------------\n"
     ]
    },
    {
     "name": "stderr",
     "output_type": "stream",
     "text": [
      "Training: 100%|##########| 1/1 [00:01<00:00,  1.69s/it, loss=1.33e+3]\n"
     ]
    },
    {
     "name": "stdout",
     "output_type": "stream",
     "text": [
      "Training Loss: 1333.3455. L1: 763.3306. L2: 561.2339. L3 (not used): 816.2159. Style Loss: 8.7810\n",
      "-----------------------------------\n",
      "Epoch 397\n",
      "-----------------------------------\n"
     ]
    },
    {
     "name": "stderr",
     "output_type": "stream",
     "text": [
      "Training: 100%|##########| 1/1 [00:01<00:00,  1.69s/it, loss=1.33e+3]\n"
     ]
    },
    {
     "name": "stdout",
     "output_type": "stream",
     "text": [
      "Training Loss: 1332.6913. L1: 763.2431. L2: 560.6110. L3 (not used): 770.3678. Style Loss: 8.8371\n",
      "-----------------------------------\n",
      "Epoch 398\n",
      "-----------------------------------\n"
     ]
    },
    {
     "name": "stderr",
     "output_type": "stream",
     "text": [
      "Training: 100%|##########| 1/1 [00:01<00:00,  1.68s/it, loss=1.33e+3]\n"
     ]
    },
    {
     "name": "stdout",
     "output_type": "stream",
     "text": [
      "Training Loss: 1332.3567. L1: 763.2399. L2: 560.3833. L3 (not used): 754.3094. Style Loss: 8.7336\n",
      "-----------------------------------\n",
      "Epoch 399\n",
      "-----------------------------------\n"
     ]
    },
    {
     "name": "stderr",
     "output_type": "stream",
     "text": [
      "Training: 100%|##########| 1/1 [00:01<00:00,  1.65s/it, loss=1.33e+3]\n"
     ]
    },
    {
     "name": "stdout",
     "output_type": "stream",
     "text": [
      "Training Loss: 1331.8815. L1: 763.1855. L2: 559.9744. L3 (not used): 801.9047. Style Loss: 8.7215\n",
      "-----------------------------------\n",
      "Epoch 400\n",
      "-----------------------------------\n"
     ]
    },
    {
     "name": "stderr",
     "output_type": "stream",
     "text": [
      "Training: 100%|##########| 1/1 [00:01<00:00,  1.64s/it, loss=1.33e+3]\n"
     ]
    },
    {
     "name": "stdout",
     "output_type": "stream",
     "text": [
      "Training Loss: 1331.3805. L1: 763.1204. L2: 559.5232. L3 (not used): 779.6898. Style Loss: 8.7369\n",
      "-----------------------------------\n",
      "Epoch 401\n",
      "-----------------------------------\n"
     ]
    },
    {
     "name": "stderr",
     "output_type": "stream",
     "text": [
      "Training: 100%|##########| 1/1 [00:01<00:00,  1.62s/it, loss=1.33e+3]\n"
     ]
    },
    {
     "name": "stdout",
     "output_type": "stream",
     "text": [
      "Training Loss: 1330.9802. L1: 763.0662. L2: 559.1854. L3 (not used): 753.9884. Style Loss: 8.7286\n",
      "-----------------------------------\n",
      "Epoch 402\n",
      "-----------------------------------\n"
     ]
    },
    {
     "name": "stderr",
     "output_type": "stream",
     "text": [
      "Training: 100%|##########| 1/1 [00:01<00:00,  1.64s/it, loss=1.33e+3]\n"
     ]
    },
    {
     "name": "stdout",
     "output_type": "stream",
     "text": [
      "Training Loss: 1330.5618. L1: 763.0585. L2: 558.8534. L3 (not used): 789.6578. Style Loss: 8.6499\n",
      "-----------------------------------\n",
      "Epoch 403\n",
      "-----------------------------------\n"
     ]
    },
    {
     "name": "stderr",
     "output_type": "stream",
     "text": [
      "Training: 100%|##########| 1/1 [00:01<00:00,  1.65s/it, loss=1.33e+3]\n"
     ]
    },
    {
     "name": "stdout",
     "output_type": "stream",
     "text": [
      "Training Loss: 1330.0339. L1: 762.9108. L2: 558.2642. L3 (not used): 781.3089. Style Loss: 8.8589\n",
      "-----------------------------------\n",
      "Epoch 404\n",
      "-----------------------------------\n"
     ]
    },
    {
     "name": "stderr",
     "output_type": "stream",
     "text": [
      "Training: 100%|##########| 1/1 [00:01<00:00,  1.64s/it, loss=1.33e+3]\n"
     ]
    },
    {
     "name": "stdout",
     "output_type": "stream",
     "text": [
      "Training Loss: 1329.8014. L1: 763.0607. L2: 558.1763. L3 (not used): 760.0793. Style Loss: 8.5643\n",
      "-----------------------------------\n",
      "Epoch 405\n",
      "-----------------------------------\n"
     ]
    },
    {
     "name": "stderr",
     "output_type": "stream",
     "text": [
      "Training: 100%|##########| 1/1 [00:01<00:00,  1.66s/it, loss=1.33e+3]\n"
     ]
    },
    {
     "name": "stdout",
     "output_type": "stream",
     "text": [
      "Training Loss: 1329.8708. L1: 762.7137. L2: 557.6842. L3 (not used): 776.8103. Style Loss: 9.4729\n",
      "-----------------------------------\n",
      "Epoch 406\n",
      "-----------------------------------\n"
     ]
    },
    {
     "name": "stderr",
     "output_type": "stream",
     "text": [
      "Training: 100%|##########| 1/1 [00:01<00:00,  1.64s/it, loss=1.33e+3]\n"
     ]
    },
    {
     "name": "stdout",
     "output_type": "stream",
     "text": [
      "Training Loss: 1329.5634. L1: 763.1676. L2: 557.6909. L3 (not used): 774.5987. Style Loss: 8.7050\n",
      "-----------------------------------\n",
      "Epoch 407\n",
      "-----------------------------------\n"
     ]
    },
    {
     "name": "stderr",
     "output_type": "stream",
     "text": [
      "Training: 100%|##########| 1/1 [00:01<00:00,  1.64s/it, loss=1.33e+3]\n"
     ]
    },
    {
     "name": "stdout",
     "output_type": "stream",
     "text": [
      "Training Loss: 1328.6559. L1: 762.7874. L2: 557.0459. L3 (not used): 766.8683. Style Loss: 8.8226\n",
      "-----------------------------------\n",
      "Epoch 408\n",
      "-----------------------------------\n"
     ]
    },
    {
     "name": "stderr",
     "output_type": "stream",
     "text": [
      "Training: 100%|##########| 1/1 [00:01<00:00,  1.63s/it, loss=1.33e+3]\n"
     ]
    },
    {
     "name": "stdout",
     "output_type": "stream",
     "text": [
      "Training Loss: 1328.4484. L1: 762.6279. L2: 556.6027. L3 (not used): 764.2698. Style Loss: 9.2179\n",
      "-----------------------------------\n",
      "Epoch 409\n",
      "-----------------------------------\n"
     ]
    },
    {
     "name": "stderr",
     "output_type": "stream",
     "text": [
      "Training: 100%|##########| 1/1 [00:01<00:00,  1.63s/it, loss=1.33e+3]\n"
     ]
    },
    {
     "name": "stdout",
     "output_type": "stream",
     "text": [
      "Training Loss: 1327.8042. L1: 762.8339. L2: 556.3516. L3 (not used): 774.2288. Style Loss: 8.6186\n",
      "-----------------------------------\n",
      "Epoch 410\n",
      "-----------------------------------\n"
     ]
    },
    {
     "name": "stderr",
     "output_type": "stream",
     "text": [
      "Training: 100%|##########| 1/1 [00:01<00:00,  1.65s/it, loss=1.33e+3]\n"
     ]
    },
    {
     "name": "stdout",
     "output_type": "stream",
     "text": [
      "Training Loss: 1327.4104. L1: 762.8107. L2: 556.0225. L3 (not used): 773.3594. Style Loss: 8.5771\n",
      "-----------------------------------\n",
      "Epoch 411\n",
      "-----------------------------------\n"
     ]
    },
    {
     "name": "stderr",
     "output_type": "stream",
     "text": [
      "Training: 100%|##########| 1/1 [00:01<00:00,  1.64s/it, loss=1.33e+3]\n"
     ]
    },
    {
     "name": "stdout",
     "output_type": "stream",
     "text": [
      "Training Loss: 1326.9086. L1: 762.5679. L2: 555.4211. L3 (not used): 766.2759. Style Loss: 8.9196\n",
      "-----------------------------------\n",
      "Epoch 412\n",
      "-----------------------------------\n"
     ]
    },
    {
     "name": "stderr",
     "output_type": "stream",
     "text": [
      "Training: 100%|##########| 1/1 [00:01<00:00,  1.63s/it, loss=1.33e+3]\n"
     ]
    },
    {
     "name": "stdout",
     "output_type": "stream",
     "text": [
      "Training Loss: 1326.3917. L1: 762.5842. L2: 555.0903. L3 (not used): 767.0256. Style Loss: 8.7171\n",
      "-----------------------------------\n",
      "Epoch 413\n",
      "-----------------------------------\n"
     ]
    },
    {
     "name": "stderr",
     "output_type": "stream",
     "text": [
      "Training: 100%|##########| 1/1 [00:01<00:00,  1.63s/it, loss=1.33e+3]\n"
     ]
    },
    {
     "name": "stdout",
     "output_type": "stream",
     "text": [
      "Training Loss: 1326.0532. L1: 762.6813. L2: 554.8682. L3 (not used): 755.6810. Style Loss: 8.5037\n",
      "-----------------------------------\n",
      "Epoch 414\n",
      "-----------------------------------\n"
     ]
    },
    {
     "name": "stderr",
     "output_type": "stream",
     "text": [
      "Training: 100%|##########| 1/1 [00:01<00:00,  1.64s/it, loss=1.33e+3]\n"
     ]
    },
    {
     "name": "stdout",
     "output_type": "stream",
     "text": [
      "Training Loss: 1325.4512. L1: 762.5076. L2: 554.3242. L3 (not used): 762.5556. Style Loss: 8.6194\n",
      "-----------------------------------\n",
      "Epoch 415\n",
      "-----------------------------------\n"
     ]
    },
    {
     "name": "stderr",
     "output_type": "stream",
     "text": [
      "Training: 100%|##########| 1/1 [00:01<00:00,  1.64s/it, loss=1.33e+3]\n"
     ]
    },
    {
     "name": "stdout",
     "output_type": "stream",
     "text": [
      "Training Loss: 1325.1401. L1: 762.3333. L2: 553.8879. L3 (not used): 771.8831. Style Loss: 8.9189\n",
      "-----------------------------------\n",
      "Epoch 416\n",
      "-----------------------------------\n"
     ]
    },
    {
     "name": "stderr",
     "output_type": "stream",
     "text": [
      "Training: 100%|##########| 1/1 [00:01<00:00,  1.63s/it, loss=1.32e+3]\n"
     ]
    },
    {
     "name": "stdout",
     "output_type": "stream",
     "text": [
      "Training Loss: 1324.6130. L1: 762.4047. L2: 553.6049. L3 (not used): 759.6700. Style Loss: 8.6034\n",
      "-----------------------------------\n",
      "Epoch 417\n",
      "-----------------------------------\n"
     ]
    },
    {
     "name": "stderr",
     "output_type": "stream",
     "text": [
      "Training: 100%|##########| 1/1 [00:01<00:00,  1.68s/it, loss=1.32e+3]\n"
     ]
    },
    {
     "name": "stdout",
     "output_type": "stream",
     "text": [
      "Training Loss: 1324.2150. L1: 762.4513. L2: 553.2861. L3 (not used): 768.1447. Style Loss: 8.4776\n",
      "-----------------------------------\n",
      "Epoch 418\n",
      "-----------------------------------\n"
     ]
    },
    {
     "name": "stderr",
     "output_type": "stream",
     "text": [
      "Training: 100%|##########| 1/1 [00:01<00:00,  1.64s/it, loss=1.32e+3]\n"
     ]
    },
    {
     "name": "stdout",
     "output_type": "stream",
     "text": [
      "Training Loss: 1323.7466. L1: 762.3170. L2: 552.8510. L3 (not used): 758.8054. Style Loss: 8.5786\n",
      "-----------------------------------\n",
      "Epoch 419\n",
      "-----------------------------------\n"
     ]
    },
    {
     "name": "stderr",
     "output_type": "stream",
     "text": [
      "Training: 100%|##########| 1/1 [00:01<00:00,  1.63s/it, loss=1.32e+3]\n"
     ]
    },
    {
     "name": "stdout",
     "output_type": "stream",
     "text": [
      "Training Loss: 1323.3271. L1: 762.2145. L2: 552.4215. L3 (not used): 756.6444. Style Loss: 8.6912\n",
      "-----------------------------------\n",
      "Epoch 420\n",
      "-----------------------------------\n"
     ]
    },
    {
     "name": "stderr",
     "output_type": "stream",
     "text": [
      "Training: 100%|##########| 1/1 [00:01<00:00,  1.62s/it, loss=1.32e+3]\n"
     ]
    },
    {
     "name": "stdout",
     "output_type": "stream",
     "text": [
      "Training Loss: 1322.8411. L1: 762.2393. L2: 552.0822. L3 (not used): 761.5435. Style Loss: 8.5195\n",
      "-----------------------------------\n",
      "Epoch 421\n",
      "-----------------------------------\n"
     ]
    },
    {
     "name": "stderr",
     "output_type": "stream",
     "text": [
      "Training: 100%|##########| 1/1 [00:01<00:00,  1.63s/it, loss=1.32e+3]\n"
     ]
    },
    {
     "name": "stdout",
     "output_type": "stream",
     "text": [
      "Training Loss: 1322.4762. L1: 762.2050. L2: 551.7743. L3 (not used): 758.7069. Style Loss: 8.4970\n",
      "-----------------------------------\n",
      "Epoch 422\n",
      "-----------------------------------\n"
     ]
    },
    {
     "name": "stderr",
     "output_type": "stream",
     "text": [
      "Training: 100%|##########| 1/1 [00:01<00:00,  1.63s/it, loss=1.32e+3]\n"
     ]
    },
    {
     "name": "stdout",
     "output_type": "stream",
     "text": [
      "Training Loss: 1321.9998. L1: 762.1107. L2: 551.3310. L3 (not used): 745.9942. Style Loss: 8.5581\n",
      "-----------------------------------\n",
      "Epoch 423\n",
      "-----------------------------------\n"
     ]
    },
    {
     "name": "stderr",
     "output_type": "stream",
     "text": [
      "Training: 100%|##########| 1/1 [00:01<00:00,  1.63s/it, loss=1.32e+3]\n"
     ]
    },
    {
     "name": "stdout",
     "output_type": "stream",
     "text": [
      "Training Loss: 1321.6224. L1: 762.0791. L2: 551.0031. L3 (not used): 764.5833. Style Loss: 8.5402\n",
      "-----------------------------------\n",
      "Epoch 424\n",
      "-----------------------------------\n"
     ]
    },
    {
     "name": "stderr",
     "output_type": "stream",
     "text": [
      "Training: 100%|##########| 1/1 [00:01<00:00,  1.65s/it, loss=1.32e+3]\n"
     ]
    },
    {
     "name": "stdout",
     "output_type": "stream",
     "text": [
      "Training Loss: 1321.1554. L1: 762.0635. L2: 550.6262. L3 (not used): 750.0073. Style Loss: 8.4657\n",
      "-----------------------------------\n",
      "Epoch 425\n",
      "-----------------------------------\n"
     ]
    },
    {
     "name": "stderr",
     "output_type": "stream",
     "text": [
      "Training: 100%|##########| 1/1 [00:01<00:00,  1.64s/it, loss=1.32e+3]\n"
     ]
    },
    {
     "name": "stdout",
     "output_type": "stream",
     "text": [
      "Training Loss: 1320.7759. L1: 762.0464. L2: 550.3226. L3 (not used): 747.7488. Style Loss: 8.4069\n",
      "-----------------------------------\n",
      "Epoch 426\n",
      "-----------------------------------\n"
     ]
    },
    {
     "name": "stderr",
     "output_type": "stream",
     "text": [
      "Training: 100%|##########| 1/1 [00:01<00:00,  1.63s/it, loss=1.32e+3]\n"
     ]
    },
    {
     "name": "stdout",
     "output_type": "stream",
     "text": [
      "Training Loss: 1320.3511. L1: 761.9509. L2: 549.9105. L3 (not used): 760.3710. Style Loss: 8.4897\n",
      "-----------------------------------\n",
      "Epoch 427\n",
      "-----------------------------------\n"
     ]
    },
    {
     "name": "stderr",
     "output_type": "stream",
     "text": [
      "Training: 100%|##########| 1/1 [00:01<00:00,  1.63s/it, loss=1.32e+3]\n"
     ]
    },
    {
     "name": "stdout",
     "output_type": "stream",
     "text": [
      "Training Loss: 1319.9800. L1: 761.9057. L2: 549.5894. L3 (not used): 748.2858. Style Loss: 8.4849\n",
      "-----------------------------------\n",
      "Epoch 428\n",
      "-----------------------------------\n"
     ]
    },
    {
     "name": "stderr",
     "output_type": "stream",
     "text": [
      "Training: 100%|##########| 1/1 [00:01<00:00,  1.63s/it, loss=1.32e+3]\n"
     ]
    },
    {
     "name": "stdout",
     "output_type": "stream",
     "text": [
      "Training Loss: 1319.8159. L1: 761.9053. L2: 549.5106. L3 (not used): 750.2709. Style Loss: 8.3999\n",
      "-----------------------------------\n",
      "Epoch 429\n",
      "-----------------------------------\n"
     ]
    },
    {
     "name": "stderr",
     "output_type": "stream",
     "text": [
      "Training: 100%|##########| 1/1 [00:01<00:00,  1.63s/it, loss=1.32e+3]\n"
     ]
    },
    {
     "name": "stdout",
     "output_type": "stream",
     "text": [
      "Training Loss: 1320.0288. L1: 761.8691. L2: 549.7701. L3 (not used): 770.1831. Style Loss: 8.3896\n",
      "-----------------------------------\n",
      "Epoch 430\n",
      "-----------------------------------\n"
     ]
    },
    {
     "name": "stderr",
     "output_type": "stream",
     "text": [
      "Training: 100%|##########| 1/1 [00:01<00:00,  1.63s/it, loss=1.32e+3]\n"
     ]
    },
    {
     "name": "stdout",
     "output_type": "stream",
     "text": [
      "Training Loss: 1322.4365. L1: 761.7524. L2: 552.1258. L3 (not used): 773.2674. Style Loss: 8.5583\n",
      "-----------------------------------\n",
      "Epoch 431\n",
      "-----------------------------------\n"
     ]
    },
    {
     "name": "stderr",
     "output_type": "stream",
     "text": [
      "Training: 100%|##########| 1/1 [00:01<00:00,  1.64s/it, loss=1.32e+3]\n"
     ]
    },
    {
     "name": "stdout",
     "output_type": "stream",
     "text": [
      "Training Loss: 1320.8477. L1: 761.8017. L2: 550.6509. L3 (not used): 802.1270. Style Loss: 8.3951\n",
      "-----------------------------------\n",
      "Epoch 432\n",
      "-----------------------------------\n"
     ]
    },
    {
     "name": "stderr",
     "output_type": "stream",
     "text": [
      "Training: 100%|##########| 1/1 [00:01<00:00,  1.65s/it, loss=1.32e+3]\n"
     ]
    },
    {
     "name": "stdout",
     "output_type": "stream",
     "text": [
      "Training Loss: 1321.3879. L1: 761.7190. L2: 551.1380. L3 (not used): 779.4722. Style Loss: 8.5310\n",
      "-----------------------------------\n",
      "Epoch 433\n",
      "-----------------------------------\n"
     ]
    },
    {
     "name": "stderr",
     "output_type": "stream",
     "text": [
      "Training: 100%|##########| 1/1 [00:01<00:00,  1.63s/it, loss=1.32e+3]\n"
     ]
    },
    {
     "name": "stdout",
     "output_type": "stream",
     "text": [
      "Training Loss: 1321.4996. L1: 761.6465. L2: 551.1068. L3 (not used): 799.0541. Style Loss: 8.7465\n",
      "-----------------------------------\n",
      "Epoch 434\n",
      "-----------------------------------\n"
     ]
    },
    {
     "name": "stderr",
     "output_type": "stream",
     "text": [
      "Training: 100%|##########| 1/1 [00:01<00:00,  1.64s/it, loss=1.32e+3]\n"
     ]
    },
    {
     "name": "stdout",
     "output_type": "stream",
     "text": [
      "Training Loss: 1321.1703. L1: 761.8924. L2: 550.5502. L3 (not used): 794.4004. Style Loss: 8.7277\n",
      "-----------------------------------\n",
      "Epoch 435\n",
      "-----------------------------------\n"
     ]
    },
    {
     "name": "stderr",
     "output_type": "stream",
     "text": [
      "Training: 100%|##########| 1/1 [00:01<00:00,  1.63s/it, loss=1.32e+3]\n"
     ]
    },
    {
     "name": "stdout",
     "output_type": "stream",
     "text": [
      "Training Loss: 1319.6902. L1: 761.4464. L2: 549.1273. L3 (not used): 760.3630. Style Loss: 9.1164\n",
      "-----------------------------------\n",
      "Epoch 436\n",
      "-----------------------------------\n"
     ]
    },
    {
     "name": "stderr",
     "output_type": "stream",
     "text": [
      "Training: 100%|##########| 1/1 [00:01<00:00,  1.64s/it, loss=1.32e+3]\n"
     ]
    },
    {
     "name": "stdout",
     "output_type": "stream",
     "text": [
      "Training Loss: 1319.7339. L1: 761.3356. L2: 548.7114. L3 (not used): 758.8062. Style Loss: 9.6869\n",
      "-----------------------------------\n",
      "Epoch 437\n",
      "-----------------------------------\n"
     ]
    },
    {
     "name": "stderr",
     "output_type": "stream",
     "text": [
      "Training: 100%|##########| 1/1 [00:01<00:00,  1.64s/it, loss=1.32e+3]\n"
     ]
    },
    {
     "name": "stdout",
     "output_type": "stream",
     "text": [
      "Training Loss: 1318.3026. L1: 761.7490. L2: 547.8470. L3 (not used): 785.8431. Style Loss: 8.7066\n",
      "-----------------------------------\n",
      "Epoch 438\n",
      "-----------------------------------\n"
     ]
    },
    {
     "name": "stderr",
     "output_type": "stream",
     "text": [
      "Training: 100%|##########| 1/1 [00:01<00:00,  1.63s/it, loss=1.32e+3]\n"
     ]
    },
    {
     "name": "stdout",
     "output_type": "stream",
     "text": [
      "Training Loss: 1318.0240. L1: 761.6707. L2: 547.5689. L3 (not used): 736.4040. Style Loss: 8.7846\n",
      "-----------------------------------\n",
      "Epoch 439\n",
      "-----------------------------------\n"
     ]
    },
    {
     "name": "stderr",
     "output_type": "stream",
     "text": [
      "Training: 100%|##########| 1/1 [00:01<00:00,  1.65s/it, loss=1.32e+3]\n"
     ]
    },
    {
     "name": "stdout",
     "output_type": "stream",
     "text": [
      "Training Loss: 1317.4412. L1: 761.3802. L2: 546.8190. L3 (not used): 736.1814. Style Loss: 9.2419\n",
      "-----------------------------------\n",
      "Epoch 440\n",
      "-----------------------------------\n"
     ]
    },
    {
     "name": "stderr",
     "output_type": "stream",
     "text": [
      "Training: 100%|##########| 1/1 [00:01<00:00,  1.66s/it, loss=1.32e+3]\n"
     ]
    },
    {
     "name": "stdout",
     "output_type": "stream",
     "text": [
      "Training Loss: 1316.4950. L1: 761.3831. L2: 546.1710. L3 (not used): 763.1020. Style Loss: 8.9409\n",
      "-----------------------------------\n",
      "Epoch 441\n",
      "-----------------------------------\n"
     ]
    },
    {
     "name": "stderr",
     "output_type": "stream",
     "text": [
      "Training: 100%|##########| 1/1 [00:01<00:00,  1.67s/it, loss=1.32e+3]\n"
     ]
    },
    {
     "name": "stdout",
     "output_type": "stream",
     "text": [
      "Training Loss: 1316.4343. L1: 761.5508. L2: 546.1688. L3 (not used): 746.1059. Style Loss: 8.7148\n",
      "-----------------------------------\n",
      "Epoch 442\n",
      "-----------------------------------\n"
     ]
    },
    {
     "name": "stderr",
     "output_type": "stream",
     "text": [
      "Training: 100%|##########| 1/1 [00:01<00:00,  1.65s/it, loss=1.32e+3]\n"
     ]
    },
    {
     "name": "stdout",
     "output_type": "stream",
     "text": [
      "Training Loss: 1315.5092. L1: 761.4516. L2: 545.4878. L3 (not used): 723.1608. Style Loss: 8.5698\n",
      "-----------------------------------\n",
      "Epoch 443\n",
      "-----------------------------------\n"
     ]
    },
    {
     "name": "stderr",
     "output_type": "stream",
     "text": [
      "Training: 100%|##########| 1/1 [00:01<00:00,  1.64s/it, loss=1.32e+3]\n"
     ]
    },
    {
     "name": "stdout",
     "output_type": "stream",
     "text": [
      "Training Loss: 1315.2540. L1: 761.2612. L2: 544.9464. L3 (not used): 717.4940. Style Loss: 9.0466\n",
      "-----------------------------------\n",
      "Epoch 444\n",
      "-----------------------------------\n"
     ]
    },
    {
     "name": "stderr",
     "output_type": "stream",
     "text": [
      "Training: 100%|##########| 1/1 [00:01<00:00,  1.64s/it, loss=1.31e+3]\n"
     ]
    },
    {
     "name": "stdout",
     "output_type": "stream",
     "text": [
      "Training Loss: 1314.6998. L1: 761.2379. L2: 544.6301. L3 (not used): 740.4256. Style Loss: 8.8319\n",
      "-----------------------------------\n",
      "Epoch 445\n",
      "-----------------------------------\n"
     ]
    },
    {
     "name": "stderr",
     "output_type": "stream",
     "text": [
      "Training: 100%|##########| 1/1 [00:01<00:00,  1.65s/it, loss=1.31e+3]\n"
     ]
    },
    {
     "name": "stdout",
     "output_type": "stream",
     "text": [
      "Training Loss: 1314.1823. L1: 761.3312. L2: 544.2382. L3 (not used): 744.8813. Style Loss: 8.6129\n",
      "-----------------------------------\n",
      "Epoch 446\n",
      "-----------------------------------\n"
     ]
    },
    {
     "name": "stderr",
     "output_type": "stream",
     "text": [
      "Training: 100%|##########| 1/1 [00:01<00:00,  1.68s/it, loss=1.31e+3]\n"
     ]
    },
    {
     "name": "stdout",
     "output_type": "stream",
     "text": [
      "Training Loss: 1313.7424. L1: 761.2841. L2: 543.8104. L3 (not used): 745.7533. Style Loss: 8.6480\n",
      "-----------------------------------\n",
      "Epoch 447\n",
      "-----------------------------------\n"
     ]
    },
    {
     "name": "stderr",
     "output_type": "stream",
     "text": [
      "Training: 100%|##########| 1/1 [00:01<00:00,  1.63s/it, loss=1.31e+3]\n"
     ]
    },
    {
     "name": "stdout",
     "output_type": "stream",
     "text": [
      "Training Loss: 1313.2970. L1: 761.1513. L2: 543.4100. L3 (not used): 744.5977. Style Loss: 8.7357\n",
      "-----------------------------------\n",
      "Epoch 448\n",
      "-----------------------------------\n"
     ]
    },
    {
     "name": "stderr",
     "output_type": "stream",
     "text": [
      "Training: 100%|##########| 1/1 [00:01<00:00,  1.66s/it, loss=1.31e+3]\n"
     ]
    },
    {
     "name": "stdout",
     "output_type": "stream",
     "text": [
      "Training Loss: 1312.7942. L1: 761.1505. L2: 542.9528. L3 (not used): 725.4435. Style Loss: 8.6909\n",
      "-----------------------------------\n",
      "Epoch 449\n",
      "-----------------------------------\n"
     ]
    },
    {
     "name": "stderr",
     "output_type": "stream",
     "text": [
      "Training: 100%|##########| 1/1 [00:01<00:00,  1.64s/it, loss=1.31e+3]\n"
     ]
    },
    {
     "name": "stdout",
     "output_type": "stream",
     "text": [
      "Training Loss: 1312.3254. L1: 761.2014. L2: 542.6439. L3 (not used): 716.5978. Style Loss: 8.4803\n",
      "-----------------------------------\n",
      "Epoch 450\n",
      "-----------------------------------\n"
     ]
    },
    {
     "name": "stderr",
     "output_type": "stream",
     "text": [
      "Training: 100%|##########| 1/1 [00:01<00:00,  1.63s/it, loss=1.31e+3]\n"
     ]
    },
    {
     "name": "stdout",
     "output_type": "stream",
     "text": [
      "Training Loss: 1311.9816. L1: 761.1491. L2: 542.3477. L3 (not used): 742.1798. Style Loss: 8.4848\n",
      "-----------------------------------\n",
      "Epoch 451\n",
      "-----------------------------------\n"
     ]
    },
    {
     "name": "stderr",
     "output_type": "stream",
     "text": [
      "Training: 100%|##########| 1/1 [00:01<00:00,  1.63s/it, loss=1.31e+3]\n"
     ]
    },
    {
     "name": "stdout",
     "output_type": "stream",
     "text": [
      "Training Loss: 1311.4561. L1: 761.0430. L2: 541.8317. L3 (not used): 749.6975. Style Loss: 8.5813\n",
      "-----------------------------------\n",
      "Epoch 452\n",
      "-----------------------------------\n"
     ]
    },
    {
     "name": "stderr",
     "output_type": "stream",
     "text": [
      "Training: 100%|##########| 1/1 [00:01<00:00,  1.64s/it, loss=1.31e+3]\n"
     ]
    },
    {
     "name": "stdout",
     "output_type": "stream",
     "text": [
      "Training Loss: 1311.0372. L1: 761.0273. L2: 541.4996. L3 (not used): 734.2616. Style Loss: 8.5104\n",
      "-----------------------------------\n",
      "Epoch 453\n",
      "-----------------------------------\n"
     ]
    },
    {
     "name": "stderr",
     "output_type": "stream",
     "text": [
      "Training: 100%|##########| 1/1 [00:01<00:00,  1.63s/it, loss=1.31e+3]\n"
     ]
    },
    {
     "name": "stdout",
     "output_type": "stream",
     "text": [
      "Training Loss: 1310.6305. L1: 761.0539. L2: 541.1713. L3 (not used): 737.2387. Style Loss: 8.4054\n",
      "-----------------------------------\n",
      "Epoch 454\n",
      "-----------------------------------\n"
     ]
    },
    {
     "name": "stderr",
     "output_type": "stream",
     "text": [
      "Training: 100%|##########| 1/1 [00:01<00:00,  1.64s/it, loss=1.31e+3]\n"
     ]
    },
    {
     "name": "stdout",
     "output_type": "stream",
     "text": [
      "Training Loss: 1310.2166. L1: 761.0049. L2: 540.8217. L3 (not used): 739.8170. Style Loss: 8.3898\n",
      "-----------------------------------\n",
      "Epoch 455\n",
      "-----------------------------------\n"
     ]
    },
    {
     "name": "stderr",
     "output_type": "stream",
     "text": [
      "Training: 100%|##########| 1/1 [00:01<00:00,  1.64s/it, loss=1.31e+3]\n"
     ]
    },
    {
     "name": "stdout",
     "output_type": "stream",
     "text": [
      "Training Loss: 1309.7217. L1: 760.9189. L2: 540.3473. L3 (not used): 725.1353. Style Loss: 8.4555\n",
      "-----------------------------------\n",
      "Epoch 456\n",
      "-----------------------------------\n"
     ]
    },
    {
     "name": "stderr",
     "output_type": "stream",
     "text": [
      "Training: 100%|##########| 1/1 [00:01<00:00,  1.63s/it, loss=1.31e+3]\n"
     ]
    },
    {
     "name": "stdout",
     "output_type": "stream",
     "text": [
      "Training Loss: 1309.3911. L1: 760.8833. L2: 540.0613. L3 (not used): 724.4202. Style Loss: 8.4466\n",
      "-----------------------------------\n",
      "Epoch 457\n",
      "-----------------------------------\n"
     ]
    },
    {
     "name": "stderr",
     "output_type": "stream",
     "text": [
      "Training: 100%|##########| 1/1 [00:01<00:00,  1.64s/it, loss=1.31e+3]\n"
     ]
    },
    {
     "name": "stdout",
     "output_type": "stream",
     "text": [
      "Training Loss: 1308.9453. L1: 760.8815. L2: 539.7106. L3 (not used): 736.0520. Style Loss: 8.3533\n",
      "-----------------------------------\n",
      "Epoch 458\n",
      "-----------------------------------\n"
     ]
    },
    {
     "name": "stderr",
     "output_type": "stream",
     "text": [
      "Training: 100%|##########| 1/1 [00:01<00:00,  1.64s/it, loss=1.31e+3]\n"
     ]
    },
    {
     "name": "stdout",
     "output_type": "stream",
     "text": [
      "Training Loss: 1308.5172. L1: 760.8569. L2: 539.3262. L3 (not used): 734.5217. Style Loss: 8.3340\n",
      "-----------------------------------\n",
      "Epoch 459\n",
      "-----------------------------------\n"
     ]
    },
    {
     "name": "stderr",
     "output_type": "stream",
     "text": [
      "Training: 100%|##########| 1/1 [00:01<00:00,  1.63s/it, loss=1.31e+3]\n"
     ]
    },
    {
     "name": "stdout",
     "output_type": "stream",
     "text": [
      "Training Loss: 1308.1517. L1: 760.8089. L2: 539.0030. L3 (not used): 734.0021. Style Loss: 8.3399\n",
      "-----------------------------------\n",
      "Epoch 460\n",
      "-----------------------------------\n"
     ]
    },
    {
     "name": "stderr",
     "output_type": "stream",
     "text": [
      "Training: 100%|##########| 1/1 [00:01<00:00,  1.63s/it, loss=1.31e+3]\n"
     ]
    },
    {
     "name": "stdout",
     "output_type": "stream",
     "text": [
      "Training Loss: 1307.7256. L1: 760.7607. L2: 538.6350. L3 (not used): 733.6036. Style Loss: 8.3298\n",
      "-----------------------------------\n",
      "Epoch 461\n",
      "-----------------------------------\n"
     ]
    },
    {
     "name": "stderr",
     "output_type": "stream",
     "text": [
      "Training: 100%|##########| 1/1 [00:01<00:00,  1.63s/it, loss=1.31e+3]\n"
     ]
    },
    {
     "name": "stdout",
     "output_type": "stream",
     "text": [
      "Training Loss: 1307.3247. L1: 760.7167. L2: 538.2657. L3 (not used): 724.0339. Style Loss: 8.3423\n",
      "-----------------------------------\n",
      "Epoch 462\n",
      "-----------------------------------\n"
     ]
    },
    {
     "name": "stderr",
     "output_type": "stream",
     "text": [
      "Training: 100%|##########| 1/1 [00:01<00:00,  1.63s/it, loss=1.31e+3]\n"
     ]
    },
    {
     "name": "stdout",
     "output_type": "stream",
     "text": [
      "Training Loss: 1306.9355. L1: 760.6744. L2: 537.9370. L3 (not used): 719.6277. Style Loss: 8.3242\n",
      "-----------------------------------\n",
      "Epoch 463\n",
      "-----------------------------------\n"
     ]
    },
    {
     "name": "stderr",
     "output_type": "stream",
     "text": [
      "Training: 100%|##########| 1/1 [00:01<00:00,  1.65s/it, loss=1.31e+3]\n"
     ]
    },
    {
     "name": "stdout",
     "output_type": "stream",
     "text": [
      "Training Loss: 1306.5339. L1: 760.6672. L2: 537.5937. L3 (not used): 732.8935. Style Loss: 8.2730\n",
      "-----------------------------------\n",
      "Epoch 464\n",
      "-----------------------------------\n"
     ]
    },
    {
     "name": "stderr",
     "output_type": "stream",
     "text": [
      "Training: 100%|##########| 1/1 [00:01<00:00,  1.64s/it, loss=1.31e+3]\n"
     ]
    },
    {
     "name": "stdout",
     "output_type": "stream",
     "text": [
      "Training Loss: 1306.1440. L1: 760.6509. L2: 537.2585. L3 (not used): 737.2802. Style Loss: 8.2346\n",
      "-----------------------------------\n",
      "Epoch 465\n",
      "-----------------------------------\n"
     ]
    },
    {
     "name": "stderr",
     "output_type": "stream",
     "text": [
      "Training: 100%|##########| 1/1 [00:01<00:00,  1.63s/it, loss=1.31e+3]\n"
     ]
    },
    {
     "name": "stdout",
     "output_type": "stream",
     "text": [
      "Training Loss: 1305.7568. L1: 760.5870. L2: 536.9006. L3 (not used): 728.3829. Style Loss: 8.2691\n",
      "-----------------------------------\n",
      "Epoch 466\n",
      "-----------------------------------\n"
     ]
    },
    {
     "name": "stderr",
     "output_type": "stream",
     "text": [
      "Training: 100%|##########| 1/1 [00:01<00:00,  1.62s/it, loss=1.31e+3]\n"
     ]
    },
    {
     "name": "stdout",
     "output_type": "stream",
     "text": [
      "Training Loss: 1305.3613. L1: 760.5355. L2: 536.5381. L3 (not used): 728.6482. Style Loss: 8.2877\n",
      "-----------------------------------\n",
      "Epoch 467\n",
      "-----------------------------------\n"
     ]
    },
    {
     "name": "stderr",
     "output_type": "stream",
     "text": [
      "Training: 100%|##########| 1/1 [00:01<00:00,  1.62s/it, loss=1.3e+3]\n"
     ]
    },
    {
     "name": "stdout",
     "output_type": "stream",
     "text": [
      "Training Loss: 1304.9828. L1: 760.5277. L2: 536.2287. L3 (not used): 729.0301. Style Loss: 8.2264\n",
      "-----------------------------------\n",
      "Epoch 468\n",
      "-----------------------------------\n"
     ]
    },
    {
     "name": "stderr",
     "output_type": "stream",
     "text": [
      "Training: 100%|##########| 1/1 [00:01<00:00,  1.63s/it, loss=1.3e+3]\n"
     ]
    },
    {
     "name": "stdout",
     "output_type": "stream",
     "text": [
      "Training Loss: 1304.5925. L1: 760.4880. L2: 535.8732. L3 (not used): 729.3931. Style Loss: 8.2314\n",
      "-----------------------------------\n",
      "Epoch 469\n",
      "-----------------------------------\n"
     ]
    },
    {
     "name": "stderr",
     "output_type": "stream",
     "text": [
      "Training: 100%|##########| 1/1 [00:01<00:00,  1.63s/it, loss=1.3e+3]\n"
     ]
    },
    {
     "name": "stdout",
     "output_type": "stream",
     "text": [
      "Training Loss: 1304.2094. L1: 760.4503. L2: 535.5358. L3 (not used): 733.2217. Style Loss: 8.2232\n",
      "-----------------------------------\n",
      "Epoch 470\n",
      "-----------------------------------\n"
     ]
    },
    {
     "name": "stderr",
     "output_type": "stream",
     "text": [
      "Training: 100%|##########| 1/1 [00:01<00:00,  1.64s/it, loss=1.3e+3]\n"
     ]
    },
    {
     "name": "stdout",
     "output_type": "stream",
     "text": [
      "Training Loss: 1303.8286. L1: 760.4451. L2: 535.2213. L3 (not used): 726.3009. Style Loss: 8.1624\n",
      "-----------------------------------\n",
      "Epoch 471\n",
      "-----------------------------------\n"
     ]
    },
    {
     "name": "stderr",
     "output_type": "stream",
     "text": [
      "Training: 100%|##########| 1/1 [00:01<00:00,  1.63s/it, loss=1.3e+3]\n"
     ]
    },
    {
     "name": "stdout",
     "output_type": "stream",
     "text": [
      "Training Loss: 1303.4407. L1: 760.3858. L2: 534.8633. L3 (not used): 723.4693. Style Loss: 8.1916\n",
      "-----------------------------------\n",
      "Epoch 472\n",
      "-----------------------------------\n"
     ]
    },
    {
     "name": "stderr",
     "output_type": "stream",
     "text": [
      "Training: 100%|##########| 1/1 [00:01<00:00,  1.62s/it, loss=1.3e+3]\n"
     ]
    },
    {
     "name": "stdout",
     "output_type": "stream",
     "text": [
      "Training Loss: 1303.0723. L1: 760.3416. L2: 534.5328. L3 (not used): 729.7177. Style Loss: 8.1978\n",
      "-----------------------------------\n",
      "Epoch 473\n",
      "-----------------------------------\n"
     ]
    },
    {
     "name": "stderr",
     "output_type": "stream",
     "text": [
      "Training: 100%|##########| 1/1 [00:01<00:00,  1.64s/it, loss=1.3e+3]\n"
     ]
    },
    {
     "name": "stdout",
     "output_type": "stream",
     "text": [
      "Training Loss: 1302.6884. L1: 760.3410. L2: 534.2118. L3 (not used): 728.7353. Style Loss: 8.1356\n",
      "-----------------------------------\n",
      "Epoch 474\n",
      "-----------------------------------\n"
     ]
    },
    {
     "name": "stderr",
     "output_type": "stream",
     "text": [
      "Training: 100%|##########| 1/1 [00:01<00:00,  1.62s/it, loss=1.3e+3]\n"
     ]
    },
    {
     "name": "stdout",
     "output_type": "stream",
     "text": [
      "Training Loss: 1302.3108. L1: 760.2915. L2: 533.8691. L3 (not used): 727.8530. Style Loss: 8.1502\n",
      "-----------------------------------\n",
      "Epoch 475\n",
      "-----------------------------------\n"
     ]
    },
    {
     "name": "stderr",
     "output_type": "stream",
     "text": [
      "Training: 100%|##########| 1/1 [00:01<00:00,  1.64s/it, loss=1.3e+3]\n"
     ]
    },
    {
     "name": "stdout",
     "output_type": "stream",
     "text": [
      "Training Loss: 1301.9381. L1: 760.2812. L2: 533.5567. L3 (not used): 729.2140. Style Loss: 8.1003\n",
      "-----------------------------------\n",
      "Epoch 476\n",
      "-----------------------------------\n"
     ]
    },
    {
     "name": "stderr",
     "output_type": "stream",
     "text": [
      "Training: 100%|##########| 1/1 [00:01<00:00,  1.64s/it, loss=1.3e+3]\n"
     ]
    },
    {
     "name": "stdout",
     "output_type": "stream",
     "text": [
      "Training Loss: 1301.5564. L1: 760.2304. L2: 533.2075. L3 (not used): 729.0137. Style Loss: 8.1186\n",
      "-----------------------------------\n",
      "Epoch 477\n",
      "-----------------------------------\n"
     ]
    },
    {
     "name": "stderr",
     "output_type": "stream",
     "text": [
      "Training: 100%|##########| 1/1 [00:01<00:00,  1.63s/it, loss=1.3e+3]\n"
     ]
    },
    {
     "name": "stdout",
     "output_type": "stream",
     "text": [
      "Training Loss: 1301.1862. L1: 760.1888. L2: 532.8744. L3 (not used): 728.2287. Style Loss: 8.1230\n",
      "-----------------------------------\n",
      "Epoch 478\n",
      "-----------------------------------\n"
     ]
    },
    {
     "name": "stderr",
     "output_type": "stream",
     "text": [
      "Training: 100%|##########| 1/1 [00:01<00:00,  1.63s/it, loss=1.3e+3]\n"
     ]
    },
    {
     "name": "stdout",
     "output_type": "stream",
     "text": [
      "Training Loss: 1300.8130. L1: 760.1773. L2: 532.5599. L3 (not used): 730.2661. Style Loss: 8.0759\n",
      "-----------------------------------\n",
      "Epoch 479\n",
      "-----------------------------------\n"
     ]
    },
    {
     "name": "stderr",
     "output_type": "stream",
     "text": [
      "Training: 100%|##########| 1/1 [00:01<00:00,  1.64s/it, loss=1.3e+3]\n"
     ]
    },
    {
     "name": "stdout",
     "output_type": "stream",
     "text": [
      "Training Loss: 1300.4456. L1: 760.1197. L2: 532.2134. L3 (not used): 728.4820. Style Loss: 8.1125\n",
      "-----------------------------------\n",
      "Epoch 480\n",
      "-----------------------------------\n"
     ]
    },
    {
     "name": "stderr",
     "output_type": "stream",
     "text": [
      "Training: 100%|##########| 1/1 [00:01<00:00,  1.64s/it, loss=1.3e+3]\n"
     ]
    },
    {
     "name": "stdout",
     "output_type": "stream",
     "text": [
      "Training Loss: 1300.0739. L1: 760.1400. L2: 531.9222. L3 (not used): 728.8674. Style Loss: 8.0116\n",
      "-----------------------------------\n",
      "Epoch 481\n",
      "-----------------------------------\n"
     ]
    },
    {
     "name": "stderr",
     "output_type": "stream",
     "text": [
      "Training: 100%|##########| 1/1 [00:01<00:00,  1.62s/it, loss=1.3e+3]\n"
     ]
    },
    {
     "name": "stdout",
     "output_type": "stream",
     "text": [
      "Training Loss: 1299.7112. L1: 760.0348. L2: 531.5430. L3 (not used): 731.0800. Style Loss: 8.1334\n",
      "-----------------------------------\n",
      "Epoch 482\n",
      "-----------------------------------\n"
     ]
    },
    {
     "name": "stderr",
     "output_type": "stream",
     "text": [
      "Training: 100%|##########| 1/1 [00:01<00:00,  1.62s/it, loss=1.3e+3]\n"
     ]
    },
    {
     "name": "stdout",
     "output_type": "stream",
     "text": [
      "Training Loss: 1299.3512. L1: 760.0749. L2: 531.2748. L3 (not used): 726.3508. Style Loss: 8.0016\n",
      "-----------------------------------\n",
      "Epoch 483\n",
      "-----------------------------------\n"
     ]
    },
    {
     "name": "stderr",
     "output_type": "stream",
     "text": [
      "Training: 100%|##########| 1/1 [00:01<00:00,  1.64s/it, loss=1.3e+3]\n"
     ]
    },
    {
     "name": "stdout",
     "output_type": "stream",
     "text": [
      "Training Loss: 1298.9890. L1: 759.9553. L2: 530.8811. L3 (not used): 732.0768. Style Loss: 8.1526\n",
      "-----------------------------------\n",
      "Epoch 484\n",
      "-----------------------------------\n"
     ]
    },
    {
     "name": "stderr",
     "output_type": "stream",
     "text": [
      "Training: 100%|##########| 1/1 [00:01<00:00,  1.65s/it, loss=1.3e+3]\n"
     ]
    },
    {
     "name": "stdout",
     "output_type": "stream",
     "text": [
      "Training Loss: 1298.6504. L1: 760.0350. L2: 530.6696. L3 (not used): 726.2384. Style Loss: 7.9459\n",
      "-----------------------------------\n",
      "Epoch 485\n",
      "-----------------------------------\n"
     ]
    },
    {
     "name": "stderr",
     "output_type": "stream",
     "text": [
      "Training: 100%|##########| 1/1 [00:01<00:00,  1.63s/it, loss=1.3e+3]\n"
     ]
    },
    {
     "name": "stdout",
     "output_type": "stream",
     "text": [
      "Training Loss: 1298.3932. L1: 759.8682. L2: 530.3385. L3 (not used): 743.8488. Style Loss: 8.1865\n",
      "-----------------------------------\n",
      "Epoch 486\n",
      "-----------------------------------\n"
     ]
    },
    {
     "name": "stderr",
     "output_type": "stream",
     "text": [
      "Training: 100%|##########| 1/1 [00:01<00:00,  1.63s/it, loss=1.3e+3]\n"
     ]
    },
    {
     "name": "stdout",
     "output_type": "stream",
     "text": [
      "Training Loss: 1298.3977. L1: 759.9783. L2: 530.4825. L3 (not used): 737.8918. Style Loss: 7.9369\n",
      "-----------------------------------\n",
      "Epoch 487\n",
      "-----------------------------------\n"
     ]
    },
    {
     "name": "stderr",
     "output_type": "stream",
     "text": [
      "Training: 100%|##########| 1/1 [00:01<00:00,  1.62s/it, loss=1.3e+3]\n"
     ]
    },
    {
     "name": "stdout",
     "output_type": "stream",
     "text": [
      "Training Loss: 1299.2947. L1: 759.8064. L2: 531.2838. L3 (not used): 817.0139. Style Loss: 8.2045\n",
      "-----------------------------------\n",
      "Epoch 488\n",
      "-----------------------------------\n"
     ]
    },
    {
     "name": "stderr",
     "output_type": "stream",
     "text": [
      "Training: 100%|##########| 1/1 [00:01<00:00,  1.63s/it, loss=1.3e+3]\n"
     ]
    },
    {
     "name": "stdout",
     "output_type": "stream",
     "text": [
      "Training Loss: 1299.0966. L1: 759.8947. L2: 531.2120. L3 (not used): 772.1743. Style Loss: 7.9899\n",
      "-----------------------------------\n",
      "Epoch 489\n",
      "-----------------------------------\n"
     ]
    },
    {
     "name": "stderr",
     "output_type": "stream",
     "text": [
      "Training: 100%|##########| 1/1 [00:01<00:00,  1.64s/it, loss=1.3e+3]\n"
     ]
    },
    {
     "name": "stdout",
     "output_type": "stream",
     "text": [
      "Training Loss: 1297.2861. L1: 759.8109. L2: 529.4270. L3 (not used): 743.6831. Style Loss: 8.0482\n",
      "-----------------------------------\n",
      "Epoch 490\n",
      "-----------------------------------\n"
     ]
    },
    {
     "name": "stderr",
     "output_type": "stream",
     "text": [
      "Training: 100%|##########| 1/1 [00:01<00:00,  1.63s/it, loss=1.3e+3]\n"
     ]
    },
    {
     "name": "stdout",
     "output_type": "stream",
     "text": [
      "Training Loss: 1297.4125. L1: 759.6794. L2: 529.4702. L3 (not used): 744.1382. Style Loss: 8.2629\n",
      "-----------------------------------\n",
      "Epoch 491\n",
      "-----------------------------------\n"
     ]
    },
    {
     "name": "stderr",
     "output_type": "stream",
     "text": [
      "Training: 100%|##########| 1/1 [00:01<00:00,  1.64s/it, loss=1.3e+3]\n"
     ]
    },
    {
     "name": "stdout",
     "output_type": "stream",
     "text": [
      "Training Loss: 1296.8787. L1: 759.8298. L2: 529.0908. L3 (not used): 747.5530. Style Loss: 7.9581\n",
      "-----------------------------------\n",
      "Epoch 492\n",
      "-----------------------------------\n"
     ]
    },
    {
     "name": "stderr",
     "output_type": "stream",
     "text": [
      "Training: 100%|##########| 1/1 [00:01<00:00,  1.64s/it, loss=1.3e+3]\n"
     ]
    },
    {
     "name": "stdout",
     "output_type": "stream",
     "text": [
      "Training Loss: 1296.3479. L1: 759.7333. L2: 528.5771. L3 (not used): 728.1503. Style Loss: 8.0373\n",
      "-----------------------------------\n",
      "Epoch 493\n",
      "-----------------------------------\n"
     ]
    },
    {
     "name": "stderr",
     "output_type": "stream",
     "text": [
      "Training: 100%|##########| 1/1 [00:01<00:00,  1.64s/it, loss=1.3e+3]\n"
     ]
    },
    {
     "name": "stdout",
     "output_type": "stream",
     "text": [
      "Training Loss: 1296.0492. L1: 759.5950. L2: 528.2296. L3 (not used): 736.4927. Style Loss: 8.2247\n",
      "-----------------------------------\n",
      "Epoch 494\n",
      "-----------------------------------\n"
     ]
    },
    {
     "name": "stderr",
     "output_type": "stream",
     "text": [
      "Training: 100%|##########| 1/1 [00:01<00:00,  1.64s/it, loss=1.3e+3]\n"
     ]
    },
    {
     "name": "stdout",
     "output_type": "stream",
     "text": [
      "Training Loss: 1295.4971. L1: 759.6512. L2: 527.8068. L3 (not used): 737.3540. Style Loss: 8.0390\n",
      "-----------------------------------\n",
      "Epoch 495\n",
      "-----------------------------------\n"
     ]
    },
    {
     "name": "stderr",
     "output_type": "stream",
     "text": [
      "Training: 100%|##########| 1/1 [00:01<00:00,  1.62s/it, loss=1.3e+3]\n"
     ]
    },
    {
     "name": "stdout",
     "output_type": "stream",
     "text": [
      "Training Loss: 1295.2498. L1: 759.6160. L2: 527.5719. L3 (not used): 732.4730. Style Loss: 8.0619\n",
      "-----------------------------------\n",
      "Epoch 496\n",
      "-----------------------------------\n"
     ]
    },
    {
     "name": "stderr",
     "output_type": "stream",
     "text": [
      "Training: 100%|##########| 1/1 [00:01<00:00,  1.63s/it, loss=1.29e+3]\n"
     ]
    },
    {
     "name": "stdout",
     "output_type": "stream",
     "text": [
      "Training Loss: 1294.6897. L1: 759.6560. L2: 527.0964. L3 (not used): 723.1623. Style Loss: 7.9372\n",
      "-----------------------------------\n",
      "Epoch 497\n",
      "-----------------------------------\n"
     ]
    },
    {
     "name": "stderr",
     "output_type": "stream",
     "text": [
      "Training: 100%|##########| 1/1 [00:01<00:00,  1.63s/it, loss=1.29e+3]\n"
     ]
    },
    {
     "name": "stdout",
     "output_type": "stream",
     "text": [
      "Training Loss: 1294.4072. L1: 759.5128. L2: 526.7906. L3 (not used): 723.0546. Style Loss: 8.1037\n",
      "-----------------------------------\n",
      "Epoch 498\n",
      "-----------------------------------\n"
     ]
    },
    {
     "name": "stderr",
     "output_type": "stream",
     "text": [
      "Training: 100%|##########| 1/1 [00:01<00:00,  1.64s/it, loss=1.29e+3]\n"
     ]
    },
    {
     "name": "stdout",
     "output_type": "stream",
     "text": [
      "Training Loss: 1293.9629. L1: 759.5181. L2: 526.4171. L3 (not used): 729.9735. Style Loss: 8.0276\n",
      "-----------------------------------\n",
      "Epoch 499\n",
      "-----------------------------------\n"
     ]
    },
    {
     "name": "stderr",
     "output_type": "stream",
     "text": [
      "Training: 100%|##########| 1/1 [00:01<00:00,  1.64s/it, loss=1.29e+3]\n"
     ]
    },
    {
     "name": "stdout",
     "output_type": "stream",
     "text": [
      "Training Loss: 1293.5773. L1: 759.5367. L2: 526.1029. L3 (not used): 735.6621. Style Loss: 7.9376\n",
      "-----------------------------------\n",
      "Epoch 500\n",
      "-----------------------------------\n"
     ]
    },
    {
     "name": "stderr",
     "output_type": "stream",
     "text": [
      "Training: 100%|##########| 1/1 [00:01<00:00,  1.64s/it, loss=1.29e+3]\n"
     ]
    },
    {
     "name": "stdout",
     "output_type": "stream",
     "text": [
      "Training Loss: 1293.2605. L1: 759.4575. L2: 525.7806. L3 (not used): 711.8911. Style Loss: 8.0224\n"
     ]
    },
    {
     "data": {
      "image/png": "[encoded data removed]",
      "text/plain": [
       "<Figure size 640x480 with 1 Axes>"
      ]
     },
     "metadata": {},
     "output_type": "display_data"
    }
   ],
   "source": [
    "from utils import criterion\n",
    "\n",
    "# You will have to play around with this a LOT!!! For some reason, it works better on CUDA than MPS.\n",
    "STYLE_LOSS_PARAM = 100\n",
    "\n",
    "your_train_dataset = dataList\n",
    "train_loader = DataLoader(your_train_dataset, batch_size=1, shuffle=True)\n",
    "# optimizer = Adam(list(model.parameters()) + [a_G_var], lr=1e-3)\n",
    "optimizer = Adam(model.parameters(), lr=1e-4)\n",
    "# optimizer.param_groups.append({'params': a_G_var })\n",
    "scheduler = torch.optim.lr_scheduler.ReduceLROnPlateau(optimizer, 'min')\n",
    "criterion = criterion\n",
    "filename = \"training_loss_curves\"\n",
    "epochs = 500\n",
    "# device = 'cuda' if torch.cuda.is_available() else 'cpu'\n",
    "\n",
    "train_and_plot(model, randomCNN, a_S, optimizer, scheduler, criterion, train_loader, filename, epochs, device, style_loss_param=STYLE_LOSS_PARAM)"
   ]
  },
  {
   "cell_type": "code",
   "execution_count": 26,
   "metadata": {},
   "outputs": [
    {
     "name": "stdout",
     "output_type": "stream",
     "text": [
      "tensor([[5.1899e+01, 2.3913e+00, 5.4084e+01,  ..., 1.9426e+00, 2.5350e+00,\n",
      "         7.7238e+00],\n",
      "        [3.2510e+01, 6.3745e+00, 4.0584e+01,  ..., 9.0176e+00, 1.3664e+01,\n",
      "         1.0329e+01],\n",
      "        [1.6414e+01, 2.2947e+00, 1.4541e+01,  ..., 6.8699e+00, 8.5702e+00,\n",
      "         6.2364e+00],\n",
      "        ...,\n",
      "        [2.7260e-03, 4.5134e-11, 9.6634e-11,  ..., 9.3937e-11, 1.7426e-11,\n",
      "         8.4871e-05],\n",
      "        [2.7249e-03, 1.5724e-10, 1.3324e-10,  ..., 1.1680e-10, 9.1422e-11,\n",
      "         8.4657e-05],\n",
      "        [2.7253e-03, 3.0085e-10, 6.5711e-11,  ..., 5.1159e-11, 8.4256e-11,\n",
      "         8.4688e-05]])\n"
     ]
    },
    {
     "ename": "TypeError",
     "evalue": "expected np.ndarray (got Tensor)",
     "output_type": "error",
     "traceback": [
      "\u001b[0;31m---------------------------------------------------------------------------\u001b[0m",
      "\u001b[0;31mTypeError\u001b[0m                                 Traceback (most recent call last)",
      "Cell \u001b[0;32mIn[26], line 3\u001b[0m\n\u001b[1;32m      1\u001b[0m \u001b[38;5;28minput\u001b[39m \u001b[38;5;241m=\u001b[39m dataList[\u001b[38;5;241m0\u001b[39m]\n\u001b[1;32m      2\u001b[0m \u001b[38;5;28mprint\u001b[39m(\u001b[38;5;28minput\u001b[39m[\u001b[38;5;241m0\u001b[39m])\n\u001b[0;32m----> 3\u001b[0m \u001b[38;5;28minput\u001b[39m \u001b[38;5;241m=\u001b[39m (\u001b[43mtorch\u001b[49m\u001b[38;5;241;43m.\u001b[39;49m\u001b[43mfrom_numpy\u001b[49m\u001b[43m(\u001b[49m\u001b[38;5;28;43minput\u001b[39;49m\u001b[43m[\u001b[49m\u001b[38;5;241;43m0\u001b[39;49m\u001b[43m]\u001b[49m\u001b[43m)\u001b[49m\u001b[38;5;241m.\u001b[39mto(device), torch\u001b[38;5;241m.\u001b[39mfrom_numpy(\u001b[38;5;28minput\u001b[39m[\u001b[38;5;241m1\u001b[39m])\u001b[38;5;241m.\u001b[39mto(device))\n\u001b[1;32m      4\u001b[0m \u001b[38;5;28minput\u001b[39m \u001b[38;5;241m=\u001b[39m (\u001b[38;5;28minput\u001b[39m[\u001b[38;5;241m0\u001b[39m]\u001b[38;5;241m.\u001b[39munsqueeze(\u001b[38;5;241m0\u001b[39m), \u001b[38;5;28minput\u001b[39m[\u001b[38;5;241m1\u001b[39m]\u001b[38;5;241m.\u001b[39munsqueeze(\u001b[38;5;241m0\u001b[39m))\n\u001b[1;32m      6\u001b[0m model\u001b[38;5;241m.\u001b[39meval()\n",
      "\u001b[0;31mTypeError\u001b[0m: expected np.ndarray (got Tensor)"
     ]
    }
   ],
   "source": [
    "\n",
    "input = dataList[0]\n",
    "input = (input[0].clone().detach(), torch.from_numpy(input[1]).to(device))\n",
    "input = (input[0].unsqueeze(0), input[1].unsqueeze(0))\n",
    "\n",
    "model.eval()\n",
    "with torch.no_grad():\n",
    "    out = model.forward(input)\n",
    "    decoder_output = out[2]\n",
    "    postnet_output = out[3]\n",
    "    out = postnet_output.to('cpu')\n",
    "    print(out.shape)\n"
   ]
  },
  {
   "cell_type": "code",
   "execution_count": 19,
   "metadata": {},
   "outputs": [
    {
     "name": "stdout",
     "output_type": "stream",
     "text": [
      "torch.Size([1, 440895])\n"
     ]
    }
   ],
   "source": [
    "import torch\n",
    "import numpy as np\n",
    "import os\n",
    "import soundfile as sf\n",
    "from Vocoder import Vocoder\n",
    "\n",
    "# Example batch of magnitude spectrograms of shape (N, 80, T)\n",
    "N = 1  # Number of samples in the batch\n",
    "T = 80  # Number of time bins\n",
    "# magnitude_spectrogram_batch = torch.rand(N, 201, 2206)\n",
    "\n",
    "# Instantiate Vocoder\n",
    "vocoder = Vocoder(n_fft=n_ftt, hop_length=hop_length, win_length=win_length, num_iters=200)\n",
    "\n",
    "# Output directory to save reconstructed waveforms\n",
    "output_dir = \"output_waveforms\"\n",
    "\n",
    "# Reconstruct waveforms from the batch of magnitude spectrograms\n",
    "# print(magnitude_spectrogram_batch.shape)\n",
    "# spectrograms = torch.tensor(spectrograms).transpose(1, 2)\n",
    "# print(spectrograms.shape)\n",
    "reconstructed_waveforms = vocoder.reconstruct(out, output_dir, sample_rate=samplerate)\n",
    "\n",
    "# Print the shape of the reconstructed waveforms\n",
    "print(reconstructed_waveforms.shape)"
   ]
  }
 ],
 "metadata": {
  "kernelspec": {
   "display_name": "Python 3.9.19 ('cs7643-finalproject')",
   "language": "python",
   "name": "python3"
  },
  "language_info": {
   "codemirror_mode": {
    "name": "ipython",
    "version": 3
   },
   "file_extension": ".py",
   "mimetype": "text/x-python",
   "name": "python",
   "nbconvert_exporter": "python",
   "pygments_lexer": "ipython3",
   "version": "3.10.14"
  },
  "vscode": {
   "interpreter": {
    "hash": "b318cc0a9b93c728b3b7b65ea17418aadcbb887a11db4ac09395b12b554738da"
   }
  }
 },
 "nbformat": 4,
 "nbformat_minor": 2
}
