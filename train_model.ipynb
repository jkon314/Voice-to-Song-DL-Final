{
 "cells": [
  {
   "cell_type": "code",
   "execution_count": 1,
   "metadata": {},
   "outputs": [
    {
     "data": {
      "text/plain": [
       "<function torch.random.seed() -> int>"
      ]
     },
     "execution_count": 1,
     "metadata": {},
     "output_type": "execute_result"
    }
   ],
   "source": [
    "# Just run this block. Please do not modify the following code.\n",
    "import math\n",
    "import time\n",
    "import io\n",
    "import numpy as np\n",
    "import csv\n",
    "from IPython.display import Image\n",
    "\n",
    "# Pytorch package\n",
    "import torch\n",
    "import torch.nn as nn\n",
    "import torch.optim as optim\n",
    "\n",
    "# Torchtest package\n",
    "# import torchtext\n",
    "# from torchtext.datasets import Multi30k\n",
    "from torch.utils.data import DataLoader\n",
    "# from torchtext.data.utils import get_tokenizer\n",
    "from collections import Counter\n",
    "# from torchtext.vocab import vocab\n",
    "# from torchtext.utils import download_from_url, extract_archive\n",
    "from torch.nn.utils.rnn import pad_sequence\n",
    "from torch.optim import Adam\n",
    "\n",
    "# Tqdm progress bar\n",
    "from tqdm import tqdm_notebook, tqdm\n",
    "\n",
    "# Code provide to you for training and evaluation\n",
    "\n",
    "# for auto-reloading external modules\n",
    "# see http://stackoverflow.com/questions/1907993/autoreload-of-modules-in-ipython\n",
    "%load_ext autoreload\n",
    "%autoreload 2\n",
    "\n",
    "torch.seed"
   ]
  },
  {
   "cell_type": "code",
   "execution_count": 2,
   "metadata": {},
   "outputs": [
    {
     "name": "stdout",
     "output_type": "stream",
     "text": [
      "You are using device: cpu\n"
     ]
    }
   ],
   "source": [
    "# Check device availability\n",
    "device = ''\n",
    "if torch.cuda.is_available():\n",
    "    device = 'cuda'\n",
    "elif torch.backends.mps.is_available():\n",
    "    device = 'mps'\n",
    "else:\n",
    "    device = 'cpu'\n",
    "device = torch.device(device)\n",
    "print(\"You are using device: %s\" % device)"
   ]
  },
  {
   "cell_type": "markdown",
   "metadata": {},
   "source": [
    "# Training, evaluation, and plotting loss curves"
   ]
  },
  {
   "cell_type": "code",
   "execution_count": 3,
   "metadata": {},
   "outputs": [],
   "source": [
    "# Code provide to you for training and evaluation\n",
    "from utils import train\n",
    "from utils import evaluate\n",
    "from utils import plot_curves\n",
    "from Model import Model\n",
    "\n",
    "def train_and_plot(model, optimizer, scheduler, criterion, train_loader, valid_loader, filename, epochs, device='cpu'):\n",
    "    train_loss_history = []\n",
    "    valid_loss_history = []\n",
    "\n",
    "    for epoch_idx in range(epochs):\n",
    "        print(\"-----------------------------------\")\n",
    "        print(\"Epoch %d\" % (epoch_idx+1))\n",
    "        print(\"-----------------------------------\")\n",
    "\n",
    "        train_loss, avg_train_loss = train(model, train_loader, optimizer, criterion, device=device)\n",
    "        scheduler.step(train_loss)\n",
    "\n",
    "        val_loss, avg_val_loss = evaluate(model, valid_loader, criterion, device=device)\n",
    "\n",
    "        train_loss_history.append(avg_train_loss)\n",
    "        valid_loss_history.append(avg_val_loss)\n",
    "\n",
    "        print(\"Training Loss: %.4f. Validation Loss: %.4f.\" % (avg_train_loss, avg_val_loss))\n",
    "\n",
    "    plot_curves(train_loss_history, valid_loss_history, filename)\n"
   ]
  },
  {
   "cell_type": "code",
   "execution_count": 6,
   "metadata": {},
   "outputs": [
    {
     "name": "stdout",
     "output_type": "stream",
     "text": [
      "2201\n",
      "(256, 80)\n",
      "(256,)\n"
     ]
    }
   ],
   "source": [
    "from dataset import preppedData \n",
    "import numpy as np\n",
    "# Example usage:\n",
    "model = Model()\n",
    "\n",
    "spec = np.load('spectrograms_80.npy')\n",
    "style = np.load('speech_resemblyzer_vectors.npy')\n",
    "\n",
    "style = style[0:spec.shape[0],:]\n",
    "\n",
    "dataList = []\n",
    "\n",
    "for i in range(0,spec.shape[0]):\n",
    "    dataList.append((spec[i,:,:],style[i,:]))\n",
    "\n",
    "print(len(dataList))\n",
    "\n",
    "print(dataList[0][0].shape)\n",
    "print(dataList[0][1].shape)\n"
   ]
  },
  {
   "cell_type": "code",
   "execution_count": 7,
   "metadata": {},
   "outputs": [
    {
     "name": "stdout",
     "output_type": "stream",
     "text": [
      "-----------------------------------\n",
      "Epoch 1\n",
      "-----------------------------------\n"
     ]
    },
    {
     "name": "stderr",
     "output_type": "stream",
     "text": [
      "Training:   0%|          | 0/69 [00:00<?, ?it/s]"
     ]
    },
    {
     "name": "stdout",
     "output_type": "stream",
     "text": [
      "spec shape: torch.Size([32, 256, 80]) style shape: torch.Size([32, 256])\n",
      "Encoder In:  torch.Size([32, 512, 80])\n",
      "Encoder PASSED!\n",
      "forward shape: torch.Size([32, 80, 1]) backward shape: torch.Size([32, 80, 1])\n",
      "Encoder Out:  torch.Size([32, 80, 2])\n",
      "Decoder In:  torch.Size([32, 320, 80])\n",
      "Decoder Out:  torch.Size([32, 256, 80])\n",
      "Postnet Out:  torch.Size([32, 256, 80])\n",
      "Style:  torch.Size([32, 256, 1])\n",
      "Encoded Postnet In:  torch.Size([32, 512, 80])\n",
      "Encoded Postnet Out:  torch.Size([32, 80, 2])\n",
      "MODEL PASSED!\n"
     ]
    },
    {
     "name": "stderr",
     "output_type": "stream",
     "text": [
      "Training:   1%|1         | 1/69 [00:19<21:42, 19.16s/it, loss=1.19e+3]"
     ]
    },
    {
     "name": "stdout",
     "output_type": "stream",
     "text": [
      "spec shape: torch.Size([32, 256, 80]) style shape: torch.Size([32, 256])\n",
      "Encoder In:  torch.Size([32, 512, 80])\n",
      "Encoder PASSED!\n",
      "forward shape: torch.Size([32, 80, 1]) backward shape: torch.Size([32, 80, 1])\n",
      "Encoder Out:  torch.Size([32, 80, 2])\n",
      "Decoder In:  torch.Size([32, 320, 80])\n",
      "Decoder Out:  torch.Size([32, 256, 80])\n",
      "Postnet Out:  torch.Size([32, 256, 80])\n",
      "Style:  torch.Size([32, 256, 1])\n",
      "Encoded Postnet In:  torch.Size([32, 512, 80])\n",
      "Encoded Postnet Out:  torch.Size([32, 80, 2])\n",
      "MODEL PASSED!\n"
     ]
    },
    {
     "name": "stderr",
     "output_type": "stream",
     "text": [
      "Training:   3%|2         | 2/69 [00:37<20:38, 18.49s/it, loss=2.99e+3]"
     ]
    },
    {
     "name": "stdout",
     "output_type": "stream",
     "text": [
      "spec shape: torch.Size([32, 256, 80]) style shape: torch.Size([32, 256])\n",
      "Encoder In:  torch.Size([32, 512, 80])\n",
      "Encoder PASSED!\n",
      "forward shape: torch.Size([32, 80, 1]) backward shape: torch.Size([32, 80, 1])\n",
      "Encoder Out:  torch.Size([32, 80, 2])\n",
      "Decoder In:  torch.Size([32, 320, 80])\n",
      "Decoder Out:  torch.Size([32, 256, 80])\n",
      "Postnet Out:  torch.Size([32, 256, 80])\n",
      "Style:  torch.Size([32, 256, 1])\n",
      "Encoded Postnet In:  torch.Size([32, 512, 80])\n",
      "Encoded Postnet Out:  torch.Size([32, 80, 2])\n",
      "MODEL PASSED!\n"
     ]
    },
    {
     "name": "stderr",
     "output_type": "stream",
     "text": [
      "Training:   4%|4         | 3/69 [00:55<20:08, 18.30s/it, loss=1.54e+3]"
     ]
    },
    {
     "name": "stdout",
     "output_type": "stream",
     "text": [
      "spec shape: torch.Size([32, 256, 80]) style shape: torch.Size([32, 256])\n",
      "Encoder In:  torch.Size([32, 512, 80])\n",
      "Encoder PASSED!\n",
      "forward shape: torch.Size([32, 80, 1]) backward shape: torch.Size([32, 80, 1])\n",
      "Encoder Out:  torch.Size([32, 80, 2])\n",
      "Decoder In:  torch.Size([32, 320, 80])\n",
      "Decoder Out:  torch.Size([32, 256, 80])\n",
      "Postnet Out:  torch.Size([32, 256, 80])\n",
      "Style:  torch.Size([32, 256, 1])\n",
      "Encoded Postnet In:  torch.Size([32, 512, 80])\n",
      "Encoded Postnet Out:  torch.Size([32, 80, 2])\n",
      "MODEL PASSED!\n"
     ]
    },
    {
     "name": "stderr",
     "output_type": "stream",
     "text": [
      "Training:   6%|5         | 4/69 [01:13<19:35, 18.08s/it, loss=1.12e+3]"
     ]
    },
    {
     "name": "stdout",
     "output_type": "stream",
     "text": [
      "spec shape: torch.Size([32, 256, 80]) style shape: torch.Size([32, 256])\n",
      "Encoder In:  torch.Size([32, 512, 80])\n",
      "Encoder PASSED!\n",
      "forward shape: torch.Size([32, 80, 1]) backward shape: torch.Size([32, 80, 1])\n",
      "Encoder Out:  torch.Size([32, 80, 2])\n",
      "Decoder In:  torch.Size([32, 320, 80])\n",
      "Decoder Out:  torch.Size([32, 256, 80])\n",
      "Postnet Out:  torch.Size([32, 256, 80])\n",
      "Style:  torch.Size([32, 256, 1])\n",
      "Encoded Postnet In:  torch.Size([32, 512, 80])\n",
      "Encoded Postnet Out:  torch.Size([32, 80, 2])\n",
      "MODEL PASSED!\n"
     ]
    },
    {
     "name": "stderr",
     "output_type": "stream",
     "text": [
      "Training:   7%|7         | 5/69 [01:30<19:05, 17.90s/it, loss=768]    "
     ]
    },
    {
     "name": "stdout",
     "output_type": "stream",
     "text": [
      "spec shape: torch.Size([32, 256, 80]) style shape: torch.Size([32, 256])\n",
      "Encoder In:  torch.Size([32, 512, 80])\n",
      "Encoder PASSED!\n",
      "forward shape: torch.Size([32, 80, 1]) backward shape: torch.Size([32, 80, 1])\n",
      "Encoder Out:  torch.Size([32, 80, 2])\n",
      "Decoder In:  torch.Size([32, 320, 80])\n",
      "Decoder Out:  torch.Size([32, 256, 80])\n",
      "Postnet Out:  torch.Size([32, 256, 80])\n",
      "Style:  torch.Size([32, 256, 1])\n",
      "Encoded Postnet In:  torch.Size([32, 512, 80])\n",
      "Encoded Postnet Out:  torch.Size([32, 80, 2])\n",
      "MODEL PASSED!\n"
     ]
    },
    {
     "ename": "",
     "evalue": "",
     "output_type": "error",
     "traceback": [
      "\u001b[1;31mThe Kernel crashed while executing code in the current cell or a previous cell. \n",
      "\u001b[1;31mPlease review the code in the cell(s) to identify a possible cause of the failure. \n",
      "\u001b[1;31mClick <a href='https://aka.ms/vscodeJupyterKernelCrash'>here</a> for more info. \n",
      "\u001b[1;31mView Jupyter <a href='command:jupyter.viewOutput'>log</a> for further details."
     ]
    }
   ],
   "source": [
    "from utils import criterion\n",
    "\n",
    "your_train_dataset = dataList\n",
    "your_valid_dataset = dataList\n",
    "train_loader = DataLoader(your_train_dataset, batch_size=32, shuffle=True)\n",
    "valid_loader = DataLoader(your_valid_dataset, batch_size=32, shuffle=False)\n",
    "optimizer = Adam(model.parameters(), lr=1e-3)\n",
    "scheduler = torch.optim.lr_scheduler.ReduceLROnPlateau(optimizer, 'min')\n",
    "criterion = criterion\n",
    "filename = \"training_loss_curves\"\n",
    "epochs = 10\n",
    "# device = 'cuda' if torch.cuda.is_available() else 'cpu'\n",
    "\n",
    "train_and_plot(model, optimizer, scheduler, criterion, train_loader, valid_loader, filename, epochs, device)"
   ]
  }
 ],
 "metadata": {
  "kernelspec": {
   "display_name": "Python 3.9.19 ('cs7643-finalproject')",
   "language": "python",
   "name": "python3"
  },
  "language_info": {
   "codemirror_mode": {
    "name": "ipython",
    "version": 3
   },
   "file_extension": ".py",
   "mimetype": "text/x-python",
   "name": "python",
   "nbconvert_exporter": "python",
   "pygments_lexer": "ipython3",
   "version": "3.9.19"
  },
  "vscode": {
   "interpreter": {
    "hash": "b318cc0a9b93c728b3b7b65ea17418aadcbb887a11db4ac09395b12b554738da"
   }
  }
 },
 "nbformat": 4,
 "nbformat_minor": 2
}
