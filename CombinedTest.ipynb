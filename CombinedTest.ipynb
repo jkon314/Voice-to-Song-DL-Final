{
 "cells": [
  {
   "cell_type": "code",
   "execution_count": 3,
   "metadata": {},
   "outputs": [
    {
     "name": "stderr",
     "output_type": "stream",
     "text": [
      "/opt/homebrew/anaconda3/envs/cs7643-finalproject/lib/python3.9/site-packages/torchtext/datasets/__init__.py:4: UserWarning: \n",
      "/!\\ IMPORTANT WARNING ABOUT TORCHTEXT STATUS /!\\ \n",
      "Torchtext is deprecated and the last released version will be 0.18 (this one). You can silence this warning by calling the following at the beginnign of your scripts: `import torchtext; torchtext.disable_torchtext_deprecation_warning()`\n",
      "  warnings.warn(torchtext._TORCHTEXT_DEPRECATION_MSG)\n",
      "/opt/homebrew/anaconda3/envs/cs7643-finalproject/lib/python3.9/site-packages/torchtext/data/__init__.py:4: UserWarning: \n",
      "/!\\ IMPORTANT WARNING ABOUT TORCHTEXT STATUS /!\\ \n",
      "Torchtext is deprecated and the last released version will be 0.18 (this one). You can silence this warning by calling the following at the beginnign of your scripts: `import torchtext; torchtext.disable_torchtext_deprecation_warning()`\n",
      "  warnings.warn(torchtext._TORCHTEXT_DEPRECATION_MSG)\n",
      "/opt/homebrew/anaconda3/envs/cs7643-finalproject/lib/python3.9/site-packages/torchtext/vocab/__init__.py:4: UserWarning: \n",
      "/!\\ IMPORTANT WARNING ABOUT TORCHTEXT STATUS /!\\ \n",
      "Torchtext is deprecated and the last released version will be 0.18 (this one). You can silence this warning by calling the following at the beginnign of your scripts: `import torchtext; torchtext.disable_torchtext_deprecation_warning()`\n",
      "  warnings.warn(torchtext._TORCHTEXT_DEPRECATION_MSG)\n",
      "/opt/homebrew/anaconda3/envs/cs7643-finalproject/lib/python3.9/site-packages/torchtext/utils.py:4: UserWarning: \n",
      "/!\\ IMPORTANT WARNING ABOUT TORCHTEXT STATUS /!\\ \n",
      "Torchtext is deprecated and the last released version will be 0.18 (this one). You can silence this warning by calling the following at the beginnign of your scripts: `import torchtext; torchtext.disable_torchtext_deprecation_warning()`\n",
      "  warnings.warn(torchtext._TORCHTEXT_DEPRECATION_MSG)\n"
     ]
    }
   ],
   "source": [
    "# Just run this block. Please do not modify the following code.\n",
    "import math\n",
    "import time\n",
    "import io\n",
    "import numpy as np\n",
    "import csv\n",
    "from IPython.display import Image\n",
    "\n",
    "# Pytorch package\n",
    "import torch\n",
    "import torch.nn as nn\n",
    "import torch.optim as optim\n",
    "\n",
    "# Torchtest package\n",
    "import torchtext\n",
    "from torchtext.datasets import Multi30k\n",
    "from torch.utils.data import DataLoader\n",
    "from torchtext.data.utils import get_tokenizer\n",
    "from collections import Counter\n",
    "from torchtext.vocab import vocab\n",
    "from torchtext.utils import download_from_url, extract_archive\n",
    "from torch.nn.utils.rnn import pad_sequence\n",
    "\n",
    "# Tqdm progress bar\n",
    "from tqdm import tqdm_notebook, tqdm\n",
    "\n",
    "# Code provide to you for training and evaluation\n",
    "\n",
    "# for auto-reloading external modules\n",
    "# see http://stackoverflow.com/questions/1907993/autoreload-of-modules-in-ipython\n",
    "%load_ext autoreload\n",
    "%autoreload 2\n",
    "\n",
    "torch.seed"
   ]
  },
  {
   "cell_type": "code",
   "execution_count": 70,
   "metadata": {},
   "outputs": [
    {
     "name": "stdout",
     "output_type": "stream",
     "text": [
      "You are using device: mps\n"
     ]
    }
   ],
   "source": [
    "# Check device availability\n",
    "device = ''\n",
    "if torch.cuda.is_available():\n",
    "    device = 'cuda'\n",
    "elif torch.backends.mps.is_available():\n",
    "    device = 'mps'\n",
    "else:\n",
    "    device = 'cpu'\n",
    "device = torch.device(device)\n",
    "print(\"You are using device: %s\" % device)"
   ]
  },
  {
   "cell_type": "code",
   "execution_count": 71,
   "metadata": {},
   "outputs": [],
   "source": [
    "encoder_output = torch.rand((5, 320, 20)).to(device) # N, input_size, 1"
   ]
  },
  {
   "cell_type": "code",
   "execution_count": 72,
   "metadata": {},
   "outputs": [],
   "source": [
    "from Decoder import Decoder\n",
    "from PostNet import PostNet"
   ]
  },
  {
   "cell_type": "code",
   "execution_count": 73,
   "metadata": {},
   "outputs": [
    {
     "name": "stdout",
     "output_type": "stream",
     "text": [
      "torch.Size([5, 80, 20])\n",
      "tensor([[[ 0.0224,  0.0188,  0.0195,  ...,  0.0067,  0.0096,  0.0167],\n",
      "         [ 0.0114,  0.0210,  0.0291,  ...,  0.0029, -0.0004, -0.0080],\n",
      "         [ 0.0259,  0.0196,  0.0217,  ...,  0.0188,  0.0191,  0.0229],\n",
      "         ...,\n",
      "         [-0.0291, -0.0313, -0.0327,  ..., -0.0244, -0.0204, -0.0261],\n",
      "         [ 0.0204,  0.0196,  0.0206,  ...,  0.0259,  0.0224,  0.0254],\n",
      "         [-0.0081,  0.0020,  0.0061,  ...,  0.0009,  0.0007, -0.0047]],\n",
      "\n",
      "        [[ 0.0179,  0.0170,  0.0144,  ..., -0.0069, -0.0062,  0.0070],\n",
      "         [ 0.0045,  0.0113,  0.0083,  ...,  0.0128,  0.0067,  0.0025],\n",
      "         [ 0.0200,  0.0147,  0.0127,  ...,  0.0186,  0.0237,  0.0313],\n",
      "         ...,\n",
      "         [-0.0332, -0.0342, -0.0299,  ..., -0.0250, -0.0240, -0.0261],\n",
      "         [ 0.0246,  0.0209,  0.0208,  ...,  0.0210,  0.0304,  0.0300],\n",
      "         [-0.0107, -0.0039, -0.0034,  ...,  0.0002,  0.0028,  0.0042]],\n",
      "\n",
      "        [[ 0.0167,  0.0162,  0.0072,  ...,  0.0237,  0.0288,  0.0335],\n",
      "         [ 0.0081,  0.0125,  0.0182,  ...,  0.0191,  0.0181,  0.0180],\n",
      "         [ 0.0220,  0.0186,  0.0119,  ...,  0.0116,  0.0080,  0.0064],\n",
      "         ...,\n",
      "         [-0.0295, -0.0340, -0.0348,  ..., -0.0161, -0.0144, -0.0135],\n",
      "         [ 0.0230,  0.0248,  0.0300,  ...,  0.0247,  0.0296,  0.0362],\n",
      "         [-0.0055,  0.0018,  0.0115,  ...,  0.0057,  0.0036, -0.0055]],\n",
      "\n",
      "        [[ 0.0227,  0.0178,  0.0195,  ..., -0.0048, -0.0016,  0.0054],\n",
      "         [ 0.0113,  0.0109,  0.0210,  ..., -0.0117, -0.0184, -0.0209],\n",
      "         [ 0.0270,  0.0259,  0.0271,  ...,  0.0239,  0.0309,  0.0306],\n",
      "         ...,\n",
      "         [-0.0285, -0.0371, -0.0382,  ..., -0.0431, -0.0393, -0.0384],\n",
      "         [ 0.0258,  0.0237,  0.0335,  ...,  0.0364,  0.0373,  0.0379],\n",
      "         [-0.0082, -0.0026, -0.0027,  ...,  0.0065,  0.0056,  0.0034]],\n",
      "\n",
      "        [[ 0.0229,  0.0295,  0.0316,  ...,  0.0100,  0.0120,  0.0075],\n",
      "         [ 0.0078,  0.0161,  0.0237,  ...,  0.0010,  0.0035,  0.0042],\n",
      "         [ 0.0233,  0.0165,  0.0158,  ..., -0.0093,  0.0011,  0.0136],\n",
      "         ...,\n",
      "         [-0.0345, -0.0403, -0.0377,  ..., -0.0385, -0.0279, -0.0290],\n",
      "         [ 0.0258,  0.0258,  0.0359,  ...,  0.0329,  0.0367,  0.0373],\n",
      "         [-0.0060,  0.0005,  0.0020,  ...,  0.0103,  0.0103,  0.0056]]],\n",
      "       device='mps:0', grad_fn=<TransposeBackward0>)\n"
     ]
    }
   ],
   "source": [
    "decoder = Decoder().to(device)\n",
    "decoder_output = decoder.forward(encoder_output)\n",
    "print(decoder_output.shape) # N, output_size, 1\n",
    "print(decoder_output)"
   ]
  },
  {
   "cell_type": "code",
   "execution_count": 74,
   "metadata": {},
   "outputs": [
    {
     "name": "stdout",
     "output_type": "stream",
     "text": [
      "torch.Size([5, 80, 20])\n",
      "tensor([[[-1.4014e-01, -2.9221e-01, -1.0126e-01,  ...,  4.0079e-01,\n",
      "           3.6558e-01, -2.0843e-01],\n",
      "         [-6.3166e-02, -3.6170e-01, -4.7774e-01,  ..., -2.8799e-01,\n",
      "          -3.0284e-01, -4.6196e-01],\n",
      "         [-3.0782e-01,  4.4426e-01,  2.6556e-01,  ...,  3.2749e-02,\n",
      "          -3.9405e-01, -4.2490e-01],\n",
      "         ...,\n",
      "         [-9.1223e-01, -5.0052e-01, -8.6679e-02,  ..., -5.3131e-01,\n",
      "          -2.1090e-01, -5.0512e-01],\n",
      "         [-9.3360e-03, -5.8920e-01, -3.8786e-01,  ..., -2.6266e-01,\n",
      "          -7.5875e-03, -1.8152e-01],\n",
      "         [ 1.1962e-01,  6.5525e-03,  8.9589e-02,  ...,  5.6906e-01,\n",
      "           2.6966e-01,  2.7719e-01]],\n",
      "\n",
      "        [[-2.7390e-01, -6.8670e-01, -1.5890e-01,  ...,  4.0504e-01,\n",
      "           9.9523e-02, -2.9345e-01],\n",
      "         [-2.6868e-01, -6.9413e-01, -5.0518e-01,  ..., -8.5273e-01,\n",
      "          -1.4182e-01, -1.9727e-01],\n",
      "         [-2.3454e-01,  6.2080e-01,  4.7377e-01,  ..., -7.1088e-01,\n",
      "          -3.4671e-01, -9.6181e-02],\n",
      "         ...,\n",
      "         [-4.7915e-01, -3.6621e-01, -2.3590e-01,  ..., -3.3187e-01,\n",
      "          -3.0744e-03, -2.8887e-01],\n",
      "         [ 1.6418e-01, -3.7912e-01, -1.1770e-01,  ...,  2.3876e-01,\n",
      "           2.0955e-02, -1.9073e-01],\n",
      "         [ 1.0600e-02, -6.7576e-02, -2.0488e-01,  ..., -3.0442e-01,\n",
      "          -1.4933e-01, -5.2870e-02]],\n",
      "\n",
      "        [[-7.9967e-02, -1.4551e-01,  3.4107e-01,  ..., -2.2315e-01,\n",
      "          -2.4801e-01, -3.0017e-01],\n",
      "         [-7.4926e-02, -7.6944e-02, -1.5421e-01,  ..., -6.8050e-01,\n",
      "           5.6907e-02, -1.5557e-01],\n",
      "         [-1.3693e-01,  1.7816e-01,  2.4044e-01,  ..., -2.5494e-01,\n",
      "          -8.8820e-02, -1.7145e-01],\n",
      "         ...,\n",
      "         [ 3.8920e-01,  2.5270e-01,  2.6569e-01,  ..., -1.2532e-02,\n",
      "           6.9903e-04, -4.1146e-01],\n",
      "         [ 1.5104e-01,  4.0547e-01,  2.7592e-01,  ..., -2.4299e-01,\n",
      "          -5.2501e-01, -5.9944e-01],\n",
      "         [-2.6907e-01, -5.0472e-02, -2.1463e-01,  ..., -2.2386e-01,\n",
      "          -3.0405e-01, -6.1369e-02]],\n",
      "\n",
      "        [[ 3.5416e-01, -1.1753e-01, -4.2275e-03,  ...,  9.5159e-02,\n",
      "          -1.8260e-01, -1.0547e-01],\n",
      "         [-1.3776e-02, -6.7125e-01,  1.5805e-03,  ..., -1.7306e-01,\n",
      "           2.6572e-01,  1.8485e-01],\n",
      "         [ 1.9514e-01,  7.4671e-01,  6.1334e-01,  ..., -4.3552e-01,\n",
      "          -4.2451e-01, -6.5376e-01],\n",
      "         ...,\n",
      "         [-1.5890e-01, -2.3698e-01,  1.7927e-01,  ..., -3.6961e-02,\n",
      "           4.7145e-01,  5.3207e-02],\n",
      "         [ 3.5183e-01, -4.1268e-01, -7.1061e-01,  ..., -3.7558e-02,\n",
      "           5.5218e-02,  4.2982e-01],\n",
      "         [ 3.8732e-02,  3.0878e-01, -1.1989e-01,  ..., -3.3425e-01,\n",
      "          -1.1577e-01,  1.8868e-01]],\n",
      "\n",
      "        [[-2.1062e-01, -3.0309e-01, -6.5603e-02,  ..., -1.8647e-01,\n",
      "           1.7795e-01, -2.1032e-01],\n",
      "         [-1.9477e-01, -1.7481e-01, -3.6361e-01,  ...,  6.7998e-02,\n",
      "           3.0916e-01,  2.5303e-01],\n",
      "         [-5.1720e-01,  1.3360e-01, -3.7039e-02,  ..., -4.5545e-01,\n",
      "          -3.6314e-01, -5.2323e-01],\n",
      "         ...,\n",
      "         [ 1.2717e-01,  1.9627e-01,  2.5320e-01,  ..., -4.3589e-01,\n",
      "          -6.2720e-01, -5.7014e-01],\n",
      "         [ 2.2373e-01, -1.4369e-01,  4.9913e-01,  ..., -1.2419e-01,\n",
      "          -3.4782e-01,  4.1537e-01],\n",
      "         [ 1.0276e-01,  8.3719e-02,  7.3675e-02,  ...,  2.7942e-01,\n",
      "           1.8923e-01,  3.6728e-01]]], device='mps:0',\n",
      "       grad_fn=<ConvolutionBackward0>)\n"
     ]
    }
   ],
   "source": [
    "postnet = PostNet().to(device)\n",
    "postnet_output = postnet.forward(decoder_output)\n",
    "print(postnet_output.shape) # (N, output size, 1)\n",
    "print(postnet_output)"
   ]
  },
  {
   "cell_type": "code",
   "execution_count": 75,
   "metadata": {},
   "outputs": [
    {
     "name": "stderr",
     "output_type": "stream",
     "text": [
      "/opt/homebrew/anaconda3/envs/cs7643-finalproject/lib/python3.9/site-packages/torch/nn/modules/loss.py:535: UserWarning: Using a target size (torch.Size([5, 80, 20])) that is different to the input size (torch.Size([5, 80, 1])). This will likely lead to incorrect results due to broadcasting. Please ensure they have the same size.\n",
      "  return F.mse_loss(input, target, reduction=self.reduction)\n"
     ]
    },
    {
     "data": {
      "text/plain": [
       "tensor(0.8126, device='mps:0', grad_fn=<AddBackward0>)"
      ]
     },
     "execution_count": 75,
     "metadata": {},
     "output_type": "execute_result"
    }
   ],
   "source": [
    "# Loss Test\n",
    "from utils import criterion\n",
    "\n",
    "input = torch.rand((5, 80, 1)).to(device)\n",
    "\n",
    "criterion(input=input, encoder_ouput=encoder_output, decoder_output=decoder_output, postnet_output=postnet_output, encoded_postnet_output=encoder_output)"
   ]
  }
 ],
 "metadata": {
  "kernelspec": {
   "display_name": "cs7643-finalproject",
   "language": "python",
   "name": "python3"
  },
  "language_info": {
   "codemirror_mode": {
    "name": "ipython",
    "version": 3
   },
   "file_extension": ".py",
   "mimetype": "text/x-python",
   "name": "python",
   "nbconvert_exporter": "python",
   "pygments_lexer": "ipython3",
   "version": "3.9.19"
  }
 },
 "nbformat": 4,
 "nbformat_minor": 2
}
