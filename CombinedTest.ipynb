{
 "cells": [
  {
   "cell_type": "code",
   "execution_count": 3,
   "metadata": {},
   "outputs": [
    {
     "data": {
      "text/plain": [
       "<function torch.random.seed() -> int>"
      ]
     },
     "execution_count": 3,
     "metadata": {},
     "output_type": "execute_result"
    }
   ],
   "source": [
    "# Just run this block. Please do not modify the following code.\n",
    "import math\n",
    "import time\n",
    "import io\n",
    "import numpy as np\n",
    "import csv\n",
    "from IPython.display import Image\n",
    "\n",
    "# Pytorch package\n",
    "import torch\n",
    "import torch.nn as nn\n",
    "import torch.optim as optim\n",
    "\n",
    "# Torchtest package\n",
    "# import torchtext\n",
    "# from torchtext.datasets import Multi30k\n",
    "# from torch.utils.data import DataLoader\n",
    "# from torchtext.data.utils import get_tokenizer\n",
    "# from collections import Counter\n",
    "# from torchtext.vocab import vocab\n",
    "# from torchtext.utils import download_from_url, extract_archive\n",
    "# from torch.nn.utils.rnn import pad_sequence\n",
    "from torch.optim import Adam\n",
    "\n",
    "# Tqdm progress bar\n",
    "from tqdm import tqdm_notebook, tqdm\n",
    "\n",
    "# Code provide to you for training and evaluation\n",
    "\n",
    "# for auto-reloading external modules\n",
    "# see http://stackoverflow.com/questions/1907993/autoreload-of-modules-in-ipython\n",
    "%load_ext autoreload\n",
    "%autoreload 2\n",
    "\n",
    "torch.seed"
   ]
  },
  {
   "cell_type": "code",
   "execution_count": 4,
   "metadata": {},
   "outputs": [
    {
     "name": "stdout",
     "output_type": "stream",
     "text": [
      "You are using device: mps\n"
     ]
    }
   ],
   "source": [
    "# Check device availability\n",
    "device = ''\n",
    "if torch.cuda.is_available():\n",
    "    device = 'cuda'\n",
    "elif torch.backends.mps.is_available():\n",
    "    device = 'mps'\n",
    "else:\n",
    "    device = 'cpu'\n",
    "device = torch.device(device)\n",
    "print(\"You are using device: %s\" % device)"
   ]
  },
  {
   "cell_type": "code",
   "execution_count": 5,
   "metadata": {},
   "outputs": [],
   "source": [
    "encoder_output = torch.rand((5, 320, 20)).to(device) # N, input_size, T"
   ]
  },
  {
   "cell_type": "code",
   "execution_count": 6,
   "metadata": {},
   "outputs": [],
   "source": [
    "from Decoder import Decoder\n",
    "from PostNet import PostNet"
   ]
  },
  {
   "cell_type": "code",
   "execution_count": 7,
   "metadata": {},
   "outputs": [
    {
     "name": "stdout",
     "output_type": "stream",
     "text": [
      "torch.Size([5, 80, 20])\n",
      "tensor([[[ 3.6825e-03,  4.4606e-02,  1.0958e-01,  ...,  1.3586e-02,\n",
      "           4.8501e-03,  3.3209e-02],\n",
      "         [ 3.1870e-02,  1.7513e-03,  2.4678e-02,  ..., -7.8045e-03,\n",
      "           6.1482e-03, -2.8795e-02],\n",
      "         [ 5.9142e-02,  1.0487e-01,  9.0599e-02,  ...,  1.3067e-03,\n",
      "          -1.0156e-03,  8.4302e-03],\n",
      "         ...,\n",
      "         [-5.2882e-02, -9.0974e-02, -6.2130e-02,  ...,  8.5704e-03,\n",
      "          -2.2412e-02, -1.1856e-04],\n",
      "         [-2.5380e-02, -2.9963e-02,  1.3823e-02,  ..., -9.6502e-03,\n",
      "           2.2265e-02,  1.1504e-02],\n",
      "         [-5.4349e-02, -4.3660e-02,  8.8643e-03,  ..., -2.3915e-02,\n",
      "           3.9987e-02,  1.7217e-03]],\n",
      "\n",
      "        [[ 5.8105e-02,  7.0889e-02,  1.1113e-01,  ...,  7.1480e-02,\n",
      "           3.6759e-02,  6.8150e-02],\n",
      "         [ 5.5411e-02,  4.0619e-02,  7.2729e-02,  ..., -4.1806e-02,\n",
      "           1.1533e-02,  2.1892e-02],\n",
      "         [ 8.4126e-02,  1.0570e-01,  1.1730e-01,  ...,  7.8362e-02,\n",
      "           8.4697e-02,  4.0918e-02],\n",
      "         ...,\n",
      "         [ 8.2022e-03,  1.5279e-03, -2.5048e-02,  ...,  9.1494e-03,\n",
      "          -2.1756e-04,  1.9981e-02],\n",
      "         [-2.3617e-02, -1.0567e-02,  3.5374e-02,  ..., -1.4470e-02,\n",
      "          -1.5403e-02, -1.2743e-02],\n",
      "         [-1.2130e-02, -6.2722e-02, -3.5519e-02,  ...,  2.3387e-02,\n",
      "           1.9024e-02,  1.4097e-03]],\n",
      "\n",
      "        [[ 2.5755e-02,  1.4285e-02,  5.5105e-02,  ...,  4.5002e-02,\n",
      "           3.5745e-02,  2.3857e-02],\n",
      "         [ 6.6452e-02,  3.4245e-02,  3.1770e-02,  ...,  2.8413e-02,\n",
      "           4.0206e-02,  1.1381e-02],\n",
      "         [ 6.8840e-02,  1.0963e-01,  1.2860e-01,  ...,  1.0451e-01,\n",
      "           9.8147e-02,  5.9899e-02],\n",
      "         ...,\n",
      "         [-9.1912e-03, -1.9113e-02, -5.5140e-02,  ...,  3.6950e-02,\n",
      "           5.5285e-03,  2.1864e-02],\n",
      "         [-3.2568e-02, -2.9803e-02,  1.5638e-03,  ...,  2.1064e-02,\n",
      "           2.5565e-02,  5.6602e-03],\n",
      "         [-4.2260e-02, -5.3761e-02, -3.1917e-02,  ..., -7.9707e-02,\n",
      "          -1.8464e-02,  1.4764e-03]],\n",
      "\n",
      "        [[ 3.9332e-02,  2.9192e-02,  5.9482e-02,  ...,  2.3541e-02,\n",
      "          -1.1846e-02,  2.3572e-02],\n",
      "         [-8.2185e-03, -2.3030e-02, -8.0018e-03,  ..., -1.1227e-02,\n",
      "          -1.2723e-02,  9.1359e-03],\n",
      "         [ 7.2976e-02,  7.0216e-02,  9.6327e-02,  ...,  5.6172e-02,\n",
      "           7.7034e-02,  5.3448e-02],\n",
      "         ...,\n",
      "         [-7.5214e-02, -6.6070e-02, -3.2052e-02,  ...,  1.9187e-02,\n",
      "           1.8213e-02,  3.3202e-02],\n",
      "         [ 6.6684e-03, -1.0309e-02,  2.1499e-02,  ...,  4.5398e-02,\n",
      "           1.7243e-02,  1.5820e-03],\n",
      "         [-9.6219e-03, -4.4286e-02, -1.9234e-02,  ..., -8.0024e-02,\n",
      "          -2.7698e-02, -4.2911e-02]],\n",
      "\n",
      "        [[ 1.0584e-02,  1.0646e-02,  3.4101e-02,  ..., -1.3895e-03,\n",
      "           1.1823e-02,  4.2030e-02],\n",
      "         [ 6.0937e-02,  1.5742e-02,  3.3017e-03,  ..., -1.5221e-02,\n",
      "          -2.3137e-02,  2.7003e-02],\n",
      "         [ 8.8169e-02,  8.0253e-02,  9.8755e-02,  ...,  9.5771e-02,\n",
      "           9.3891e-02,  7.5417e-02],\n",
      "         ...,\n",
      "         [-3.3850e-02, -1.0198e-01, -9.1155e-02,  ...,  2.8891e-02,\n",
      "           3.0854e-02,  4.3069e-02],\n",
      "         [-9.9906e-03, -4.2521e-02, -3.6604e-02,  ..., -4.9822e-04,\n",
      "           1.1990e-02,  1.0066e-03],\n",
      "         [-3.1089e-02, -6.0272e-02, -1.4334e-02,  ..., -5.2249e-02,\n",
      "          -7.9329e-03, -3.4970e-03]]], device='mps:0',\n",
      "       grad_fn=<TransposeBackward0>)\n"
     ]
    }
   ],
   "source": [
    "decoder = Decoder(lstm_bidirectional=True).to(device)\n",
    "decoder_output = decoder.forward(encoder_output)\n",
    "print(decoder_output.shape) # N, output_size, T\n",
    "print(decoder_output)"
   ]
  },
  {
   "cell_type": "code",
   "execution_count": 8,
   "metadata": {},
   "outputs": [
    {
     "name": "stdout",
     "output_type": "stream",
     "text": [
      "torch.Size([5, 80, 20])\n",
      "tensor([[[-0.1417, -0.2846,  0.2124,  ...,  0.6432,  0.3604,  0.2329],\n",
      "         [-0.4447, -0.4212, -0.2686,  ...,  0.3764,  0.1740,  0.0898],\n",
      "         [ 0.1103, -0.1607,  0.1748,  ..., -0.0634, -0.9434, -0.4235],\n",
      "         ...,\n",
      "         [ 0.0169,  0.3285, -0.3866,  ...,  0.3348,  0.3624,  0.0397],\n",
      "         [ 0.1127, -0.5509,  0.6533,  ..., -0.2584,  0.1697, -0.1248],\n",
      "         [ 0.1750, -0.0609, -0.8094,  ..., -0.7462, -0.1410, -0.0392]],\n",
      "\n",
      "        [[-0.4792, -0.5449, -0.6200,  ...,  0.2085, -0.0342, -0.1272],\n",
      "         [-0.0577, -0.4932, -0.9531,  ...,  0.5104,  0.2924, -0.0315],\n",
      "         [ 0.1564, -0.0919,  0.0179,  ...,  0.0664,  0.0717, -0.2495],\n",
      "         ...,\n",
      "         [ 0.0839, -0.0158, -0.0715,  ...,  0.1605, -0.1189,  0.4460],\n",
      "         [-0.1325,  0.0530,  0.3684,  ...,  0.1296, -0.5494, -0.2993],\n",
      "         [ 0.9531,  0.7085,  0.3954,  ..., -0.1096,  0.0414, -0.0203]],\n",
      "\n",
      "        [[ 0.3447,  0.4252, -0.2401,  ...,  0.4469,  0.2567, -0.0585],\n",
      "         [ 0.2721, -0.2719, -0.4122,  ...,  0.6339,  0.1208,  0.2852],\n",
      "         [-0.4009,  0.0463, -0.3032,  ...,  0.5264,  0.1886,  0.4931],\n",
      "         ...,\n",
      "         [ 0.1098, -0.0298, -0.1742,  ..., -0.3465,  0.3180,  0.2451],\n",
      "         [ 0.2508, -0.0061,  0.6206,  ..., -0.7594, -0.0597,  0.0058],\n",
      "         [ 0.4497,  0.0167, -0.1433,  ..., -0.5385, -0.3287, -0.2452]],\n",
      "\n",
      "        [[ 0.2362,  0.0559, -0.7254,  ...,  0.1004,  0.1147,  0.1694],\n",
      "         [ 0.2072, -0.1036, -0.2075,  ...,  0.4691, -0.1634, -0.2646],\n",
      "         [ 0.2500,  0.3518, -0.3524,  ...,  0.2647, -0.0409,  0.0490],\n",
      "         ...,\n",
      "         [-0.7598, -0.6778, -0.3952,  ...,  0.1229,  0.0898,  0.2340],\n",
      "         [-0.1668, -0.2180,  0.7413,  ...,  0.1695,  0.1366,  0.2854],\n",
      "         [ 0.1800,  0.1364, -0.0477,  ..., -0.3005, -0.4654,  0.0332]],\n",
      "\n",
      "        [[ 0.0266, -0.0979,  0.1247,  ...,  0.0944, -0.0091,  0.1638],\n",
      "         [-0.5074, -0.0349,  0.1295,  ...,  0.0668, -0.4829, -0.2391],\n",
      "         [ 0.1564,  0.0322, -0.1166,  ...,  0.0675,  0.0337, -0.0919],\n",
      "         ...,\n",
      "         [-0.2819, -0.3347, -0.4933,  ...,  0.2306,  0.2132,  0.5807],\n",
      "         [ 0.0703, -0.7877,  0.4308,  ...,  0.0610, -0.0010,  0.0301],\n",
      "         [ 0.4502,  0.0776,  0.1283,  ...,  0.1464,  0.1576, -0.1140]]],\n",
      "       device='mps:0', grad_fn=<ConvolutionBackward0>)\n"
     ]
    }
   ],
   "source": [
    "postnet = PostNet().to(device)\n",
    "postnet_output = postnet.forward(decoder_output)\n",
    "print(postnet_output.shape) # (N, output size, T)\n",
    "print(postnet_output)"
   ]
  },
  {
   "cell_type": "code",
   "execution_count": 9,
   "metadata": {},
   "outputs": [
    {
     "name": "stdout",
     "output_type": "stream",
     "text": [
      "torch.Size([5, 80, 1])\n",
      "torch.Size([5, 320, 20])\n",
      "torch.Size([5, 80, 20])\n",
      "torch.Size([5, 80, 20])\n"
     ]
    },
    {
     "name": "stderr",
     "output_type": "stream",
     "text": [
      "/opt/homebrew/anaconda3/envs/cs7643-finalproject-v2/lib/python3.10/site-packages/torch/nn/modules/loss.py:538: UserWarning: Using a target size (torch.Size([5, 80, 20])) that is different to the input size (torch.Size([5, 80, 1])). This will likely lead to incorrect results due to broadcasting. Please ensure they have the same size.\n",
      "  return F.mse_loss(input, target, reduction=self.reduction)\n"
     ]
    },
    {
     "data": {
      "text/plain": [
       "tensor(0.7716, device='mps:0', grad_fn=<AddBackward0>)"
      ]
     },
     "execution_count": 9,
     "metadata": {},
     "output_type": "execute_result"
    }
   ],
   "source": [
    "# Loss Test\n",
    "from utils import criterion\n",
    "#\n",
    "input = torch.rand((5, 80, 1)).to(device)\n",
    "\n",
    "print(input.shape)\n",
    "print(encoder_output.shape)\n",
    "print(decoder_output.shape)\n",
    "print(postnet_output.shape)\n",
    "\n",
    "criterion(input=input, encoder_ouput=encoder_output, decoder_output=decoder_output, postnet_output=postnet_output, encoded_postnet_output=encoder_output)"
   ]
  },
  {
   "cell_type": "markdown",
   "metadata": {},
   "source": [
    "# Training, evaluation, and plotting loss curves"
   ]
  },
  {
   "cell_type": "code",
   "execution_count": 1,
   "metadata": {},
   "outputs": [],
   "source": [
    "# Code provide to you for training and evaluation\n",
    "from utils import train\n",
    "from utils import evaluate\n",
    "from utils import plot_curves\n",
    "from Model import Model\n",
    "\n",
    "def train_and_plot(model, optimizer, scheduler, criterion, train_loader, valid_loader, filename, epochs, device='cpu'):\n",
    "    train_loss_history = []\n",
    "    valid_loss_history = []\n",
    "\n",
    "    for epoch_idx in range(epochs):\n",
    "        print(\"-----------------------------------\")\n",
    "        print(\"Epoch %d\" % (epoch_idx+1))\n",
    "        print(\"-----------------------------------\")\n",
    "\n",
    "        train_loss, avg_train_loss = train(model, train_loader, optimizer, criterion, device=device)\n",
    "        scheduler.step(train_loss)\n",
    "\n",
    "        val_loss, avg_val_loss = evaluate(model, valid_loader, criterion, device=device)\n",
    "\n",
    "        train_loss_history.append(avg_train_loss)\n",
    "        valid_loss_history.append(avg_val_loss)\n",
    "\n",
    "        print(\"Training Loss: %.4f. Validation Loss: %.4f.\" % (avg_train_loss, avg_val_loss))\n",
    "\n",
    "    plot_curves(train_loss_history, valid_loss_history, filename)\n"
   ]
  },
  {
   "cell_type": "code",
   "execution_count": null,
   "metadata": {},
   "outputs": [],
   "source": [
    "\n",
    "# Example usage:\n",
    "model = Model()\n",
    "train_loader = DataLoader(your_train_dataset, batch_size=32, shuffle=True)\n",
    "valid_loader = DataLoader(your_valid_dataset, batch_size=32, shuffle=False)\n",
    "optimizer = Adam(model.parameters(), lr=1e-3)\n",
    "scheduler = torch.optim.lr_scheduler.ReduceLROnPlateau(optimizer, 'min')\n",
    "criterion = criterion(input=input, encoder_ouput=encoder_output, decoder_output=decoder_output, postnet_output=postnet_output, encoded_postnet_output=encoder_output)\n",
    "filename = \"training_loss_curves\"\n",
    "epochs = 10\n",
    "# device = 'cuda' if torch.cuda.is_available() else 'cpu'\n",
    "\n",
    "train_and_plot(model, optimizer, scheduler, criterion, train_loader, valid_loader, filename, epochs, device)"
   ]
  }
 ],
 "metadata": {
  "kernelspec": {
   "display_name": "Python 3.9.19 ('cs7643-finalproject')",
   "language": "python",
   "name": "python3"
  },
  "language_info": {
   "codemirror_mode": {
    "name": "ipython",
    "version": 3
   },
   "file_extension": ".py",
   "mimetype": "text/x-python",
   "name": "python",
   "nbconvert_exporter": "python",
   "pygments_lexer": "ipython3",
   "version": "3.10.14"
  },
  "vscode": {
   "interpreter": {
    "hash": "b318cc0a9b93c728b3b7b65ea17418aadcbb887a11db4ac09395b12b554738da"
   }
  }
 },
 "nbformat": 4,
 "nbformat_minor": 2
}
