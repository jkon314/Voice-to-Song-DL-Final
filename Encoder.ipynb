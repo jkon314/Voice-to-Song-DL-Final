{
 "cells": [
  {
   "cell_type": "code",
   "execution_count": 1,
   "metadata": {},
   "outputs": [
    {
     "name": "stdout",
     "output_type": "stream",
     "text": [
      "torch.Size([2, 2])\n",
      "tensor([[[1, 1, 1, 1, 1],\n",
      "         [2, 2, 2, 2, 2]],\n",
      "\n",
      "        [[3, 3, 3, 3, 3],\n",
      "         [4, 4, 4, 4, 4]]])\n",
      "torch.Size([2, 2, 5])\n"
     ]
    }
   ],
   "source": [
    "import torch\n",
    "import soundfile as sf\n",
    "from Encoder import Encoder\n",
    "\n",
    "if __name__ == \"__main__\":\n",
    "    # Assume the decoder's output is a list of spectrograms\n",
    "    \n",
    "    #test repeat functionality:\n",
    "    tester = torch.tensor([[1,2],[3,4]])\n",
    "    print(tester.shape)\n",
    "    tester = tester[:,:,None]\n",
    "    new = torch.repeat_interleave(tester,5,2)\n",
    "    print(new)\n",
    "    print(new.shape)\n"
   ]
  },
  {
   "cell_type": "code",
   "execution_count": 2,
   "metadata": {},
   "outputs": [
    {
     "name": "stdout",
     "output_type": "stream",
     "text": [
      "torch.Size([10, 256, 1000])\n",
      "1\n",
      "torch.Size([10, 512, 1000])\n",
      "new output shape is : torch.Size([10, 512, 1000])\n",
      "new output shape is : torch.Size([10, 512, 996])\n",
      "new output shape is : torch.Size([10, 512, 992])\n",
      "final output of convolution shape: torch.Size([10, 512, 988])\n",
      "fwd shape: torch.Size([10, 988, 32]) back shape: torch.Size([10, 988, 32])\n",
      "forward shape: torch.Size([10, 988, 1]), backward shape: torch.Size([10, 988, 1])\n"
     ]
    }
   ],
   "source": [
    "\n",
    "# dummy spectrogram and style embedding (replace this with actual speech style and singer content spectrogram)\n",
    "style   = torch.rand((10,256))\n",
    "spec    = torch.rand((10,256,1000)) #T=5 here\n",
    "\n",
    "#preparing input by combining spec and style embedding\n",
    "\n",
    "style = style[:,:,None]\n",
    "style_dup = torch.repeat_interleave(style,spec.shape[2],2)\n",
    "\n",
    "print(style_dup.shape)\n",
    "print(1)\n",
    "concat = torch.cat((spec,style_dup),1)\n",
    "print(concat.shape)\n",
    "# Encoder instance\n",
    "encoder = Encoder()\n",
    "fwd, back = encoder.forward(concat)\n",
    "\n",
    "print(f'forward shape: {fwd.shape}, backward shape: {back.shape}')\n",
    "\n",
    "print(\"SUCCESS!\")"
   ]
  }
 ],
 "metadata": {
  "kernelspec": {
   "display_name": "cs7643-finalproject",
   "language": "python",
   "name": "python3"
  },
  "language_info": {
   "codemirror_mode": {
    "name": "ipython",
    "version": 3
   },
   "file_extension": ".py",
   "mimetype": "text/x-python",
   "name": "python",
   "nbconvert_exporter": "python",
   "pygments_lexer": "ipython3",
   "version": "3.9.19"
  },
  "orig_nbformat": 4
 },
 "nbformat": 4,
 "nbformat_minor": 2
}
