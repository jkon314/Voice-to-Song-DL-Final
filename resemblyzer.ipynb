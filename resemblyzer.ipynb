{
 "cells": [
  {
   "cell_type": "code",
   "execution_count": 2,
   "metadata": {},
   "outputs": [],
   "source": [
    "# import necessary libraries\n",
    "from resemblyzer import preprocess_wav, VoiceEncoder\n",
    "from  pathlib import Path \n",
    "from tqdm import tqdm \n",
    "import numpy as np \n",
    "from IPython.display import Audio \n",
    "from itertools import groupby\n",
    "import heapq\n",
    "\n",
    "from os import listdir\n",
    "from os.path import isfile, join, basename\n",
    "from  pathlib import Path \n",
    "import numpy as np"
   ]
  },
  {
   "cell_type": "code",
   "execution_count": 4,
   "metadata": {},
   "outputs": [
    {
     "name": "stdout",
     "output_type": "stream",
     "text": [
      "dataset/uvr-mdx-net-split/vocals_chunks/004  Avicii - Wake Me Up_(Vocals)_UVR-MDX-NET-Inst_HQ_3-chunk-15.mp3\n",
      "[-0.002 -0.004  0.001 ...  0.066  0.033  0.057]\n",
      "Loaded the voice encoder model on cpu in 0.03 seconds.\n",
      "dataset/uvr-mdx-net-split/vocals_chunks/030  Naughty Boy - La La La (Feat. Sam Smith)_(Vocals)_UVR-MDX-NET-Inst_HQ_3-chunk-17.mp3\n",
      "[-0.024  0.017  0.118 ...  0.051 -0.011  0.01 ]\n",
      "Loaded the voice encoder model on cpu in 0.02 seconds.\n",
      "dataset/uvr-mdx-net-split/vocals_chunks/018  Luke Bryan - Play It Again_(Vocals)_UVR-MDX-NET-Inst_HQ_3-chunk-6.mp3\n",
      "[-0.276 -0.536 -0.481 ...  0.006  0.027  0.056]\n",
      "Loaded the voice encoder model on cpu in 0.01 seconds.\n",
      "dataset/uvr-mdx-net-split/vocals_chunks/033  Clarity - Zedd ft Foxes_(Vocals)_UVR-MDX-NET-Inst_HQ_3-chunk-14.mp3\n",
      "[ 0.118  0.175  0.109 ...  0.011  0.034 -0.03 ]\n",
      "Loaded the voice encoder model on cpu in 0.00 seconds.\n",
      "dataset/uvr-mdx-net-split/vocals_chunks/100  John Legend - All Of Me_(Vocals)_UVR-MDX-NET-Inst_HQ_3-chunk-10.mp3\n",
      "[ 0.002  0.002 -0.01  ... -0.1   -0.016  0.074]\n",
      "Loaded the voice encoder model on cpu in 0.00 seconds.\n",
      "dataset/uvr-mdx-net-split/vocals_chunks/019  Bastille - Pompeii_(Vocals)_UVR-MDX-NET-Inst_HQ_3-chunk-11.mp3\n",
      "[-0.012 -0.031 -0.004 ...  0.07   0.043 -0.052]\n",
      "Loaded the voice encoder model on cpu in 0.01 seconds.\n",
      "dataset/uvr-mdx-net-split/vocals_chunks/023  Florida Georgia Line - This Is How We Roll (Feat. Luke Bryan)_(Vocals)_UVR-MDX-NET-Inst_HQ_3-chunk-12.mp3\n",
      "[-0.057 -0.095 -0.07  ...  0.037  0.01  -0.026]\n",
      "Loaded the voice encoder model on cpu in 0.00 seconds.\n",
      "dataset/uvr-mdx-net-split/vocals_chunks/099  ScHoolBoy Q - Collard Greens_(Vocals)_UVR-MDX-NET-Inst_HQ_3-chunk-16.mp3\n",
      "[-0.018 -0.047 -0.066 ...  0.025  0.015  0.018]\n",
      "Loaded the voice encoder model on cpu in 0.00 seconds.\n",
      "dataset/uvr-mdx-net-split/vocals_chunks/025  MKTO - Classic_(Vocals)_UVR-MDX-NET-Inst_HQ_3-chunk-6.mp3\n",
      "[-0.033 -0.072 -0.102 ...  0.062  0.066  0.092]\n",
      "Loaded the voice encoder model on cpu in 0.00 seconds.\n",
      "dataset/uvr-mdx-net-split/vocals_chunks/018  Eminem - Berzerk_(Vocals)_UVR-MDX-NET-Inst_HQ_3-chunk-11.mp3\n",
      "[-0.067 -0.088 -0.047 ... -0.034 -0.044 -0.044]\n",
      "Loaded the voice encoder model on cpu in 0.00 seconds.\n",
      "dataset/uvr-mdx-net-split/vocals_chunks/016  Imagine Dragons - Radioactive_(Vocals)_UVR-MDX-NET-Inst_HQ_3-chunk-14.mp3\n",
      "[ 0.138  0.221  0.014 ...  0.07   0.045 -0.052]\n",
      "Loaded the voice encoder model on cpu in 0.00 seconds.\n",
      "dataset/uvr-mdx-net-split/vocals_chunks/025  MKTO - Classic_(Vocals)_UVR-MDX-NET-Inst_HQ_3-chunk-11.mp3\n",
      "[-0.021 -0.025 -0.014 ...  0.13   0.116  0.049]\n",
      "Loaded the voice encoder model on cpu in 0.00 seconds.\n",
      "dataset/uvr-mdx-net-split/vocals_chunks/053  The Neighbourhood - Sweater Weather_(Vocals)_UVR-MDX-NET-Inst_HQ_3-chunk-13.mp3\n",
      "[-0.009 -0.034 -0.062 ... -0.021  0.003  0.027]\n",
      "Loaded the voice encoder model on cpu in 0.00 seconds.\n",
      "dataset/uvr-mdx-net-split/vocals_chunks/087  Prince Royce - Darte Un Beso_(Vocals)_UVR-MDX-NET-Inst_HQ_3-chunk-17.mp3\n",
      "[0.009 0.03  0.045 ... 0.002 0.038 0.055]\n",
      "Loaded the voice encoder model on cpu in 0.01 seconds.\n",
      "dataset/uvr-mdx-net-split/vocals_chunks/005  Drake - Hold On, We're Going Home Ft. Majid Jordan_(Vocals)_UVR-MDX-NET-Inst_HQ_3-chunk-1.mp3\n",
      "[ 0.003  0.009  0.014 ... -0.047  0.005  0.031]\n",
      "Loaded the voice encoder model on cpu in 0.00 seconds.\n",
      "dataset/uvr-mdx-net-split/vocals_chunks/093  Scotty McCreery - See You Tonight_(Vocals)_UVR-MDX-NET-Inst_HQ_3-chunk-4.mp3\n",
      "[0.089 0.211 0.183 ... 0.156 0.138 0.167]\n",
      "Loaded the voice encoder model on cpu in 0.01 seconds.\n",
      "dataset/uvr-mdx-net-split/vocals_chunks/065  Sevyn Streeter - It Wont Stop Ft Chris Brown_(Vocals)_UVR-MDX-NET-Inst_HQ_3-chunk-15.mp3\n",
      "[ 0.043  0.08   0.074 ... -0.032 -0.055 -0.063]\n",
      "Loaded the voice encoder model on cpu in 0.04 seconds.\n",
      "dataset/uvr-mdx-net-split/vocals_chunks/049  Big Sean - Beware Ft. Lil Wayne & Jhene Aiko_(Vocals)_UVR-MDX-NET-Inst_HQ_3-chunk-6.mp3\n",
      "[ 0.008  0.016  0.02  ... -0.145 -0.056  0.01 ]\n",
      "Loaded the voice encoder model on cpu in 0.00 seconds.\n",
      "dataset/uvr-mdx-net-split/vocals_chunks/019  Passenger - Let Her Go_(Vocals)_UVR-MDX-NET-Inst_HQ_3-chunk-12.mp3\n",
      "[0.125 0.214 0.202 ... 0.036 0.291 0.042]\n",
      "Loaded the voice encoder model on cpu in 0.00 seconds.\n",
      "dataset/uvr-mdx-net-split/vocals_chunks/092  Fifth Harmony - Miss Movin On_(Vocals)_UVR-MDX-NET-Inst_HQ_3-chunk-13.mp3\n",
      "[ 0.058  0.116  0.119 ... -0.12  -0.081  0.032]\n",
      "Loaded the voice encoder model on cpu in 0.00 seconds.\n",
      "dataset/uvr-mdx-net-split/vocals_chunks/045  Chris Young - Aw Naw_(Vocals)_UVR-MDX-NET-Inst_HQ_3-chunk-6.mp3\n",
      "[-0.013 -0.032 -0.036 ... -0.086  0.018  0.131]\n",
      "Loaded the voice encoder model on cpu in 0.00 seconds.\n",
      "dataset/uvr-mdx-net-split/vocals_chunks/009  Lady Gaga - Applause Official_(Vocals)_UVR-MDX-NET-Inst_HQ_3-chunk-7.mp3\n",
      "[0.017 0.046 0.063 ... 0.052 0.049 0.043]\n",
      "Loaded the voice encoder model on cpu in 0.00 seconds.\n",
      "dataset/uvr-mdx-net-split/vocals_chunks/062  Macklemore - White Walls Ft. Schoolboy Q Hollis_(Vocals)_UVR-MDX-NET-Inst_HQ_3-chunk-11.mp3\n",
      "[-0.015 -0.019  0.007 ...  0.    -0.024 -0.04 ]\n",
      "Loaded the voice encoder model on cpu in 0.00 seconds.\n",
      "dataset/uvr-mdx-net-split/vocals_chunks/004  Avicii - Wake Me Up_(Vocals)_UVR-MDX-NET-Inst_HQ_3-chunk-9.mp3\n",
      "[]\n",
      "Loaded the voice encoder model on cpu in 0.00 seconds.\n",
      "dataset/uvr-mdx-net-split/vocals_chunks/037  Jake Owen - Beachin'_(Vocals)_UVR-MDX-NET-Inst_HQ_3-chunk-10.mp3\n",
      "[-0.052 -0.1   -0.172 ...  0.133  0.1    0.027]\n",
      "Loaded the voice encoder model on cpu in 0.01 seconds.\n",
      "dataset/uvr-mdx-net-split/vocals_chunks/014  Michael Jackson - Billie Jean (Live at Wembley 7-16-1988)_(Vocals)_UVR-MDX-NET-Inst_HQ_3-chunk-25.mp3\n",
      "[ 0.006  0.003 -0.003 ... -0.179 -0.08   0.022]\n",
      "Loaded the voice encoder model on cpu in 0.00 seconds.\n",
      "dataset/uvr-mdx-net-split/vocals_chunks/014  Michael Jackson - Billie Jean (Live at Wembley 7-16-1988)_(Vocals)_UVR-MDX-NET-Inst_HQ_3-chunk-31.mp3\n",
      "[-0.043 -0.046 -0.04  ...  0.013  0.006 -0.003]\n",
      "Loaded the voice encoder model on cpu in 0.00 seconds.\n",
      "dataset/uvr-mdx-net-split/vocals_chunks/083  Jake Owen - Days of Gold_(Vocals)_UVR-MDX-NET-Inst_HQ_3-chunk-2.mp3\n",
      "[-0.009 -0.01  -0.007 ... -0.03  -0.029 -0.021]\n",
      "Loaded the voice encoder model on cpu in 0.00 seconds.\n",
      "dataset/uvr-mdx-net-split/vocals_chunks/005  DJ Snake - Turn Down For What (Feat.Lil Jon)_(Vocals)_UVR-MDX-NET-Inst_HQ_3-chunk-6.mp3\n",
      "[0.002 0.001 0.003 ... 0.002 0.004 0.006]\n",
      "Loaded the voice encoder model on cpu in 0.00 seconds.\n",
      "dataset/uvr-mdx-net-split/vocals_chunks/022  Bruno Mars - Gorilla_(Vocals)_UVR-MDX-NET-Inst_HQ_3-chunk-3.mp3\n",
      "[ 0.015  0.076  0.127 ... -0.021 -0.027 -0.01 ]\n",
      "Loaded the voice encoder model on cpu in 0.01 seconds.\n",
      "dataset/uvr-mdx-net-split/vocals_chunks/081  BoB - Headband Ft 2 Chainz_(Vocals)_UVR-MDX-NET-Inst_HQ_3-chunk-6.mp3\n",
      "[-0.013 -0.014 -0.018 ... -0.011 -0.003  0.029]\n",
      "Loaded the voice encoder model on cpu in 0.00 seconds.\n",
      "dataset/uvr-mdx-net-split/vocals_chunks/014  Michael Jackson - Billie Jean (Live at Wembley 7-16-1988)_(Vocals)_UVR-MDX-NET-Inst_HQ_3-chunk-19.mp3\n",
      "[-0.007 -0.023 -0.067 ...  0.013 -0.007 -0.013]\n",
      "Loaded the voice encoder model on cpu in 0.01 seconds.\n",
      "dataset/uvr-mdx-net-split/vocals_chunks/054  Jason Derulo - Marry Me_(Vocals)_UVR-MDX-NET-Inst_HQ_3-chunk-6.mp3\n",
      "[-0.036 -0.068 -0.115 ... -0.127 -0.134 -0.088]\n",
      "Loaded the voice encoder model on cpu in 0.00 seconds.\n",
      "dataset/uvr-mdx-net-split/vocals_chunks/016  Imagine Dragons - Radioactive_(Vocals)_UVR-MDX-NET-Inst_HQ_3-chunk-2.mp3\n",
      "[-0.032 -0.039 -0.049 ... -0.021  0.026  0.028]\n",
      "Loaded the voice encoder model on cpu in 0.00 seconds.\n",
      "dataset/uvr-mdx-net-split/vocals_chunks/008  JAY Z ft Justin Timberlake - Holy Grail_(Vocals)_UVR-MDX-NET-Inst_HQ_3-chunk-20.mp3\n",
      "[ 0.024  0.034  0.005 ...  0.    -0.     0.   ]\n",
      "Loaded the voice encoder model on cpu in 0.01 seconds.\n",
      "dataset/uvr-mdx-net-split/vocals_chunks/027  5 Seconds Of Summer - She Looks So Perfect_(Vocals)_UVR-MDX-NET-Inst_HQ_3-chunk-4.mp3\n",
      "[ 0.016  0.028 -0.014 ... -0.014 -0.024  0.001]\n",
      "Loaded the voice encoder model on cpu in 0.00 seconds.\n",
      "dataset/uvr-mdx-net-split/vocals_chunks/021  Miley Cyrus - We Can't Stop_(Vocals)_UVR-MDX-NET-Inst_HQ_3-chunk-1.mp3\n",
      "[ 0.022  0.039 -0.015 ...  0.1    0.015  0.062]\n",
      "Loaded the voice encoder model on cpu in 0.00 seconds.\n"
     ]
    }
   ],
   "source": [
    "dir_path = \"dataset/uvr-mdx-net-split/vocals_chunks\"\n",
    "audio_files = [join(dir_path, f) for f in listdir(dir_path) if \"mp3\" in f and isfile(join(dir_path, f))]\n",
    "\n",
    "resemblyzer_vectors = []\n",
    "failed_files = []\n",
    "for f in audio_files:\n",
    "    try:\n",
    "        print(f)\n",
    "        wav = preprocess_wav(f)\n",
    "        print(wav)\n",
    "\n",
    "        encoder = VoiceEncoder()\n",
    "        embed = encoder.embed_utterance(wav)\n",
    "        np.set_printoptions(precision=3, suppress=True)\n",
    "        resemblyzer_vectors.append(embed)\n",
    "    except:\n",
    "        failed_files.append(f)\n",
    "\n",
    "resemblyzer_vectors = np.array(resemblyzer_vectors)\n",
    "print(resemblyzer_vectors.shape)\n",
    "print(\"Failed Files: \")\n",
    "print(failed_files)"
   ]
  },
  {
   "cell_type": "code",
   "execution_count": null,
   "metadata": {},
   "outputs": [
    {
     "name": "stdout",
     "output_type": "stream",
     "text": [
      "[[0.    0.    0.01  ... 0.053 0.057 0.007]\n",
      " [0.    0.012 0.    ... 0.014 0.    0.013]\n",
      " [0.    0.007 0.151 ... 0.065 0.026 0.   ]\n",
      " ...\n",
      " [0.    0.033 0.015 ... 0.035 0.    0.   ]\n",
      " [0.    0.001 0.    ... 0.061 0.05  0.025]\n",
      " [0.    0.    0.006 ... 0.003 0.116 0.035]]\n"
     ]
    }
   ],
   "source": [
    "print(resemblyzer_vectors)"
   ]
  },
  {
   "cell_type": "code",
   "execution_count": null,
   "metadata": {},
   "outputs": [],
   "source": [
    "file_path = \"resemblyzer_vectors.npy\"\n",
    "np.save(file_path, resemblyzer_vectors)"
   ]
  },
  {
   "cell_type": "code",
   "execution_count": null,
   "metadata": {},
   "outputs": [
    {
     "name": "stdout",
     "output_type": "stream",
     "text": [
      "(2201, 256)\n"
     ]
    }
   ],
   "source": [
    "resemblyzer_vectors = np.load(file_path)\n",
    "print(resemblyzer_vectors.shape)"
   ]
  }
 ],
 "metadata": {
  "kernelspec": {
   "display_name": "cs7643-finalproject",
   "language": "python",
   "name": "python3"
  },
  "language_info": {
   "codemirror_mode": {
    "name": "ipython",
    "version": 3
   },
   "file_extension": ".py",
   "mimetype": "text/x-python",
   "name": "python",
   "nbconvert_exporter": "python",
   "pygments_lexer": "ipython3",
   "version": "3.9.19"
  }
 },
 "nbformat": 4,
 "nbformat_minor": 2
}
