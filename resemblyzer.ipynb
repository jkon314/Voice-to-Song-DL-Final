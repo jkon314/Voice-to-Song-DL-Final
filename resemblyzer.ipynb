{
 "cells": [
  {
   "cell_type": "code",
   "execution_count": 1,
   "metadata": {},
   "outputs": [],
   "source": [
    "# import necessary libraries\n",
    "from resemblyzer import preprocess_wav, VoiceEncoder\n",
    "from  pathlib import Path \n",
    "from tqdm import tqdm \n",
    "import numpy as np \n",
    "from IPython.display import Audio \n",
    "from itertools import groupby\n",
    "import heapq\n",
    "import torchaudio as ta\n",
    "from os import listdir\n",
    "from os.path import isfile, join, basename\n",
    "from  pathlib import Path \n",
    "import numpy as np\n",
    "import torch"
   ]
  },
  {
   "cell_type": "code",
   "execution_count": 2,
   "metadata": {},
   "outputs": [
    {
     "ename": "FileNotFoundError",
     "evalue": "[Errno 2] No such file or directory: 'Tracks/vocals_chunks'",
     "output_type": "error",
     "traceback": [
      "\u001b[0;31m---------------------------------------------------------------------------\u001b[0m",
      "\u001b[0;31mFileNotFoundError\u001b[0m                         Traceback (most recent call last)",
      "Cell \u001b[0;32mIn[2], line 2\u001b[0m\n\u001b[1;32m      1\u001b[0m dir_path \u001b[38;5;241m=\u001b[39m \u001b[38;5;124m\"\u001b[39m\u001b[38;5;124mTracks/vocals_chunks\u001b[39m\u001b[38;5;124m\"\u001b[39m\n\u001b[0;32m----> 2\u001b[0m audio_files \u001b[38;5;241m=\u001b[39m [join(dir_path, f) \u001b[38;5;28;01mfor\u001b[39;00m f \u001b[38;5;129;01min\u001b[39;00m \u001b[43mlistdir\u001b[49m\u001b[43m(\u001b[49m\u001b[43mdir_path\u001b[49m\u001b[43m)\u001b[49m \u001b[38;5;28;01mif\u001b[39;00m \u001b[38;5;124m\"\u001b[39m\u001b[38;5;124mmp3\u001b[39m\u001b[38;5;124m\"\u001b[39m \u001b[38;5;129;01min\u001b[39;00m f \u001b[38;5;129;01mand\u001b[39;00m isfile(join(dir_path, f))]\n\u001b[1;32m      4\u001b[0m resemblyzer_vectors \u001b[38;5;241m=\u001b[39m []\n\u001b[1;32m      5\u001b[0m spectrograms \u001b[38;5;241m=\u001b[39m []\n",
      "\u001b[0;31mFileNotFoundError\u001b[0m: [Errno 2] No such file or directory: 'Tracks/vocals_chunks'"
     ]
    }
   ],
   "source": [
    "dir_path = \"Tracks/vocals_chunks\"\n",
    "audio_files = [join(dir_path, f) for f in listdir(dir_path) if \"mp3\" in f and isfile(join(dir_path, f))]\n",
    "\n",
    "resemblyzer_vectors = []\n",
    "spectrograms = []\n",
    "failed_files = []\n",
    "transform = ta.transforms.Spectrogram(158,158,1725)\n",
    "ta.transforms.Spectrogram()\n",
    "#use 158, 1725 to get 256 spec\n",
    "#audio_files = audio_files[0:2]\n",
    "\n",
    "import json\n",
    "audio_files = json.load('files.json')\n",
    "\n",
    "for f in audio_files:\n",
    "    try:\n",
    "        vocals = ta.load(f)\n",
    "        #print(vocals[0].shape)\n",
    "        mono = torch.mean(vocals[0],0,False)\n",
    "        #print(mono.shape)\n",
    "\n",
    "        #print(f)\n",
    "        wav = preprocess_wav(f)\n",
    "        print(wav)\n",
    "\n",
    "        #Get style encoding\n",
    "        encoder = VoiceEncoder()\n",
    "        embed = encoder.embed_utterance(wav)\n",
    "        np.set_printoptions(precision=3, suppress=True)\n",
    "\n",
    "        #Get Spectrogram\n",
    "        spec = transform(mono)\n",
    "\n",
    "        #Add spec and style embedding to appropriate arrays\n",
    "        resemblyzer_vectors.append(embed)\n",
    "        spectrograms.append(spec)\n",
    "    except:\n",
    "        print('failed :(')\n",
    "        failed_files.append(f)\n",
    "\n",
    "resemblyzer_vectors = np.array(resemblyzer_vectors)\n",
    "spectrograms = np.array(spectrograms)\n",
    "spectrograms = np.transpose(spectrograms,(0,2,1)) #reshape vectors to align with resemblyzer\n",
    "print(resemblyzer_vectors.shape)\n",
    "print(spectrograms.shape)\n",
    "print(\"Failed Files: \")\n",
    "print(failed_files)\n"
   ]
  },
  {
   "cell_type": "code",
   "execution_count": 36,
   "metadata": {},
   "outputs": [
    {
     "name": "stdout",
     "output_type": "stream",
     "text": [
      "[[0.    0.    0.003 ... 0.026 0.    0.   ]\n",
      " [0.    0.    0.001 ... 0.074 0.002 0.   ]\n",
      " [0.    0.    0.    ... 0.14  0.001 0.   ]\n",
      " ...\n",
      " [0.015 0.001 0.055 ... 0.003 0.1   0.059]\n",
      " [0.013 0.004 0.012 ... 0.006 0.077 0.079]\n",
      " [0.    0.    0.047 ... 0.    0.108 0.063]]\n"
     ]
    }
   ],
   "source": [
    "print(resemblyzer_vectors)"
   ]
  },
  {
   "cell_type": "code",
   "execution_count": 37,
   "metadata": {},
   "outputs": [],
   "source": [
    "file_path = \"resemblyzer_vectors_hf.npy\"\n",
    "fpath2 = \"spectrograms_hf.npy\"\n",
    "np.save(file_path, resemblyzer_vectors)\n",
    "np.save(fpath2,spectrograms)"
   ]
  },
  {
   "cell_type": "code",
   "execution_count": 38,
   "metadata": {},
   "outputs": [
    {
     "name": "stdout",
     "output_type": "stream",
     "text": [
      "(2201, 256)\n",
      "(2201, 256, 80)\n"
     ]
    }
   ],
   "source": [
    "resemblyzer_vectors = np.load(file_path)\n",
    "specs = np.load(fpath2)\n",
    "print(resemblyzer_vectors.shape)\n",
    "print(specs.shape)\n",
    "\n"
   ]
  }
 ],
 "metadata": {
  "kernelspec": {
   "display_name": "cs7643-finalproject",
   "language": "python",
   "name": "python3"
  },
  "language_info": {
   "codemirror_mode": {
    "name": "ipython",
    "version": 3
   },
   "file_extension": ".py",
   "mimetype": "text/x-python",
   "name": "python",
   "nbconvert_exporter": "python",
   "pygments_lexer": "ipython3",
   "version": "3.10.14"
  }
 },
 "nbformat": 4,
 "nbformat_minor": 2
}
