{
 "cells": [
  {
   "cell_type": "code",
   "execution_count": 1,
   "metadata": {},
   "outputs": [
    {
     "name": "stdout",
     "output_type": "stream",
     "text": [
      "Shape of style vectors is: (2681, 256) and singer spec shape is (2201, 256, 80)\n",
      "(256,)\n"
     ]
    }
   ],
   "source": [
    "#Import necessary modules and load data\n",
    "import numpy as np\n",
    "import torch\n",
    "from Model import Model \n",
    "\n",
    "BATCH_SIZE = 5\n",
    "\n",
    "style = np.load('speech_resemblyzer_vectors.npy')\n",
    "spec = np.load('spectrograms_80.npy')\n",
    "\n",
    "print(f'Shape of style vectors is: {style.shape} and singer spec shape is {spec.shape}')\n",
    "print(style[0,:].shape)"
   ]
  },
  {
   "cell_type": "code",
   "execution_count": 2,
   "metadata": {},
   "outputs": [
    {
     "name": "stdout",
     "output_type": "stream",
     "text": [
      "new style shape is: (5, 256) and new spec shape is: (5, 256, 80)\n"
     ]
    }
   ],
   "source": [
    "#Set a batch size so we don't run out of memory...\n",
    "\n",
    "\n",
    "style = style[0:BATCH_SIZE,:]\n",
    "spec  = spec[0:BATCH_SIZE,:,:]\n",
    "print(f'new style shape is: {style.shape} and new spec shape is: {spec.shape}')\n",
    "\n",
    "combined_in = (torch.tensor(spec).to('mps'),torch.tensor(style).to('mps'))"
   ]
  },
  {
   "cell_type": "code",
   "execution_count": 4,
   "metadata": {},
   "outputs": [
    {
     "name": "stdout",
     "output_type": "stream",
     "text": [
      "Spec:  torch.Size([10, 256, 1730])\n",
      "Encoder In:  torch.Size([10, 512, 1730])\n",
      "Encoder PASSED!\n",
      "Encoder Out:  torch.Size([10, 1730, 2])\n",
      "Decoder In:  torch.Size([10, 320, 1730])\n",
      "Decoder Out:  torch.Size([10, 256, 1730])\n",
      "Postnet Out:  torch.Size([10, 256, 1730])\n",
      "Style:  torch.Size([10, 256, 1])\n",
      "Encoded Postnet In:  torch.Size([10, 512, 1730])\n",
      "Encoded Postnet Out:  torch.Size([10, 1730, 2])\n",
      "MODEL PASSED!\n"
     ]
    },
    {
     "data": {
      "text/plain": [
       "tensor(1793.9924, device='mps:0', grad_fn=<AddBackward0>)"
      ]
     },
     "execution_count": 4,
     "metadata": {},
     "output_type": "execute_result"
    }
   ],
   "source": [
    "#attempt to do forward pass:\n",
    "\n",
    "from utils import criterion\n",
    "\n",
    "\n",
    "model = Model().to('mps')\n",
    "print(\"Spec: \", spec.shape)\n",
    "spec, encoder_output, decoder_out, postnet_out, encoded_postnet_out = model.forward(combined_in)\n",
    "\n",
    "\n",
    "# print(encoder_output.shape)\n",
    "# print(decoder_out.shape)\n",
    "# print(postnet_out.shape)\n",
    "# print(encoded_postnet_out.shape)\n",
    "\n",
    "\n",
    "\n"
   ]
  },
  {
   "cell_type": "code",
   "execution_count": null,
   "metadata": {},
   "outputs": [],
   "source": [
    "criterion(spec, encoder_output, decoder_out, postnet_out, encoded_postnet_out)\n"
   ]
  }
 ],
 "metadata": {
  "kernelspec": {
   "display_name": "cs7643-finalproject",
   "language": "python",
   "name": "python3"
  },
  "language_info": {
   "codemirror_mode": {
    "name": "ipython",
    "version": 3
   },
   "file_extension": ".py",
   "mimetype": "text/x-python",
   "name": "python",
   "nbconvert_exporter": "python",
   "pygments_lexer": "ipython3",
   "version": "3.10.14"
  }
 },
 "nbformat": 4,
 "nbformat_minor": 2
}
