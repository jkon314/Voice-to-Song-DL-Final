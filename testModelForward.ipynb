{
 "cells": [
  {
   "cell_type": "code",
   "execution_count": 4,
   "metadata": {},
   "outputs": [
    {
     "name": "stdout",
     "output_type": "stream",
     "text": [
      "Shape of style vectors is: (2681, 256) and singer spec shape is (2201, 256, 1730)\n"
     ]
    }
   ],
   "source": [
    "#Import necessary modules and load data\n",
    "import numpy as np\n",
    "import torch\n",
    "from Model import Model \n",
    "\n",
    "BATCH_SIZE = 10\n",
    "\n",
    "style = np.load('speech_resemblyzer_vectors.npy')\n",
    "spec = np.load('spectrograms.npy')\n",
    "\n",
    "print(f'Shape of style vectors is: {style.shape} and singer spec shape is {spec.shape}')"
   ]
  },
  {
   "cell_type": "code",
   "execution_count": 5,
   "metadata": {},
   "outputs": [
    {
     "name": "stdout",
     "output_type": "stream",
     "text": [
      "new style shape is: (10, 256) and new spec shape is: (10, 256, 1730)\n"
     ]
    }
   ],
   "source": [
    "#Set a batch size so we don't run out of memory...\n",
    "\n",
    "\n",
    "style = style[0:BATCH_SIZE,:]\n",
    "spec  = spec[0:BATCH_SIZE,:,:]\n",
    "print(f'new style shape is: {style.shape} and new spec shape is: {spec.shape}')\n",
    "\n",
    "combined_in = (torch.tensor(spec),torch.tensor(style))"
   ]
  },
  {
   "cell_type": "code",
   "execution_count": 6,
   "metadata": {},
   "outputs": [
    {
     "name": "stdout",
     "output_type": "stream",
     "text": [
      "Encoder PASSED!\n",
      "shape of fup is: torch.Size([10, 1718, 32]) shape of b_up is : torch.Size([10, 1718, 32]) and shape of style_dupe is : torch.Size([10, 1718, 256])\n",
      "decoder input shape is torch.Size([10, 320, 1718])\n",
      "Decoder PASSED!\n",
      "MODEL PASSED!\n",
      "torch.Size([10, 80, 1718])\n"
     ]
    }
   ],
   "source": [
    "#attempt to do forward pass:\n",
    "\n",
    "\n",
    "model = Model()\n",
    "\n",
    "postnetOuts = model.forward(combined_in)\n",
    "\n",
    "print(postnetOuts.shape)\n",
    "\n"
   ]
  }
 ],
 "metadata": {
  "kernelspec": {
   "display_name": "cs7643-finalproject",
   "language": "python",
   "name": "python3"
  },
  "language_info": {
   "codemirror_mode": {
    "name": "ipython",
    "version": 3
   },
   "file_extension": ".py",
   "mimetype": "text/x-python",
   "name": "python",
   "nbconvert_exporter": "python",
   "pygments_lexer": "ipython3",
   "version": "3.9.19"
  }
 },
 "nbformat": 4,
 "nbformat_minor": 2
}
