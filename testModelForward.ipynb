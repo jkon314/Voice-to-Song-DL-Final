{
 "cells": [
  {
   "cell_type": "code",
   "execution_count": 7,
   "metadata": {},
   "outputs": [
    {
     "name": "stdout",
     "output_type": "stream",
     "text": [
      "Shape of style vectors is: (2681, 256) and singer spec shape is (2201, 256, 80)\n",
      "(256,)\n"
     ]
    }
   ],
   "source": [
    "#Import necessary modules and load data\n",
    "import numpy as np\n",
    "import torch\n",
    "from Model import Model \n",
    "\n",
    "BATCH_SIZE = 5\n",
    "\n",
    "style = np.load('speech_resemblyzer_vectors.npy')\n",
    "spec = np.load('spectrograms_80.npy')\n",
    "\n",
    "print(f'Shape of style vectors is: {style.shape} and singer spec shape is {spec.shape}')\n",
    "print(style[0,:].shape)"
   ]
  },
  {
   "cell_type": "code",
   "execution_count": 4,
   "metadata": {},
   "outputs": [
    {
     "name": "stdout",
     "output_type": "stream",
     "text": [
      "new style shape is: (5, 256) and new spec shape is: (5, 256, 80)\n"
     ]
    }
   ],
   "source": [
    "#Set a batch size so we don't run out of memory...\n",
    "\n",
    "\n",
    "style = style[0:BATCH_SIZE,:]\n",
    "spec  = spec[0:BATCH_SIZE,:,:]\n",
    "print(f'new style shape is: {style.shape} and new spec shape is: {spec.shape}')\n",
    "\n",
    "combined_in = (torch.tensor(spec),torch.tensor(style))"
   ]
  },
  {
   "cell_type": "code",
   "execution_count": 3,
   "metadata": {},
   "outputs": [
    {
     "name": "stdout",
     "output_type": "stream",
     "text": [
      "Encoder PASSED!\n",
      "Decoder Done.\n",
      "MODEL PASSED!\n",
      "Shape of decoder out: torch.Size([5, 80, 500]) shape of forward/backward encoder out: torch.Size([5, 1000, 1]), shape of output wav: torch.Size([5, 80, 500]) shape of encoded postnet fwd/back: torch.Size([5, 1000, 1])\n"
     ]
    }
   ],
   "source": [
    "#attempt to do forward pass:\n",
    "\n",
    "\n",
    "model = Model()\n",
    "\n",
    "out = model.forward(combined_in)\n",
    "\n",
    "print(f'Shape of decoder out: {out[0].shape} shape of forward/backward encoder out: {out[1].shape}, shape of output wav: {out[2].shape} shape of encoded postnet fwd/back: {out[3].shape}')\n",
    "\n",
    "#1.) decoder output 2.) Encoder outputs 3.) postnetout (used to build new waveform) 4.)encoded_postnet: postnet output run through the encoder \n"
   ]
  }
 ],
 "metadata": {
  "kernelspec": {
   "display_name": "cs7643-finalproject",
   "language": "python",
   "name": "python3"
  },
  "language_info": {
   "codemirror_mode": {
    "name": "ipython",
    "version": 3
   },
   "file_extension": ".py",
   "mimetype": "text/x-python",
   "name": "python",
   "nbconvert_exporter": "python",
   "pygments_lexer": "ipython3",
   "version": "3.9.19"
  }
 },
 "nbformat": 4,
 "nbformat_minor": 2
}
