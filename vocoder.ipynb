{
 "cells": [
  {
   "cell_type": "code",
   "execution_count": 1,
   "metadata": {},
   "outputs": [
    {
     "name": "stdout",
     "output_type": "stream",
     "text": [
      "torch.Size([5, 3960])\n"
     ]
    }
   ],
   "source": [
    "import torch\n",
    "import numpy as np\n",
    "import os\n",
    "import soundfile as sf\n",
    "from Vocoder import Vocoder\n",
    "\n",
    "if __name__ == \"__main__\":\n",
    "    # Example batch of magnitude spectrograms of shape (N, 80, T)\n",
    "    N = 5  # Number of samples in the batch\n",
    "    T = 100  # Number of time bins\n",
    "    magnitude_spectrogram_batch = torch.rand(N, 80, T)\n",
    "\n",
    "    # Instantiate Vocoder\n",
    "    vocoder = Vocoder(n_fft=158, hop_length=40, win_length=158, num_iters=30)\n",
    "\n",
    "    # Output directory to save reconstructed waveforms\n",
    "    output_dir = \"output_waveforms\"\n",
    "\n",
    "    # Reconstruct waveforms from the batch of magnitude spectrograms\n",
    "    reconstructed_waveforms = vocoder.reconstruct(magnitude_spectrogram_batch, output_dir, sample_rate=16000)\n",
    "\n",
    "    # Print the shape of the reconstructed waveforms\n",
    "    print(reconstructed_waveforms.shape)\n"
   ]
  }
 ],
 "metadata": {
  "kernelspec": {
   "display_name": "Python 3.9.19 ('cs7643-finalproject')",
   "language": "python",
   "name": "python3"
  },
  "language_info": {
   "codemirror_mode": {
    "name": "ipython",
    "version": 3
   },
   "file_extension": ".py",
   "mimetype": "text/x-python",
   "name": "python",
   "nbconvert_exporter": "python",
   "pygments_lexer": "ipython3",
   "version": "3.9.19"
  },
  "orig_nbformat": 4,
  "vscode": {
   "interpreter": {
    "hash": "b318cc0a9b93c728b3b7b65ea17418aadcbb887a11db4ac09395b12b554738da"
   }
  }
 },
 "nbformat": 4,
 "nbformat_minor": 2
}
